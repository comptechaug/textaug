{
 "cells": [
  {
   "cell_type": "code",
   "execution_count": 67,
   "metadata": {},
   "outputs": [],
   "source": [
    "import pandas as pd\n",
    "import numpy as np\n",
    "import re"
   ]
  },
  {
   "cell_type": "code",
   "execution_count": 68,
   "metadata": {},
   "outputs": [],
   "source": [
    "df_pos = pd.read_csv('../data/twitts/positive.csv', sep=';', header=None).assign(positive=1)\n",
    "df_neg = pd.read_csv('../data/twitts/negative.csv', sep=';', header=None).assign(positive=0)"
   ]
  },
  {
   "cell_type": "code",
   "execution_count": 69,
   "metadata": {},
   "outputs": [
    {
     "data": {
      "text/plain": [
       "(114911, 13)"
      ]
     },
     "execution_count": 69,
     "metadata": {},
     "output_type": "execute_result"
    }
   ],
   "source": [
    "df_pos.shape"
   ]
  },
  {
   "cell_type": "code",
   "execution_count": 70,
   "metadata": {},
   "outputs": [
    {
     "data": {
      "text/plain": [
       "(111923, 13)"
      ]
     },
     "execution_count": 70,
     "metadata": {},
     "output_type": "execute_result"
    }
   ],
   "source": [
    "df_neg.shape"
   ]
  },
  {
   "cell_type": "code",
   "execution_count": 71,
   "metadata": {},
   "outputs": [
    {
     "data": {
      "text/html": [
       "<div>\n",
       "<style scoped>\n",
       "    .dataframe tbody tr th:only-of-type {\n",
       "        vertical-align: middle;\n",
       "    }\n",
       "\n",
       "    .dataframe tbody tr th {\n",
       "        vertical-align: top;\n",
       "    }\n",
       "\n",
       "    .dataframe thead th {\n",
       "        text-align: right;\n",
       "    }\n",
       "</style>\n",
       "<table border=\"1\" class=\"dataframe\">\n",
       "  <thead>\n",
       "    <tr style=\"text-align: right;\">\n",
       "      <th></th>\n",
       "      <th>3</th>\n",
       "      <th>positive</th>\n",
       "    </tr>\n",
       "  </thead>\n",
       "  <tbody>\n",
       "    <tr>\n",
       "      <th>0</th>\n",
       "      <td>@first_timee хоть я и школота, но поверь, у на...</td>\n",
       "      <td>1</td>\n",
       "    </tr>\n",
       "    <tr>\n",
       "      <th>1</th>\n",
       "      <td>Да, все-таки он немного похож на него. Но мой ...</td>\n",
       "      <td>1</td>\n",
       "    </tr>\n",
       "    <tr>\n",
       "      <th>2</th>\n",
       "      <td>RT @KatiaCheh: Ну ты идиотка) я испугалась за ...</td>\n",
       "      <td>1</td>\n",
       "    </tr>\n",
       "    <tr>\n",
       "      <th>3</th>\n",
       "      <td>RT @digger2912: \"Кто то в углу сидит и погибае...</td>\n",
       "      <td>1</td>\n",
       "    </tr>\n",
       "    <tr>\n",
       "      <th>4</th>\n",
       "      <td>@irina_dyshkant Вот что значит страшилка :D\\nН...</td>\n",
       "      <td>1</td>\n",
       "    </tr>\n",
       "    <tr>\n",
       "      <th>5</th>\n",
       "      <td>ну любишь или нет? — Я не знаю кто ты бля:D ht...</td>\n",
       "      <td>1</td>\n",
       "    </tr>\n",
       "    <tr>\n",
       "      <th>6</th>\n",
       "      <td>RT @SpoonLamer: Ох,900 :D ну это конечно же @t...</td>\n",
       "      <td>1</td>\n",
       "    </tr>\n",
       "    <tr>\n",
       "      <th>7</th>\n",
       "      <td>RT @veregijytaqo: У тебя есть ухажёр? Нет - мо...</td>\n",
       "      <td>1</td>\n",
       "    </tr>\n",
       "    <tr>\n",
       "      <th>8</th>\n",
       "      <td>Поприветствуем моего нового читателя @Alexey17...</td>\n",
       "      <td>1</td>\n",
       "    </tr>\n",
       "    <tr>\n",
       "      <th>9</th>\n",
       "      <td>Теперь у меня есть частичка Сиднея :) #Sydney ...</td>\n",
       "      <td>1</td>\n",
       "    </tr>\n",
       "    <tr>\n",
       "      <th>10</th>\n",
       "      <td>Люблю маму и папу!!!!а в остальное я так...-вл...</td>\n",
       "      <td>1</td>\n",
       "    </tr>\n",
       "    <tr>\n",
       "      <th>11</th>\n",
       "      <td>RT @dicyziqecida: Как-то я забыла, что вчера п...</td>\n",
       "      <td>1</td>\n",
       "    </tr>\n",
       "    <tr>\n",
       "      <th>12</th>\n",
       "      <td>@MrsRourke_s_tit @_vivante @dyu_bryun так было...</td>\n",
       "      <td>1</td>\n",
       "    </tr>\n",
       "    <tr>\n",
       "      <th>13</th>\n",
       "      <td>@Kruglova_Julia_  дааааа))\\nТы... Ты... Ты и т...</td>\n",
       "      <td>1</td>\n",
       "    </tr>\n",
       "    <tr>\n",
       "      <th>14</th>\n",
       "      <td>@Alex_Shvarz :)) О, нет. Вы ведь всё равно обз...</td>\n",
       "      <td>1</td>\n",
       "    </tr>\n",
       "    <tr>\n",
       "      <th>15</th>\n",
       "      <td>@Jyliaalex смотри там случайно в аспирантуру н...</td>\n",
       "      <td>1</td>\n",
       "    </tr>\n",
       "    <tr>\n",
       "      <th>16</th>\n",
       "      <td>RT @Abdullin_A_R: @LikhodedovaMary эхх, а в УГ...</td>\n",
       "      <td>1</td>\n",
       "    </tr>\n",
       "    <tr>\n",
       "      <th>17</th>\n",
       "      <td>@marinaysol а, а то подумала, что у тебя там п...</td>\n",
       "      <td>1</td>\n",
       "    </tr>\n",
       "    <tr>\n",
       "      <th>18</th>\n",
       "      <td>@xLesherx @4EU3 зря вы с этой хуйней шутите)) ...</td>\n",
       "      <td>1</td>\n",
       "    </tr>\n",
       "    <tr>\n",
       "      <th>19</th>\n",
       "      <td>@Moscow_advokat Очень главное спасибо for   МЕ...</td>\n",
       "      <td>1</td>\n",
       "    </tr>\n",
       "    <tr>\n",
       "      <th>20</th>\n",
       "      <td>У нас есть прекрасная история, как сдохнуть за...</td>\n",
       "      <td>1</td>\n",
       "    </tr>\n",
       "    <tr>\n",
       "      <th>21</th>\n",
       "      <td>@Benjamin1610 сегодня столько поводов выпить, ...</td>\n",
       "      <td>1</td>\n",
       "    </tr>\n",
       "    <tr>\n",
       "      <th>22</th>\n",
       "      <td>@StalinGulag унылый?...наверное...вдруг его пе...</td>\n",
       "      <td>1</td>\n",
       "    </tr>\n",
       "    <tr>\n",
       "      <th>23</th>\n",
       "      <td>RT @lumenso: @GruzdevVladimir @Sergey_Degtyrev...</td>\n",
       "      <td>1</td>\n",
       "    </tr>\n",
       "    <tr>\n",
       "      <th>24</th>\n",
       "      <td>Поприветствуем моего нового читателя @afyfglpr...</td>\n",
       "      <td>1</td>\n",
       "    </tr>\n",
       "    <tr>\n",
       "      <th>25</th>\n",
       "      <td>Как же хооорошо валяться, но мой бедный, обкол...</td>\n",
       "      <td>1</td>\n",
       "    </tr>\n",
       "    <tr>\n",
       "      <th>26</th>\n",
       "      <td>Хоть у кого то заебись всё) Настюх, рада за те...</td>\n",
       "      <td>1</td>\n",
       "    </tr>\n",
       "    <tr>\n",
       "      <th>27</th>\n",
       "      <td>да почему мне похуй то)\\nНоверное потому что е...</td>\n",
       "      <td>1</td>\n",
       "    </tr>\n",
       "    <tr>\n",
       "      <th>28</th>\n",
       "      <td>блин,хочется писать и писать))всякую хуйню пиш...</td>\n",
       "      <td>1</td>\n",
       "    </tr>\n",
       "    <tr>\n",
       "      <th>29</th>\n",
       "      <td>@JuliaLacoste_ @Kate_Craik а мне хотя бы расск...</td>\n",
       "      <td>1</td>\n",
       "    </tr>\n",
       "    <tr>\n",
       "      <th>...</th>\n",
       "      <td>...</td>\n",
       "      <td>...</td>\n",
       "    </tr>\n",
       "    <tr>\n",
       "      <th>226804</th>\n",
       "      <td>@Paul_maaan Дженсэна опять забыли т.т его за ч...</td>\n",
       "      <td>0</td>\n",
       "    </tr>\n",
       "    <tr>\n",
       "      <th>226805</th>\n",
       "      <td>когда мы первый раз встретились был дождь… я п...</td>\n",
       "      <td>0</td>\n",
       "    </tr>\n",
       "    <tr>\n",
       "      <th>226806</th>\n",
       "      <td>Чщпсщрщрссщрщрсшаааггввшвллидцяхьувзькдсьзцябх...</td>\n",
       "      <td>0</td>\n",
       "    </tr>\n",
       "    <tr>\n",
       "      <th>226807</th>\n",
       "      <td>А кто то на работу уже встает, а я вас заснуть...</td>\n",
       "      <td>0</td>\n",
       "    </tr>\n",
       "    <tr>\n",
       "      <th>226808</th>\n",
       "      <td>Утро началось с холода, не плохое начало(</td>\n",
       "      <td>0</td>\n",
       "    </tr>\n",
       "    <tr>\n",
       "      <th>226809</th>\n",
       "      <td>когда наплоюсь на пидораса и маньяка похож((((...</td>\n",
       "      <td>0</td>\n",
       "    </tr>\n",
       "    <tr>\n",
       "      <th>226810</th>\n",
       "      <td>@ChrisDryagina @Yulya_Plokhikh_ @Safonkaa ахах...</td>\n",
       "      <td>0</td>\n",
       "    </tr>\n",
       "    <tr>\n",
       "      <th>226811</th>\n",
       "      <td>почему я скучаю по Мише вообще всегда?Даж когд...</td>\n",
       "      <td>0</td>\n",
       "    </tr>\n",
       "    <tr>\n",
       "      <th>226812</th>\n",
       "      <td>все девушки мечтают о своем солнышке, а кругом...</td>\n",
       "      <td>0</td>\n",
       "    </tr>\n",
       "    <tr>\n",
       "      <th>226813</th>\n",
       "      <td>@darianovitskay я всю ночь не спала,засыпала м...</td>\n",
       "      <td>0</td>\n",
       "    </tr>\n",
       "    <tr>\n",
       "      <th>226814</th>\n",
       "      <td>Хочу на тренюю...Но на хоккей буду ходить толь...</td>\n",
       "      <td>0</td>\n",
       "    </tr>\n",
       "    <tr>\n",
       "      <th>226815</th>\n",
       "      <td>Как я устала , каждый день вставать в 7 утра и...</td>\n",
       "      <td>0</td>\n",
       "    </tr>\n",
       "    <tr>\n",
       "      <th>226816</th>\n",
       "      <td>http://t.co/1XBDaRHabI Длинная зеленая куртка ...</td>\n",
       "      <td>0</td>\n",
       "    </tr>\n",
       "    <tr>\n",
       "      <th>226817</th>\n",
       "      <td>Вчера в электричке дяденька рисовал мой портре...</td>\n",
       "      <td>0</td>\n",
       "    </tr>\n",
       "    <tr>\n",
       "      <th>226818</th>\n",
       "      <td>Бля, еще хренотень какая-то снилась всю ночь(</td>\n",
       "      <td>0</td>\n",
       "    </tr>\n",
       "    <tr>\n",
       "      <th>226819</th>\n",
       "      <td>я хочу спааать, но надо ещё на биологию идти(</td>\n",
       "      <td>0</td>\n",
       "    </tr>\n",
       "    <tr>\n",
       "      <th>226820</th>\n",
       "      <td>Мой мальчик заболел:( http://t.co/oMSLJ7Z2IX</td>\n",
       "      <td>0</td>\n",
       "    </tr>\n",
       "    <tr>\n",
       "      <th>226821</th>\n",
       "      <td>@LidiyaVlasova это точно ( походу давление ((</td>\n",
       "      <td>0</td>\n",
       "    </tr>\n",
       "    <tr>\n",
       "      <th>226822</th>\n",
       "      <td>RT @Russia_calls: Шлегель забанил за это((  ht...</td>\n",
       "      <td>0</td>\n",
       "    </tr>\n",
       "    <tr>\n",
       "      <th>226823</th>\n",
       "      <td>@alginova96 @Betyasso в школу все таки я пошла...</td>\n",
       "      <td>0</td>\n",
       "    </tr>\n",
       "    <tr>\n",
       "      <th>226824</th>\n",
       "      <td>@ivanenko14 и у меня также, только будильник е...</td>\n",
       "      <td>0</td>\n",
       "    </tr>\n",
       "    <tr>\n",
       "      <th>226825</th>\n",
       "      <td>Когда же я вернусь к тебе(( http://t.co/36qnCO...</td>\n",
       "      <td>0</td>\n",
       "    </tr>\n",
       "    <tr>\n",
       "      <th>226826</th>\n",
       "      <td>RT @qelasocadij: Скажите пожалуйста, как у чел...</td>\n",
       "      <td>0</td>\n",
       "    </tr>\n",
       "    <tr>\n",
       "      <th>226827</th>\n",
       "      <td>У нас физ ра на улице\\nПака линт:(\\nЧерез 45 м...</td>\n",
       "      <td>0</td>\n",
       "    </tr>\n",
       "    <tr>\n",
       "      <th>226828</th>\n",
       "      <td>Нас сегодня отказались принять в сад, типа мы ...</td>\n",
       "      <td>0</td>\n",
       "    </tr>\n",
       "    <tr>\n",
       "      <th>226829</th>\n",
       "      <td>Но не каждый хочет что то исправлять:( http://...</td>\n",
       "      <td>0</td>\n",
       "    </tr>\n",
       "    <tr>\n",
       "      <th>226830</th>\n",
       "      <td>скучаю так :-( только @taaannyaaa вправляет мо...</td>\n",
       "      <td>0</td>\n",
       "    </tr>\n",
       "    <tr>\n",
       "      <th>226831</th>\n",
       "      <td>Вот и в школу, в говно это идти уже надо(</td>\n",
       "      <td>0</td>\n",
       "    </tr>\n",
       "    <tr>\n",
       "      <th>226832</th>\n",
       "      <td>RT @_Them__: @LisaBeroud Тауриэль, не грусти :...</td>\n",
       "      <td>0</td>\n",
       "    </tr>\n",
       "    <tr>\n",
       "      <th>226833</th>\n",
       "      <td>Такси везет меня на работу. Раздумываю приплат...</td>\n",
       "      <td>0</td>\n",
       "    </tr>\n",
       "  </tbody>\n",
       "</table>\n",
       "<p>226834 rows × 2 columns</p>\n",
       "</div>"
      ],
      "text/plain": [
       "                                                        3  positive\n",
       "0       @first_timee хоть я и школота, но поверь, у на...         1\n",
       "1       Да, все-таки он немного похож на него. Но мой ...         1\n",
       "2       RT @KatiaCheh: Ну ты идиотка) я испугалась за ...         1\n",
       "3       RT @digger2912: \"Кто то в углу сидит и погибае...         1\n",
       "4       @irina_dyshkant Вот что значит страшилка :D\\nН...         1\n",
       "5       ну любишь или нет? — Я не знаю кто ты бля:D ht...         1\n",
       "6       RT @SpoonLamer: Ох,900 :D ну это конечно же @t...         1\n",
       "7       RT @veregijytaqo: У тебя есть ухажёр? Нет - мо...         1\n",
       "8       Поприветствуем моего нового читателя @Alexey17...         1\n",
       "9       Теперь у меня есть частичка Сиднея :) #Sydney ...         1\n",
       "10      Люблю маму и папу!!!!а в остальное я так...-вл...         1\n",
       "11      RT @dicyziqecida: Как-то я забыла, что вчера п...         1\n",
       "12      @MrsRourke_s_tit @_vivante @dyu_bryun так было...         1\n",
       "13      @Kruglova_Julia_  дааааа))\\nТы... Ты... Ты и т...         1\n",
       "14      @Alex_Shvarz :)) О, нет. Вы ведь всё равно обз...         1\n",
       "15      @Jyliaalex смотри там случайно в аспирантуру н...         1\n",
       "16      RT @Abdullin_A_R: @LikhodedovaMary эхх, а в УГ...         1\n",
       "17      @marinaysol а, а то подумала, что у тебя там п...         1\n",
       "18      @xLesherx @4EU3 зря вы с этой хуйней шутите)) ...         1\n",
       "19      @Moscow_advokat Очень главное спасибо for   МЕ...         1\n",
       "20      У нас есть прекрасная история, как сдохнуть за...         1\n",
       "21      @Benjamin1610 сегодня столько поводов выпить, ...         1\n",
       "22      @StalinGulag унылый?...наверное...вдруг его пе...         1\n",
       "23      RT @lumenso: @GruzdevVladimir @Sergey_Degtyrev...         1\n",
       "24      Поприветствуем моего нового читателя @afyfglpr...         1\n",
       "25      Как же хооорошо валяться, но мой бедный, обкол...         1\n",
       "26      Хоть у кого то заебись всё) Настюх, рада за те...         1\n",
       "27      да почему мне похуй то)\\nНоверное потому что е...         1\n",
       "28      блин,хочется писать и писать))всякую хуйню пиш...         1\n",
       "29      @JuliaLacoste_ @Kate_Craik а мне хотя бы расск...         1\n",
       "...                                                   ...       ...\n",
       "226804  @Paul_maaan Дженсэна опять забыли т.т его за ч...         0\n",
       "226805  когда мы первый раз встретились был дождь… я п...         0\n",
       "226806  Чщпсщрщрссщрщрсшаааггввшвллидцяхьувзькдсьзцябх...         0\n",
       "226807  А кто то на работу уже встает, а я вас заснуть...         0\n",
       "226808          Утро началось с холода, не плохое начало(         0\n",
       "226809  когда наплоюсь на пидораса и маньяка похож((((...         0\n",
       "226810  @ChrisDryagina @Yulya_Plokhikh_ @Safonkaa ахах...         0\n",
       "226811  почему я скучаю по Мише вообще всегда?Даж когд...         0\n",
       "226812  все девушки мечтают о своем солнышке, а кругом...         0\n",
       "226813  @darianovitskay я всю ночь не спала,засыпала м...         0\n",
       "226814  Хочу на тренюю...Но на хоккей буду ходить толь...         0\n",
       "226815  Как я устала , каждый день вставать в 7 утра и...         0\n",
       "226816  http://t.co/1XBDaRHabI Длинная зеленая куртка ...         0\n",
       "226817  Вчера в электричке дяденька рисовал мой портре...         0\n",
       "226818      Бля, еще хренотень какая-то снилась всю ночь(         0\n",
       "226819      я хочу спааать, но надо ещё на биологию идти(         0\n",
       "226820       Мой мальчик заболел:( http://t.co/oMSLJ7Z2IX         0\n",
       "226821      @LidiyaVlasova это точно ( походу давление ((         0\n",
       "226822  RT @Russia_calls: Шлегель забанил за это((  ht...         0\n",
       "226823  @alginova96 @Betyasso в школу все таки я пошла...         0\n",
       "226824  @ivanenko14 и у меня также, только будильник е...         0\n",
       "226825  Когда же я вернусь к тебе(( http://t.co/36qnCO...         0\n",
       "226826  RT @qelasocadij: Скажите пожалуйста, как у чел...         0\n",
       "226827  У нас физ ра на улице\\nПака линт:(\\nЧерез 45 м...         0\n",
       "226828  Нас сегодня отказались принять в сад, типа мы ...         0\n",
       "226829  Но не каждый хочет что то исправлять:( http://...         0\n",
       "226830  скучаю так :-( только @taaannyaaa вправляет мо...         0\n",
       "226831          Вот и в школу, в говно это идти уже надо(         0\n",
       "226832  RT @_Them__: @LisaBeroud Тауриэль, не грусти :...         0\n",
       "226833  Такси везет меня на работу. Раздумываю приплат...         0\n",
       "\n",
       "[226834 rows x 2 columns]"
      ]
     },
     "execution_count": 71,
     "metadata": {},
     "output_type": "execute_result"
    }
   ],
   "source": [
    "tweets = df_pos[[3,'positive']].append( df_neg[[3,'positive']] )\n",
    "tweets.reset_index(drop = True)"
   ]
  },
  {
   "cell_type": "code",
   "execution_count": 72,
   "metadata": {},
   "outputs": [
    {
     "data": {
      "text/html": [
       "<div>\n",
       "<style scoped>\n",
       "    .dataframe tbody tr th:only-of-type {\n",
       "        vertical-align: middle;\n",
       "    }\n",
       "\n",
       "    .dataframe tbody tr th {\n",
       "        vertical-align: top;\n",
       "    }\n",
       "\n",
       "    .dataframe thead th {\n",
       "        text-align: right;\n",
       "    }\n",
       "</style>\n",
       "<table border=\"1\" class=\"dataframe\">\n",
       "  <thead>\n",
       "    <tr style=\"text-align: right;\">\n",
       "      <th></th>\n",
       "      <th>3</th>\n",
       "      <th>positive</th>\n",
       "    </tr>\n",
       "  </thead>\n",
       "  <tbody>\n",
       "    <tr>\n",
       "      <th>0</th>\n",
       "      <td>@first_timee хоть я и школота, но поверь, у на...</td>\n",
       "      <td>1</td>\n",
       "    </tr>\n",
       "    <tr>\n",
       "      <th>1</th>\n",
       "      <td>Да, все-таки он немного похож на него. Но мой ...</td>\n",
       "      <td>1</td>\n",
       "    </tr>\n",
       "    <tr>\n",
       "      <th>2</th>\n",
       "      <td>RT @KatiaCheh: Ну ты идиотка) я испугалась за ...</td>\n",
       "      <td>1</td>\n",
       "    </tr>\n",
       "    <tr>\n",
       "      <th>3</th>\n",
       "      <td>RT @digger2912: \"Кто то в углу сидит и погибае...</td>\n",
       "      <td>1</td>\n",
       "    </tr>\n",
       "    <tr>\n",
       "      <th>4</th>\n",
       "      <td>@irina_dyshkant Вот что значит страшилка :D\\nН...</td>\n",
       "      <td>1</td>\n",
       "    </tr>\n",
       "    <tr>\n",
       "      <th>5</th>\n",
       "      <td>ну любишь или нет? — Я не знаю кто ты бля:D ht...</td>\n",
       "      <td>1</td>\n",
       "    </tr>\n",
       "    <tr>\n",
       "      <th>6</th>\n",
       "      <td>RT @SpoonLamer: Ох,900 :D ну это конечно же @t...</td>\n",
       "      <td>1</td>\n",
       "    </tr>\n",
       "    <tr>\n",
       "      <th>7</th>\n",
       "      <td>RT @veregijytaqo: У тебя есть ухажёр? Нет - мо...</td>\n",
       "      <td>1</td>\n",
       "    </tr>\n",
       "    <tr>\n",
       "      <th>8</th>\n",
       "      <td>Поприветствуем моего нового читателя @Alexey17...</td>\n",
       "      <td>1</td>\n",
       "    </tr>\n",
       "    <tr>\n",
       "      <th>9</th>\n",
       "      <td>Теперь у меня есть частичка Сиднея :) #Sydney ...</td>\n",
       "      <td>1</td>\n",
       "    </tr>\n",
       "    <tr>\n",
       "      <th>10</th>\n",
       "      <td>Люблю маму и папу!!!!а в остальное я так...-вл...</td>\n",
       "      <td>1</td>\n",
       "    </tr>\n",
       "    <tr>\n",
       "      <th>11</th>\n",
       "      <td>RT @dicyziqecida: Как-то я забыла, что вчера п...</td>\n",
       "      <td>1</td>\n",
       "    </tr>\n",
       "    <tr>\n",
       "      <th>12</th>\n",
       "      <td>@MrsRourke_s_tit @_vivante @dyu_bryun так было...</td>\n",
       "      <td>1</td>\n",
       "    </tr>\n",
       "    <tr>\n",
       "      <th>13</th>\n",
       "      <td>@Kruglova_Julia_  дааааа))\\nТы... Ты... Ты и т...</td>\n",
       "      <td>1</td>\n",
       "    </tr>\n",
       "    <tr>\n",
       "      <th>14</th>\n",
       "      <td>@Alex_Shvarz :)) О, нет. Вы ведь всё равно обз...</td>\n",
       "      <td>1</td>\n",
       "    </tr>\n",
       "  </tbody>\n",
       "</table>\n",
       "</div>"
      ],
      "text/plain": [
       "                                                    3  positive\n",
       "0   @first_timee хоть я и школота, но поверь, у на...         1\n",
       "1   Да, все-таки он немного похож на него. Но мой ...         1\n",
       "2   RT @KatiaCheh: Ну ты идиотка) я испугалась за ...         1\n",
       "3   RT @digger2912: \"Кто то в углу сидит и погибае...         1\n",
       "4   @irina_dyshkant Вот что значит страшилка :D\\nН...         1\n",
       "5   ну любишь или нет? — Я не знаю кто ты бля:D ht...         1\n",
       "6   RT @SpoonLamer: Ох,900 :D ну это конечно же @t...         1\n",
       "7   RT @veregijytaqo: У тебя есть ухажёр? Нет - мо...         1\n",
       "8   Поприветствуем моего нового читателя @Alexey17...         1\n",
       "9   Теперь у меня есть частичка Сиднея :) #Sydney ...         1\n",
       "10  Люблю маму и папу!!!!а в остальное я так...-вл...         1\n",
       "11  RT @dicyziqecida: Как-то я забыла, что вчера п...         1\n",
       "12  @MrsRourke_s_tit @_vivante @dyu_bryun так было...         1\n",
       "13  @Kruglova_Julia_  дааааа))\\nТы... Ты... Ты и т...         1\n",
       "14  @Alex_Shvarz :)) О, нет. Вы ведь всё равно обз...         1"
      ]
     },
     "execution_count": 72,
     "metadata": {},
     "output_type": "execute_result"
    }
   ],
   "source": [
    "tweets.head(15)"
   ]
  },
  {
   "cell_type": "markdown",
   "metadata": {},
   "source": [
    "Чистим датасет"
   ]
  },
  {
   "cell_type": "code",
   "execution_count": 7,
   "metadata": {},
   "outputs": [
    {
     "name": "stdout",
     "output_type": "stream",
     "text": [
      "Collecting git+https://github.com/nlpub/pymystem3\n",
      "  Cloning https://github.com/nlpub/pymystem3 to c:\\users\\zeni-\\appdata\\local\\temp\\pip-req-build-bpqbt816\n",
      "Requirement already satisfied (use --upgrade to upgrade): pymystem3==0.2.0 from git+https://github.com/nlpub/pymystem3 in l:\\program\\anaconda\\lib\\site-packages\n",
      "Requirement already satisfied: requests in l:\\program\\anaconda\\lib\\site-packages (from pymystem3==0.2.0) (2.22.0)\n",
      "Requirement already satisfied: chardet<3.1.0,>=3.0.2 in l:\\program\\anaconda\\lib\\site-packages (from requests->pymystem3==0.2.0) (3.0.4)\n",
      "Requirement already satisfied: certifi>=2017.4.17 in l:\\program\\anaconda\\lib\\site-packages (from requests->pymystem3==0.2.0) (2019.6.16)\n",
      "Requirement already satisfied: idna<2.9,>=2.5 in l:\\program\\anaconda\\lib\\site-packages (from requests->pymystem3==0.2.0) (2.8)\n",
      "Requirement already satisfied: urllib3!=1.25.0,!=1.25.1,<1.26,>=1.21.1 in l:\\program\\anaconda\\lib\\site-packages (from requests->pymystem3==0.2.0) (1.24.2)\n",
      "Building wheels for collected packages: pymystem3\n",
      "  Building wheel for pymystem3 (setup.py): started\n",
      "  Building wheel for pymystem3 (setup.py): finished with status 'done'\n",
      "  Stored in directory: C:\\Users\\Zeni-\\AppData\\Local\\Temp\\pip-ephem-wheel-cache-lcowru_a\\wheels\\7d\\75\\c2\\216a594291dee680749ce12c60d16125cfe1f363059e7163dc\n",
      "Successfully built pymystem3\n"
     ]
    },
    {
     "name": "stderr",
     "output_type": "stream",
     "text": [
      "  Running command git clone -q https://github.com/nlpub/pymystem3 'C:\\Users\\Zeni-\\AppData\\Local\\Temp\\pip-req-build-bpqbt816'\n"
     ]
    }
   ],
   "source": [
    "from nltk.stem.snowball import SnowballStemmer\n",
    "stemmer = SnowballStemmer(\"russian\")\n",
    "!pip install git+https://github.com/nlpub/pymystem3\n",
    "from pymystem3 import Mystem\n",
    "import re"
   ]
  },
  {
   "cell_type": "code",
   "execution_count": 73,
   "metadata": {},
   "outputs": [
    {
     "name": "stdout",
     "output_type": "stream",
     "text": [
      "да  все таки он немного похож на него  \n"
     ]
    }
   ],
   "source": [
    "def stemmer_lemmalisation(text):\n",
    "    new_text = \"\"\n",
    "    for word in[stemmer.stem(word) for word in text.split()]:\n",
    "          new_text += word + \" \"\n",
    "    return (new_text)\n",
    "\n",
    "def mystem_lemmalisation(text):\n",
    "    lemmas = Mystem().lemmatize(text)\n",
    "    return (''.join(lemmas))\n",
    "\n",
    "def standardize_text(text):\n",
    "    text = re.sub(r\"http\\S+\", r\"\", text)\n",
    "    text = re.sub(r'[\\W\\d]', r' ', text)\n",
    "    text = re.sub(r'_', r'', text)\n",
    "    text = text.lower()\n",
    "    return text\n",
    "\n",
    "def text_preparation(text, lemmatization = False, lemmatizer=stemmer_lemmalisation):\n",
    "    if lemmatization:\n",
    "        return lemmatizer(standardize_text(text))\n",
    "    else:\n",
    "        return standardize_text(text)\n",
    "\n",
    "# Проверим что все работает\n",
    "clear_tweets = text_preparation(\"ДА, ____все-таки____ он немного похож на него. http://t.co/6UreBbSRjA” ffffff\") \n",
    "print(clear_tweets)"
   ]
  },
  {
   "cell_type": "code",
   "execution_count": 75,
   "metadata": {},
   "outputs": [
    {
     "data": {
      "text/html": [
       "<div>\n",
       "<style scoped>\n",
       "    .dataframe tbody tr th:only-of-type {\n",
       "        vertical-align: middle;\n",
       "    }\n",
       "\n",
       "    .dataframe tbody tr th {\n",
       "        vertical-align: top;\n",
       "    }\n",
       "\n",
       "    .dataframe thead th {\n",
       "        text-align: right;\n",
       "    }\n",
       "</style>\n",
       "<table border=\"1\" class=\"dataframe\">\n",
       "  <thead>\n",
       "    <tr style=\"text-align: right;\">\n",
       "      <th></th>\n",
       "      <th>3</th>\n",
       "      <th>positive</th>\n",
       "      <th>preprocess_tweets</th>\n",
       "    </tr>\n",
       "  </thead>\n",
       "  <tbody>\n",
       "    <tr>\n",
       "      <th>0</th>\n",
       "      <td>@first_timee хоть я и школота, но поверь, у на...</td>\n",
       "      <td>1</td>\n",
       "      <td>firsttimee хот я и школот но повер у нас то же...</td>\n",
       "    </tr>\n",
       "    <tr>\n",
       "      <th>1</th>\n",
       "      <td>Да, все-таки он немного похож на него. Но мой ...</td>\n",
       "      <td>1</td>\n",
       "      <td>да все так он немн похож на нег но мо мальчик ...</td>\n",
       "    </tr>\n",
       "    <tr>\n",
       "      <th>2</th>\n",
       "      <td>RT @KatiaCheh: Ну ты идиотка) я испугалась за ...</td>\n",
       "      <td>1</td>\n",
       "      <td>rt katiacheh ну ты идиотк я испуга за теб</td>\n",
       "    </tr>\n",
       "    <tr>\n",
       "      <th>3</th>\n",
       "      <td>RT @digger2912: \"Кто то в углу сидит и погибае...</td>\n",
       "      <td>1</td>\n",
       "      <td>rt digger кто то в угл сид и погиба от голод а...</td>\n",
       "    </tr>\n",
       "    <tr>\n",
       "      <th>4</th>\n",
       "      <td>@irina_dyshkant Вот что значит страшилка :D\\nН...</td>\n",
       "      <td>1</td>\n",
       "      <td>irinadyshkant вот что знач страшилк d но блин ...</td>\n",
       "    </tr>\n",
       "    <tr>\n",
       "      <th>5</th>\n",
       "      <td>ну любишь или нет? — Я не знаю кто ты бля:D ht...</td>\n",
       "      <td>1</td>\n",
       "      <td>ну люб ил нет я не зна кто ты бля d</td>\n",
       "    </tr>\n",
       "    <tr>\n",
       "      <th>6</th>\n",
       "      <td>RT @SpoonLamer: Ох,900 :D ну это конечно же @t...</td>\n",
       "      <td>1</td>\n",
       "      <td>rt spoonlamer ох d ну эт конечн же twinkleayo ...</td>\n",
       "    </tr>\n",
       "    <tr>\n",
       "      <th>7</th>\n",
       "      <td>RT @veregijytaqo: У тебя есть ухажёр? Нет - мо...</td>\n",
       "      <td>1</td>\n",
       "      <td>rt veregijytaqo у теб ест ухажер нет мо уш не ...</td>\n",
       "    </tr>\n",
       "    <tr>\n",
       "      <th>8</th>\n",
       "      <td>Поприветствуем моего нового читателя @Alexey17...</td>\n",
       "      <td>1</td>\n",
       "      <td>поприветству мо нов читател alexey</td>\n",
       "    </tr>\n",
       "    <tr>\n",
       "      <th>9</th>\n",
       "      <td>Теперь у меня есть частичка Сиднея :) #Sydney ...</td>\n",
       "      <td>1</td>\n",
       "      <td>тепер у мен ест частичк сидне sydney sydneyope...</td>\n",
       "    </tr>\n",
       "    <tr>\n",
       "      <th>10</th>\n",
       "      <td>Люблю маму и папу!!!!а в остальное я так...-вл...</td>\n",
       "      <td>1</td>\n",
       "      <td>любл мам и пап а в остальн я так влюбля привяз...</td>\n",
       "    </tr>\n",
       "    <tr>\n",
       "      <th>11</th>\n",
       "      <td>RT @dicyziqecida: Как-то я забыла, что вчера п...</td>\n",
       "      <td>1</td>\n",
       "      <td>rt dicyziqecida как то я заб что вчер приеха и...</td>\n",
       "    </tr>\n",
       "    <tr>\n",
       "      <th>12</th>\n",
       "      <td>@MrsRourke_s_tit @_vivante @dyu_bryun так было...</td>\n",
       "      <td>1</td>\n",
       "      <td>mrsrourkestit vivante dyubryun так был задума да</td>\n",
       "    </tr>\n",
       "    <tr>\n",
       "      <th>13</th>\n",
       "      <td>@Kruglova_Julia_  дааааа))\\nТы... Ты... Ты и т...</td>\n",
       "      <td>1</td>\n",
       "      <td>kruglovajulia даааа ты ты ты и тольк ты</td>\n",
       "    </tr>\n",
       "    <tr>\n",
       "      <th>14</th>\n",
       "      <td>@Alex_Shvarz :)) О, нет. Вы ведь всё равно обз...</td>\n",
       "      <td>1</td>\n",
       "      <td>alexshvarz о нет вы вед все равн обзор уреза п...</td>\n",
       "    </tr>\n",
       "  </tbody>\n",
       "</table>\n",
       "</div>"
      ],
      "text/plain": [
       "                                                    3  positive  \\\n",
       "0   @first_timee хоть я и школота, но поверь, у на...         1   \n",
       "1   Да, все-таки он немного похож на него. Но мой ...         1   \n",
       "2   RT @KatiaCheh: Ну ты идиотка) я испугалась за ...         1   \n",
       "3   RT @digger2912: \"Кто то в углу сидит и погибае...         1   \n",
       "4   @irina_dyshkant Вот что значит страшилка :D\\nН...         1   \n",
       "5   ну любишь или нет? — Я не знаю кто ты бля:D ht...         1   \n",
       "6   RT @SpoonLamer: Ох,900 :D ну это конечно же @t...         1   \n",
       "7   RT @veregijytaqo: У тебя есть ухажёр? Нет - мо...         1   \n",
       "8   Поприветствуем моего нового читателя @Alexey17...         1   \n",
       "9   Теперь у меня есть частичка Сиднея :) #Sydney ...         1   \n",
       "10  Люблю маму и папу!!!!а в остальное я так...-вл...         1   \n",
       "11  RT @dicyziqecida: Как-то я забыла, что вчера п...         1   \n",
       "12  @MrsRourke_s_tit @_vivante @dyu_bryun так было...         1   \n",
       "13  @Kruglova_Julia_  дааааа))\\nТы... Ты... Ты и т...         1   \n",
       "14  @Alex_Shvarz :)) О, нет. Вы ведь всё равно обз...         1   \n",
       "\n",
       "                                    preprocess_tweets  \n",
       "0   firsttimee хот я и школот но повер у нас то же...  \n",
       "1   да все так он немн похож на нег но мо мальчик ...  \n",
       "2          rt katiacheh ну ты идиотк я испуга за теб   \n",
       "3   rt digger кто то в угл сид и погиба от голод а...  \n",
       "4   irinadyshkant вот что знач страшилк d но блин ...  \n",
       "5                ну люб ил нет я не зна кто ты бля d   \n",
       "6   rt spoonlamer ох d ну эт конечн же twinkleayo ...  \n",
       "7   rt veregijytaqo у теб ест ухажер нет мо уш не ...  \n",
       "8                 поприветству мо нов читател alexey   \n",
       "9   тепер у мен ест частичк сидне sydney sydneyope...  \n",
       "10  любл мам и пап а в остальн я так влюбля привяз...  \n",
       "11  rt dicyziqecida как то я заб что вчер приеха и...  \n",
       "12  mrsrourkestit vivante dyubryun так был задума да   \n",
       "13           kruglovajulia даааа ты ты ты и тольк ты   \n",
       "14  alexshvarz о нет вы вед все равн обзор уреза п...  "
      ]
     },
     "execution_count": 75,
     "metadata": {},
     "output_type": "execute_result"
    }
   ],
   "source": [
    "tweets['preprocess_tweets'] = tweets[3].apply(lambda x: text_preparation(x, True))\n",
    "tweets.head(15)"
   ]
  },
  {
   "cell_type": "code",
   "execution_count": 76,
   "metadata": {},
   "outputs": [],
   "source": [
    "from sklearn.feature_extraction.text import TfidfVectorizer"
   ]
  },
  {
   "cell_type": "code",
   "execution_count": 77,
   "metadata": {},
   "outputs": [],
   "source": [
    "vectorizer = TfidfVectorizer()"
   ]
  },
  {
   "cell_type": "code",
   "execution_count": 78,
   "metadata": {},
   "outputs": [],
   "source": [
    "X = vectorizer.fit_transform(tweets['preprocess_tweets'])"
   ]
  },
  {
   "cell_type": "code",
   "execution_count": 79,
   "metadata": {},
   "outputs": [],
   "source": [
    "y = tweets.positive"
   ]
  },
  {
   "cell_type": "code",
   "execution_count": 80,
   "metadata": {},
   "outputs": [
    {
     "data": {
      "text/plain": [
       "['aa',\n",
       " 'aaa',\n",
       " 'aaaa',\n",
       " 'aaaaa',\n",
       " 'aaaaaaaaaa',\n",
       " 'aaaaaaaaaaart',\n",
       " 'aaaaaahhhhhhwow',\n",
       " 'aaaasyaaa',\n",
       " 'aaabalakina',\n",
       " 'aaahaahaaaah',\n",
       " 'aaaidar',\n",
       " 'aaaiguuul',\n",
       " 'aaakristya',\n",
       " 'aaalsusha',\n",
       " 'aaamir',\n",
       " 'aaanx',\n",
       " 'aaarrrrrrrr',\n",
       " 'aaarutyunyan',\n",
       " 'aaaw',\n",
       " 'aabashev',\n",
       " 'aabdullaeva',\n",
       " 'aablyalimova',\n",
       " 'aaburnashov',\n",
       " 'aafadeeva',\n",
       " 'aaffectiotate',\n",
       " 'aafrolov',\n",
       " 'aafrolova',\n",
       " 'aag',\n",
       " 'aagafonova',\n",
       " 'aaidars',\n",
       " 'aakarimova',\n",
       " 'aakellah',\n",
       " 'aakuzichev',\n",
       " 'aaleksandrowna',\n",
       " 'aalello',\n",
       " 'aalexithymiaa',\n",
       " 'aalistok',\n",
       " 'aalivecorpse',\n",
       " 'aallanavaz',\n",
       " 'aallenov',\n",
       " 'aaloveann',\n",
       " 'aalykova',\n",
       " 'aalzhanova',\n",
       " 'aamerica',\n",
       " 'aammmmmmmm',\n",
       " 'aamnastya',\n",
       " 'aamooorr',\n",
       " 'aamygr',\n",
       " 'aan',\n",
       " 'aanaokay',\n",
       " 'aanaska',\n",
       " 'aanastasia',\n",
       " 'aanastasiaden',\n",
       " 'aanastasiav',\n",
       " 'aandrey',\n",
       " 'aandrianov',\n",
       " 'aandrushkas',\n",
       " 'aanechaev',\n",
       " 'aanisimovv',\n",
       " 'aanjkaa',\n",
       " 'aanneeeet',\n",
       " 'aannybarry',\n",
       " 'aanother',\n",
       " 'aanoufriev',\n",
       " 'aanvarova',\n",
       " 'aanxaa',\n",
       " 'aapogodina',\n",
       " 'aarnsartline',\n",
       " 'aaronpaul',\n",
       " 'aartpop',\n",
       " 'aas',\n",
       " 'aasexuality',\n",
       " 'aashirokov',\n",
       " 'aasokol',\n",
       " 'aastepanov',\n",
       " 'aasviridova',\n",
       " 'aat',\n",
       " 'aatemkin',\n",
       " 'aauncensored',\n",
       " 'aav',\n",
       " 'aavasilyeva',\n",
       " 'aavsasha',\n",
       " 'aavst',\n",
       " 'aaw',\n",
       " 'aaww',\n",
       " 'aaxaxaax',\n",
       " 'aazbaeva',\n",
       " 'ab',\n",
       " 'abachurin',\n",
       " 'abachurova',\n",
       " 'abaevart',\n",
       " 'abaigali',\n",
       " 'abaiguttiev',\n",
       " 'abaimovamar',\n",
       " 'abaituzelbai',\n",
       " 'abakan',\n",
       " 'abakanfest',\n",
       " 'abakanlondon',\n",
       " 'abakanskiy',\n",
       " 'abakarovich']"
      ]
     },
     "execution_count": 80,
     "metadata": {},
     "output_type": "execute_result"
    }
   ],
   "source": [
    "vectorizer.get_feature_names()[0:100]"
   ]
  },
  {
   "cell_type": "code",
   "execution_count": 41,
   "metadata": {},
   "outputs": [],
   "source": [
    "from sklearn.linear_model import LogisticRegression\n",
    "from sklearn.model_selection import train_test_split\n",
    "from sklearn.metrics import f1_score"
   ]
  },
  {
   "cell_type": "code",
   "execution_count": 34,
   "metadata": {},
   "outputs": [],
   "source": [
    "clf = LogisticRegression()\n",
    "X_train, X_test, y_train, y_test = train_test_split(X, y, test_size=0.33, random_state=42)"
   ]
  },
  {
   "cell_type": "code",
   "execution_count": 35,
   "metadata": {},
   "outputs": [
    {
     "name": "stderr",
     "output_type": "stream",
     "text": [
      "/home/nikitap/programs/anaconda3/lib/python3.7/site-packages/sklearn/linear_model/_logistic.py:939: ConvergenceWarning: lbfgs failed to converge (status=1):\n",
      "STOP: TOTAL NO. of ITERATIONS REACHED LIMIT.\n",
      "\n",
      "Increase the number of iterations (max_iter) or scale the data as shown in:\n",
      "    https://scikit-learn.org/stable/modules/preprocessing.html.\n",
      "Please also refer to the documentation for alternative solver options:\n",
      "    https://scikit-learn.org/stable/modules/linear_model.html#logistic-regression\n",
      "  extra_warning_msg=_LOGISTIC_SOLVER_CONVERGENCE_MSG)\n"
     ]
    },
    {
     "data": {
      "text/plain": [
       "LogisticRegression(C=1.0, class_weight=None, dual=False, fit_intercept=True,\n",
       "                   intercept_scaling=1, l1_ratio=None, max_iter=100,\n",
       "                   multi_class='auto', n_jobs=None, penalty='l2',\n",
       "                   random_state=None, solver='lbfgs', tol=0.0001, verbose=0,\n",
       "                   warm_start=False)"
      ]
     },
     "execution_count": 35,
     "metadata": {},
     "output_type": "execute_result"
    }
   ],
   "source": [
    "clf.fit(X_train, y_train)"
   ]
  },
  {
   "cell_type": "code",
   "execution_count": 36,
   "metadata": {},
   "outputs": [
    {
     "data": {
      "text/plain": [
       "(226834, 294600)"
      ]
     },
     "execution_count": 36,
     "metadata": {},
     "output_type": "execute_result"
    }
   ],
   "source": [
    "X.shape"
   ]
  },
  {
   "cell_type": "code",
   "execution_count": 38,
   "metadata": {},
   "outputs": [],
   "source": [
    "y_pred = clf.predict(X_test)"
   ]
  },
  {
   "cell_type": "code",
   "execution_count": 40,
   "metadata": {},
   "outputs": [
    {
     "data": {
      "text/plain": [
       "0.7577348509137544"
      ]
     },
     "execution_count": 40,
     "metadata": {},
     "output_type": "execute_result"
    }
   ],
   "source": [
    "(y_pred == y_test).sum()/len(y_pred)"
   ]
  },
  {
   "cell_type": "code",
   "execution_count": 42,
   "metadata": {},
   "outputs": [
    {
     "data": {
      "text/plain": [
       "0.7673598193783433"
      ]
     },
     "execution_count": 42,
     "metadata": {},
     "output_type": "execute_result"
    }
   ],
   "source": [
    "f1_score(y_pred, y_test)"
   ]
  },
  {
   "cell_type": "markdown",
   "metadata": {},
   "source": [
    "ок, хорошо\n",
    "\n",
    "теперь можно менять параметры"
   ]
  },
  {
   "cell_type": "code",
   "execution_count": 43,
   "metadata": {},
   "outputs": [],
   "source": [
    "from sklearn.model_selection import GridSearchCV"
   ]
  },
  {
   "cell_type": "code",
   "execution_count": 45,
   "metadata": {},
   "outputs": [],
   "source": [
    "gs = GridSearchCV(clf, {'penalty': ['l2']}, scoring='f1', cv=3)"
   ]
  },
  {
   "cell_type": "code",
   "execution_count": 46,
   "metadata": {},
   "outputs": [
    {
     "name": "stderr",
     "output_type": "stream",
     "text": [
      "/home/nikitap/programs/anaconda3/lib/python3.7/site-packages/sklearn/model_selection/_validation.py:536: FitFailedWarning: Estimator fit failed. The score on this train-test partition for these parameters will be set to nan. Details: \n",
      "ValueError: Solver lbfgs supports only 'l2' or 'none' penalties, got l1 penalty.\n",
      "\n",
      "  FitFailedWarning)\n"
     ]
    },
    {
     "data": {
      "text/plain": [
       "GridSearchCV(cv=3, error_score=nan,\n",
       "             estimator=LogisticRegression(C=1.0, class_weight=None, dual=False,\n",
       "                                          fit_intercept=True,\n",
       "                                          intercept_scaling=1, l1_ratio=None,\n",
       "                                          max_iter=100, multi_class='auto',\n",
       "                                          n_jobs=None, penalty='l2',\n",
       "                                          random_state=None, solver='lbfgs',\n",
       "                                          tol=0.0001, verbose=0,\n",
       "                                          warm_start=False),\n",
       "             iid='deprecated', n_jobs=None,\n",
       "             param_grid={'penalty': ['l2', 'l1']}, pre_dispatch='2*n_jobs',\n",
       "             refit=True, return_train_score=False, scoring='f1', verbose=0)"
      ]
     },
     "execution_count": 46,
     "metadata": {},
     "output_type": "execute_result"
    }
   ],
   "source": [
    "gs.fit(X_train, y_train)"
   ]
  },
  {
   "cell_type": "code",
   "execution_count": 50,
   "metadata": {},
   "outputs": [
    {
     "data": {
      "text/plain": [
       "{'penalty': 'l2'}"
      ]
     },
     "execution_count": 50,
     "metadata": {},
     "output_type": "execute_result"
    }
   ],
   "source": [
    "gs.best_params_"
   ]
  },
  {
   "cell_type": "code",
   "execution_count": 48,
   "metadata": {},
   "outputs": [],
   "source": [
    "y_pred = gs.best_estimator_.predict(X_test)"
   ]
  },
  {
   "cell_type": "code",
   "execution_count": 49,
   "metadata": {},
   "outputs": [
    {
     "data": {
      "text/plain": [
       "0.8591205954817431"
      ]
     },
     "execution_count": 49,
     "metadata": {},
     "output_type": "execute_result"
    }
   ],
   "source": [
    "f1_score(y_pred, y_test)"
   ]
  },
  {
   "cell_type": "markdown",
   "metadata": {},
   "source": [
    "получше"
   ]
  },
  {
   "cell_type": "code",
   "execution_count": 51,
   "metadata": {},
   "outputs": [
    {
     "data": {
      "text/plain": [
       "0.8556294752591642"
      ]
     },
     "execution_count": 51,
     "metadata": {},
     "output_type": "execute_result"
    }
   ],
   "source": [
    "from sklearn.metrics import accuracy_score\n",
    "accuracy_score(y_pred, y_test)"
   ]
  },
  {
   "cell_type": "code",
   "execution_count": null,
   "metadata": {},
   "outputs": [],
   "source": []
  }
 ],
 "metadata": {
  "kernelspec": {
   "display_name": "Python 3",
   "language": "python",
   "name": "python3"
  },
  "language_info": {
   "codemirror_mode": {
    "name": "ipython",
    "version": 3
   },
   "file_extension": ".py",
   "mimetype": "text/x-python",
   "name": "python",
   "nbconvert_exporter": "python",
   "pygments_lexer": "ipython3",
   "version": "3.7.3"
  }
 },
 "nbformat": 4,
 "nbformat_minor": 2
}
