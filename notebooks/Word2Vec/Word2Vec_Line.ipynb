{
  "nbformat": 4,
  "nbformat_minor": 0,
  "metadata": {
    "kernelspec": {
      "display_name": "Python 3",
      "language": "python",
      "name": "python3"
    },
    "language_info": {
      "codemirror_mode": {
        "name": "ipython",
        "version": 3
      },
      "file_extension": ".py",
      "mimetype": "text/x-python",
      "name": "python",
      "nbconvert_exporter": "python",
      "pygments_lexer": "ipython3",
      "version": "3.7.5"
    },
    "colab": {
      "name": "Word2Vec_Line.ipynb",
      "provenance": [],
      "collapsed_sections": []
    }
  },
  "cells": [
    {
      "cell_type": "markdown",
      "metadata": {
        "id": "FdhROEjAL6TJ",
        "colab_type": "text"
      },
      "source": [
        "# Word2Vec augmentations line"
      ]
    },
    {
      "cell_type": "code",
      "metadata": {
        "id": "KjjPGlIgMgDV",
        "colab_type": "code",
        "outputId": "9d8acfa4-96bf-43af-a5d9-5b1912b80693",
        "colab": {
          "base_uri": "https://localhost:8080/",
          "height": 130
        }
      },
      "source": [
        "from google.colab import drive\n",
        "drive.mount('/content/drive')"
      ],
      "execution_count": 0,
      "outputs": [
        {
          "output_type": "stream",
          "text": [
            "Go to this URL in a browser: https://accounts.google.com/o/oauth2/auth?client_id=947318989803-6bn6qk8qdgf4n4g3pfee6491hc0brc4i.apps.googleusercontent.com&redirect_uri=urn%3aietf%3awg%3aoauth%3a2.0%3aoob&response_type=code&scope=email%20https%3a%2f%2fwww.googleapis.com%2fauth%2fdocs.test%20https%3a%2f%2fwww.googleapis.com%2fauth%2fdrive%20https%3a%2f%2fwww.googleapis.com%2fauth%2fdrive.photos.readonly%20https%3a%2f%2fwww.googleapis.com%2fauth%2fpeopleapi.readonly\n",
            "\n",
            "Enter your authorization code:\n",
            "··········\n",
            "Mounted at /content/drive\n"
          ],
          "name": "stdout"
        }
      ]
    },
    {
      "cell_type": "code",
      "metadata": {
        "id": "pNnu7R6rMzeV",
        "colab_type": "code",
        "outputId": "44f0853a-7792-4970-bed6-3d97989f2a68",
        "colab": {
          "base_uri": "https://localhost:8080/",
          "height": 36
        }
      },
      "source": [
        "%cd drive/My\\ Drive/textaug/notebooks/Word2Vec"
      ],
      "execution_count": 0,
      "outputs": [
        {
          "output_type": "stream",
          "text": [
            "/content/drive/My Drive/textaug/notebooks/Word2Vec\n"
          ],
          "name": "stdout"
        }
      ]
    },
    {
      "cell_type": "code",
      "metadata": {
        "id": "cOugdOZJL6Tc",
        "colab_type": "code",
        "colab": {}
      },
      "source": [
        "import pandas as pd\n",
        "import numpy as np\n",
        "import re"
      ],
      "execution_count": 0,
      "outputs": []
    },
    {
      "cell_type": "markdown",
      "metadata": {
        "id": "zn3ZYtriL6Ud",
        "colab_type": "text"
      },
      "source": [
        "Подгрузить данные"
      ]
    },
    {
      "cell_type": "code",
      "metadata": {
        "id": "WM9GegmAL6Uq",
        "colab_type": "code",
        "colab": {}
      },
      "source": [
        "df_pos = pd.read_csv('../../data/twitts/positive.csv', sep=';', header=None).assign(positive=1)\n",
        "df_neg = pd.read_csv('../../data/twitts/negative.csv', sep=';', header=None).assign(positive=0)"
      ],
      "execution_count": 0,
      "outputs": []
    },
    {
      "cell_type": "markdown",
      "metadata": {
        "id": "4hurVDOHL6VR",
        "colab_type": "text"
      },
      "source": [
        "Объединить"
      ]
    },
    {
      "cell_type": "code",
      "metadata": {
        "id": "0b8JmnQWL6Ve",
        "colab_type": "code",
        "colab": {}
      },
      "source": [
        "tweets = df_pos[[3,'positive']].append( df_neg[[3,'positive']], ignore_index=True ).rename({3:'tweet'}, axis=1)"
      ],
      "execution_count": 0,
      "outputs": []
    },
    {
      "cell_type": "code",
      "metadata": {
        "id": "Y0m4ONmbL6WF",
        "colab_type": "code",
        "outputId": "646c6a3e-7ebe-45e0-ca27-3acb6a333fb0",
        "colab": {
          "base_uri": "https://localhost:8080/",
          "height": 520
        }
      },
      "source": [
        "tweets.head(15)"
      ],
      "execution_count": 0,
      "outputs": [
        {
          "output_type": "execute_result",
          "data": {
            "text/html": [
              "<div>\n",
              "<style scoped>\n",
              "    .dataframe tbody tr th:only-of-type {\n",
              "        vertical-align: middle;\n",
              "    }\n",
              "\n",
              "    .dataframe tbody tr th {\n",
              "        vertical-align: top;\n",
              "    }\n",
              "\n",
              "    .dataframe thead th {\n",
              "        text-align: right;\n",
              "    }\n",
              "</style>\n",
              "<table border=\"1\" class=\"dataframe\">\n",
              "  <thead>\n",
              "    <tr style=\"text-align: right;\">\n",
              "      <th></th>\n",
              "      <th>tweet</th>\n",
              "      <th>positive</th>\n",
              "    </tr>\n",
              "  </thead>\n",
              "  <tbody>\n",
              "    <tr>\n",
              "      <th>0</th>\n",
              "      <td>@first_timee хоть я и школота, но поверь, у на...</td>\n",
              "      <td>1</td>\n",
              "    </tr>\n",
              "    <tr>\n",
              "      <th>1</th>\n",
              "      <td>Да, все-таки он немного похож на него. Но мой ...</td>\n",
              "      <td>1</td>\n",
              "    </tr>\n",
              "    <tr>\n",
              "      <th>2</th>\n",
              "      <td>RT @KatiaCheh: Ну ты идиотка) я испугалась за ...</td>\n",
              "      <td>1</td>\n",
              "    </tr>\n",
              "    <tr>\n",
              "      <th>3</th>\n",
              "      <td>RT @digger2912: \"Кто то в углу сидит и погибае...</td>\n",
              "      <td>1</td>\n",
              "    </tr>\n",
              "    <tr>\n",
              "      <th>4</th>\n",
              "      <td>@irina_dyshkant Вот что значит страшилка :D\\nН...</td>\n",
              "      <td>1</td>\n",
              "    </tr>\n",
              "    <tr>\n",
              "      <th>5</th>\n",
              "      <td>ну любишь или нет? — Я не знаю кто ты бля:D ht...</td>\n",
              "      <td>1</td>\n",
              "    </tr>\n",
              "    <tr>\n",
              "      <th>6</th>\n",
              "      <td>RT @SpoonLamer: Ох,900 :D ну это конечно же @t...</td>\n",
              "      <td>1</td>\n",
              "    </tr>\n",
              "    <tr>\n",
              "      <th>7</th>\n",
              "      <td>RT @veregijytaqo: У тебя есть ухажёр? Нет - мо...</td>\n",
              "      <td>1</td>\n",
              "    </tr>\n",
              "    <tr>\n",
              "      <th>8</th>\n",
              "      <td>Поприветствуем моего нового читателя @Alexey17...</td>\n",
              "      <td>1</td>\n",
              "    </tr>\n",
              "    <tr>\n",
              "      <th>9</th>\n",
              "      <td>Теперь у меня есть частичка Сиднея :) #Sydney ...</td>\n",
              "      <td>1</td>\n",
              "    </tr>\n",
              "    <tr>\n",
              "      <th>10</th>\n",
              "      <td>Люблю маму и папу!!!!а в остальное я так...-вл...</td>\n",
              "      <td>1</td>\n",
              "    </tr>\n",
              "    <tr>\n",
              "      <th>11</th>\n",
              "      <td>RT @dicyziqecida: Как-то я забыла, что вчера п...</td>\n",
              "      <td>1</td>\n",
              "    </tr>\n",
              "    <tr>\n",
              "      <th>12</th>\n",
              "      <td>@MrsRourke_s_tit @_vivante @dyu_bryun так было...</td>\n",
              "      <td>1</td>\n",
              "    </tr>\n",
              "    <tr>\n",
              "      <th>13</th>\n",
              "      <td>@Kruglova_Julia_  дааааа))\\nТы... Ты... Ты и т...</td>\n",
              "      <td>1</td>\n",
              "    </tr>\n",
              "    <tr>\n",
              "      <th>14</th>\n",
              "      <td>@Alex_Shvarz :)) О, нет. Вы ведь всё равно обз...</td>\n",
              "      <td>1</td>\n",
              "    </tr>\n",
              "  </tbody>\n",
              "</table>\n",
              "</div>"
            ],
            "text/plain": [
              "                                                tweet  positive\n",
              "0   @first_timee хоть я и школота, но поверь, у на...         1\n",
              "1   Да, все-таки он немного похож на него. Но мой ...         1\n",
              "2   RT @KatiaCheh: Ну ты идиотка) я испугалась за ...         1\n",
              "3   RT @digger2912: \"Кто то в углу сидит и погибае...         1\n",
              "4   @irina_dyshkant Вот что значит страшилка :D\\nН...         1\n",
              "5   ну любишь или нет? — Я не знаю кто ты бля:D ht...         1\n",
              "6   RT @SpoonLamer: Ох,900 :D ну это конечно же @t...         1\n",
              "7   RT @veregijytaqo: У тебя есть ухажёр? Нет - мо...         1\n",
              "8   Поприветствуем моего нового читателя @Alexey17...         1\n",
              "9   Теперь у меня есть частичка Сиднея :) #Sydney ...         1\n",
              "10  Люблю маму и папу!!!!а в остальное я так...-вл...         1\n",
              "11  RT @dicyziqecida: Как-то я забыла, что вчера п...         1\n",
              "12  @MrsRourke_s_tit @_vivante @dyu_bryun так было...         1\n",
              "13  @Kruglova_Julia_  дааааа))\\nТы... Ты... Ты и т...         1\n",
              "14  @Alex_Shvarz :)) О, нет. Вы ведь всё равно обз...         1"
            ]
          },
          "metadata": {
            "tags": []
          },
          "execution_count": 6
        }
      ]
    },
    {
      "cell_type": "code",
      "metadata": {
        "id": "Z_o5vjfbL6Ww",
        "colab_type": "code",
        "colab": {}
      },
      "source": [
        "tweets = tweets.drop_duplicates() #важно, потому что дубликаты кажется есть"
      ],
      "execution_count": 0,
      "outputs": []
    },
    {
      "cell_type": "code",
      "metadata": {
        "id": "zIlAh7IcL6XQ",
        "colab_type": "code",
        "outputId": "9cc916eb-27f6-448f-a3ae-06bea6665713",
        "colab": {
          "base_uri": "https://localhost:8080/",
          "height": 73
        }
      },
      "source": [
        "tweets.positive.value_counts()"
      ],
      "execution_count": 0,
      "outputs": [
        {
          "output_type": "execute_result",
          "data": {
            "text/plain": [
              "1    110396\n",
              "0    107044\n",
              "Name: positive, dtype: int64"
            ]
          },
          "metadata": {
            "tags": []
          },
          "execution_count": 8
        }
      ]
    },
    {
      "cell_type": "markdown",
      "metadata": {
        "id": "TdtOjo_JL6Xr",
        "colab_type": "text"
      },
      "source": [
        "Убрать из данных характерные для твиттера вещи (RT, @ и т.д.)"
      ]
    },
    {
      "cell_type": "code",
      "metadata": {
        "id": "zHk8SbvGL6X2",
        "colab_type": "code",
        "colab": {}
      },
      "source": [
        "tweets.tweet = tweets['tweet'].apply(lambda x: re.sub('[\\Wa-zA-Z_\\d]+', ' ', x) )\n",
        "tweets.tweet = tweets['tweet'].apply(lambda x: x.lower().strip() )"
      ],
      "execution_count": 0,
      "outputs": []
    },
    {
      "cell_type": "markdown",
      "metadata": {
        "id": "IlblgGYPL6YW",
        "colab_type": "text"
      },
      "source": [
        "Немного пристальнее посмотреть на записи"
      ]
    },
    {
      "cell_type": "code",
      "metadata": {
        "id": "EBhUV1EWL6Yd",
        "colab_type": "code",
        "outputId": "2fbcb622-c4b5-4f11-a503-707d21bb2202",
        "colab": {
          "base_uri": "https://localhost:8080/",
          "height": 203
        }
      },
      "source": [
        "for i, v in zip(range(1,100), tweets['tweet'][50:60]):\n",
        "    print(i, v)"
      ],
      "execution_count": 0,
      "outputs": [
        {
          "output_type": "stream",
          "text": [
            "1 а стояк теперь снова стояк вселенная вернула все на свои места\n",
            "2 прифетигг солныско каг тфаи дила мну сичас фф больниську идеть к логопеду\n",
            "3 да нашла фоточку в иг и нагло спиздила ничего с фотографиями меня уже статусы в вконтакте бывают\n",
            "4 а у нас в нижнем слякотная погода брр но у нас офигенный привоз заходим заходим\n",
            "5 короче видимо ни в какой архитектурный я не иду там капец конечно\n",
            "6 ну в сделаешь тогда я дарья а ты\n",
            "7 плак плак надеюсь на драфте тогда их вытяну\n",
            "8 а моя кроме поорать еще просится на балкон хвост поморозить минуту посидит и назад просится\n",
            "9 каждому так болеть когда к тебе друзья в гости ходят\n",
            "10 мам мне так хреново выпей таблетку и на работу на следующей недели пойдем в сауну мама умеет поддержать и добавить стимула\n"
          ],
          "name": "stdout"
        }
      ]
    },
    {
      "cell_type": "markdown",
      "metadata": {
        "id": "zlZwXDxGL6Y3",
        "colab_type": "text"
      },
      "source": [
        "Прелестно.\n",
        "Пора переводить данные, но сначала разделю на train и test части, чтоб аугментировать только train"
      ]
    },
    {
      "cell_type": "code",
      "metadata": {
        "id": "4kb1yhhsL6ZA",
        "colab_type": "code",
        "colab": {}
      },
      "source": [
        "X = tweets.tweet\n",
        "y = tweets.positive"
      ],
      "execution_count": 0,
      "outputs": []
    },
    {
      "cell_type": "code",
      "metadata": {
        "id": "poLFR0Y9L6Zi",
        "colab_type": "code",
        "colab": {}
      },
      "source": [
        "from sklearn.model_selection import train_test_split\n",
        "X_train, X_test, y_train, y_test = train_test_split(X, y, test_size=0.25, random_state=42)"
      ],
      "execution_count": 0,
      "outputs": []
    },
    {
      "cell_type": "code",
      "metadata": {
        "id": "II1zs62mL6aH",
        "colab_type": "code",
        "outputId": "8ab26093-de10-461c-f9ad-559b809ce170",
        "colab": {
          "base_uri": "https://localhost:8080/",
          "height": 36
        }
      },
      "source": [
        "X_train.shape"
      ],
      "execution_count": 0,
      "outputs": [
        {
          "output_type": "execute_result",
          "data": {
            "text/plain": [
              "(163080,)"
            ]
          },
          "metadata": {
            "tags": []
          },
          "execution_count": 13
        }
      ]
    },
    {
      "cell_type": "markdown",
      "metadata": {
        "id": "_EPBfab0L6aj",
        "colab_type": "text"
      },
      "source": [
        "### W2V augmentation part"
      ]
    },
    {
      "cell_type": "code",
      "metadata": {
        "id": "1pmtXezaSAyd",
        "colab_type": "code",
        "outputId": "19a349ac-4507-4ee6-fa5c-33e38e9b8bfa",
        "colab": {
          "base_uri": "https://localhost:8080/",
          "height": 668
        }
      },
      "source": [
        "!pip install --upgrade gensim\n",
        "!pip install annoy"
      ],
      "execution_count": 0,
      "outputs": [
        {
          "output_type": "stream",
          "text": [
            "Collecting gensim\n",
            "\u001b[?25l  Downloading https://files.pythonhosted.org/packages/d1/dd/112bd4258cee11e0baaaba064060eb156475a42362e59e3ff28e7ca2d29d/gensim-3.8.1-cp36-cp36m-manylinux1_x86_64.whl (24.2MB)\n",
            "\u001b[K     |████████████████████████████████| 24.2MB 1.3MB/s \n",
            "\u001b[?25hRequirement already satisfied, skipping upgrade: smart-open>=1.8.1 in /usr/local/lib/python3.6/dist-packages (from gensim) (1.9.0)\n",
            "Requirement already satisfied, skipping upgrade: six>=1.5.0 in /usr/local/lib/python3.6/dist-packages (from gensim) (1.12.0)\n",
            "Requirement already satisfied, skipping upgrade: numpy>=1.11.3 in /usr/local/lib/python3.6/dist-packages (from gensim) (1.17.5)\n",
            "Requirement already satisfied, skipping upgrade: scipy>=0.18.1 in /usr/local/lib/python3.6/dist-packages (from gensim) (1.4.1)\n",
            "Requirement already satisfied, skipping upgrade: boto>=2.32 in /usr/local/lib/python3.6/dist-packages (from smart-open>=1.8.1->gensim) (2.49.0)\n",
            "Requirement already satisfied, skipping upgrade: boto3 in /usr/local/lib/python3.6/dist-packages (from smart-open>=1.8.1->gensim) (1.10.47)\n",
            "Requirement already satisfied, skipping upgrade: requests in /usr/local/lib/python3.6/dist-packages (from smart-open>=1.8.1->gensim) (2.21.0)\n",
            "Requirement already satisfied, skipping upgrade: s3transfer<0.3.0,>=0.2.0 in /usr/local/lib/python3.6/dist-packages (from boto3->smart-open>=1.8.1->gensim) (0.2.1)\n",
            "Requirement already satisfied, skipping upgrade: botocore<1.14.0,>=1.13.47 in /usr/local/lib/python3.6/dist-packages (from boto3->smart-open>=1.8.1->gensim) (1.13.47)\n",
            "Requirement already satisfied, skipping upgrade: jmespath<1.0.0,>=0.7.1 in /usr/local/lib/python3.6/dist-packages (from boto3->smart-open>=1.8.1->gensim) (0.9.4)\n",
            "Requirement already satisfied, skipping upgrade: chardet<3.1.0,>=3.0.2 in /usr/local/lib/python3.6/dist-packages (from requests->smart-open>=1.8.1->gensim) (3.0.4)\n",
            "Requirement already satisfied, skipping upgrade: idna<2.9,>=2.5 in /usr/local/lib/python3.6/dist-packages (from requests->smart-open>=1.8.1->gensim) (2.8)\n",
            "Requirement already satisfied, skipping upgrade: certifi>=2017.4.17 in /usr/local/lib/python3.6/dist-packages (from requests->smart-open>=1.8.1->gensim) (2019.11.28)\n",
            "Requirement already satisfied, skipping upgrade: urllib3<1.25,>=1.21.1 in /usr/local/lib/python3.6/dist-packages (from requests->smart-open>=1.8.1->gensim) (1.24.3)\n",
            "Requirement already satisfied, skipping upgrade: docutils<0.16,>=0.10 in /usr/local/lib/python3.6/dist-packages (from botocore<1.14.0,>=1.13.47->boto3->smart-open>=1.8.1->gensim) (0.15.2)\n",
            "Requirement already satisfied, skipping upgrade: python-dateutil<3.0.0,>=2.1; python_version >= \"2.7\" in /usr/local/lib/python3.6/dist-packages (from botocore<1.14.0,>=1.13.47->boto3->smart-open>=1.8.1->gensim) (2.6.1)\n",
            "Installing collected packages: gensim\n",
            "  Found existing installation: gensim 3.6.0\n",
            "    Uninstalling gensim-3.6.0:\n",
            "      Successfully uninstalled gensim-3.6.0\n",
            "Successfully installed gensim-3.8.1\n",
            "Collecting annoy\n",
            "\u001b[?25l  Downloading https://files.pythonhosted.org/packages/00/15/5a9db225ebda93a235aebd5e42bbf83ab7035e7e4783c6cb528c635c9afb/annoy-1.16.3.tar.gz (644kB)\n",
            "\u001b[K     |████████████████████████████████| 645kB 8.8MB/s \n",
            "\u001b[?25hBuilding wheels for collected packages: annoy\n",
            "  Building wheel for annoy (setup.py) ... \u001b[?25l\u001b[?25hdone\n",
            "  Created wheel for annoy: filename=annoy-1.16.3-cp36-cp36m-linux_x86_64.whl size=301865 sha256=24bbc8830eb2e0395f75d4f2ced9db1443a80da5985728f653339e8ddec17880\n",
            "  Stored in directory: /root/.cache/pip/wheels/f3/01/54/6ef760fe9f9fc6ba8c19cebbe6358212b5f3b5b0195c0b813f\n",
            "Successfully built annoy\n",
            "Installing collected packages: annoy\n",
            "Successfully installed annoy-1.16.3\n"
          ],
          "name": "stdout"
        }
      ]
    },
    {
      "cell_type": "code",
      "metadata": {
        "id": "wVUs-3GlL6aw",
        "colab_type": "code",
        "colab": {}
      },
      "source": [
        "from gensim.test.utils import datapath\n",
        "from gensim import utils\n",
        "import gensim.models"
      ],
      "execution_count": 0,
      "outputs": []
    },
    {
      "cell_type": "markdown",
      "metadata": {
        "id": "ZJrT3xuYL6bk",
        "colab_type": "text"
      },
      "source": [
        "Скачать файл с векторами [отсюда](http://panchenko.me/data/dsl-backup/w2v-ru/all.norm-sz100-w10-cb0-it1-min100.w2v)\n",
        "\n",
        "Я использую самый лёгкий файл, но в перспективе можно и более тяжёлые, всё лежит [здесь](https://nlpub.mipt.ru/Russian_Distributional_Thesaurus)"
      ]
    },
    {
      "cell_type": "code",
      "metadata": {
        "id": "wQClUd_KNeRO",
        "colab_type": "code",
        "outputId": "fa295e17-11c8-463e-e558-bb4e01d092b5",
        "colab": {
          "base_uri": "https://localhost:8080/",
          "height": 221
        }
      },
      "source": [
        "!wget -O mipt_vecs.w2v http://panchenko.me/data/dsl-backup/w2v-ru/all.norm-sz100-w10-cb0-it1-min100.w2v"
      ],
      "execution_count": 0,
      "outputs": [
        {
          "output_type": "stream",
          "text": [
            "--2020-01-30 02:10:19--  http://panchenko.me/data/dsl-backup/w2v-ru/all.norm-sz100-w10-cb0-it1-min100.w2v\n",
            "Resolving panchenko.me (panchenko.me)... 130.104.253.4\n",
            "Connecting to panchenko.me (panchenko.me)|130.104.253.4|:80... connected.\n",
            "HTTP request sent, awaiting response... 200 OK\n",
            "Length: 519958459 (496M)\n",
            "Saving to: ‘mipt_vecs.w2v’\n",
            "\n",
            "mipt_vecs.w2v       100%[===================>] 495.87M   486KB/s    in 17m 38s \n",
            "\n",
            "2020-01-30 02:27:58 (480 KB/s) - ‘mipt_vecs.w2v’ saved [519958459/519958459]\n",
            "\n"
          ],
          "name": "stdout"
        }
      ]
    },
    {
      "cell_type": "code",
      "metadata": {
        "id": "U9c9aG3UL6bv",
        "colab_type": "code",
        "colab": {}
      },
      "source": [
        "mipt_model = gensim.models.KeyedVectors.load_word2vec_format('mipt_vecs.w2v', binary=True, unicode_errors='ignore')"
      ],
      "execution_count": 0,
      "outputs": []
    },
    {
      "cell_type": "markdown",
      "metadata": {
        "id": "ZUTELWOVL6cI",
        "colab_type": "text"
      },
      "source": [
        "Напишу тупенькую функцию, чтоб аугментировать предложения, но сначала ещё кое-что"
      ]
    },
    {
      "cell_type": "code",
      "metadata": {
        "id": "gdNxa6sxL6cP",
        "colab_type": "code",
        "colab": {}
      },
      "source": [
        "X_w2v = X_train.copy()"
      ],
      "execution_count": 0,
      "outputs": []
    },
    {
      "cell_type": "code",
      "metadata": {
        "id": "rclUwgt6L6cm",
        "colab_type": "code",
        "colab": {}
      },
      "source": [
        "model = mipt_model"
      ],
      "execution_count": 0,
      "outputs": []
    },
    {
      "cell_type": "code",
      "metadata": {
        "id": "urIcSQpXL6c5",
        "colab_type": "code",
        "outputId": "a45b3653-788e-45be-b64f-6a7603752af5",
        "colab": {
          "base_uri": "https://localhost:8080/",
          "height": 74
        }
      },
      "source": [
        "from gensim.similarities.index import AnnoyIndexer #вопрос, может ли работать\n",
        "annoy_index = AnnoyIndexer(mipt_model, num_trees=20)"
      ],
      "execution_count": 0,
      "outputs": [
        {
          "output_type": "stream",
          "text": [
            "/usr/local/lib/python3.6/dist-packages/gensim/similarities/index.py:184: FutureWarning: The default argument for metric will be removed in future version of Annoy. Please pass metric='angular' explicitly.\n",
            "  index = AnnoyIndex(num_features)\n"
          ],
          "name": "stderr"
        }
      ]
    },
    {
      "cell_type": "markdown",
      "metadata": {
        "id": "PdC4H3-7L6dO",
        "colab_type": "text"
      },
      "source": [
        "Стандартный поиск наиболее похожего слова слишком долгий, поэтому буду пользоваться [`AnnoyIndexer`](https://radimrehurek.com/gensim/auto_examples/tutorials/run_annoy.html)"
      ]
    },
    {
      "cell_type": "markdown",
      "metadata": {
        "id": "ciqvVzKUL6dU",
        "colab_type": "text"
      },
      "source": [
        "Неисследованная опция `num_trees` кажется улучшает качество поиска похожего слова; если компьютер мощный, то можно попробовать поднять значение до `100-500`"
      ]
    },
    {
      "cell_type": "code",
      "metadata": {
        "id": "q3qSoT4xL6db",
        "colab_type": "code",
        "outputId": "800c974b-3b28-45b6-c9f4-785d64985c75",
        "colab": {
          "base_uri": "https://localhost:8080/",
          "height": 73
        }
      },
      "source": [
        "%timeit model.most_similar('слово', topn=2, indexer=annoy_index)\n",
        "%timeit model.most_similar('слово', topn=1)"
      ],
      "execution_count": 0,
      "outputs": [
        {
          "output_type": "stream",
          "text": [
            "The slowest run took 22.49 times longer than the fastest. This could mean that an intermediate result is being cached.\n",
            "10000 loops, best of 3: 62.8 µs per loop\n",
            "10 loops, best of 3: 76.9 ms per loop\n"
          ],
          "name": "stdout"
        }
      ]
    },
    {
      "cell_type": "code",
      "metadata": {
        "id": "37OTQa0WL6dv",
        "colab_type": "code",
        "outputId": "579c52bf-72f7-4e66-d500-6ee0c898fecd",
        "colab": {
          "base_uri": "https://localhost:8080/",
          "height": 54
        }
      },
      "source": [
        "print( 'Annoy:', model.most_similar('слово', topn=2, indexer=annoy_index) )\n",
        "print( 'Standard:', model.most_similar('слово', topn=2) )"
      ],
      "execution_count": 0,
      "outputs": [
        {
          "output_type": "stream",
          "text": [
            "Annoy: [('слово', 1.0), ('произнесено', 0.6672298312187195)]\n",
            "Standard: [('слово…', 0.8392893075942993), ('словечко', 0.7949840426445007)]\n"
          ],
          "name": "stdout"
        }
      ]
    },
    {
      "cell_type": "code",
      "metadata": {
        "id": "yypfI8AyL6eF",
        "colab_type": "code",
        "colab": {}
      },
      "source": [
        "import random\n",
        "def sen_aug_one_change(sen):\n",
        "    words = sen.split(' ')\n",
        "    indexes = list( range(len(words)) )\n",
        "    random.shuffle(indexes)\n",
        "    for i in indexes:\n",
        "        if words[i] in model:\n",
        "            words[i] = model.most_similar(words[i], topn=1)[0][0]\n",
        "            return ' '.join(words)\n",
        "    return sen  # no replacement was possible"
      ],
      "execution_count": 0,
      "outputs": []
    },
    {
      "cell_type": "code",
      "metadata": {
        "id": "MVTm5ebHL6eV",
        "colab_type": "code",
        "colab": {}
      },
      "source": [
        "import random\n",
        "def sen_aug_one_change_annoy(sen):\n",
        "    words = sen.split(' ')\n",
        "    indexes = list( range(len(words)) )\n",
        "    random.shuffle(indexes)\n",
        "    for i in indexes:\n",
        "        if words[i] in model:\n",
        "            words[i] = model.most_similar(words[i], topn=2, indexer=annoy_index)[1][0]\n",
        "            return ' '.join(words)\n",
        "    return sen  # no replacement was possible"
      ],
      "execution_count": 0,
      "outputs": []
    },
    {
      "cell_type": "code",
      "metadata": {
        "id": "CSmG78UHL6er",
        "colab_type": "code",
        "colab": {}
      },
      "source": [
        "import random\n",
        "def sen_aug_all_changes(sen):\n",
        "    words = sen.split(' ')\n",
        "    for i in range(len(words)):\n",
        "        if words[i] in model:\n",
        "            words[i] = model.most_similar(words[i], topn=3)[1][0]\n",
        "    return ' '.join(words)"
      ],
      "execution_count": 0,
      "outputs": []
    },
    {
      "cell_type": "code",
      "metadata": {
        "id": "tcO1hSdXL6e-",
        "colab_type": "code",
        "colab": {}
      },
      "source": [
        "import random\n",
        "def sen_aug_all_changes_annoy(sen):\n",
        "    words = sen.split(' ')\n",
        "    for i in range(len(words)):\n",
        "        if words[i] in model:\n",
        "            words[i] = model.most_similar(words[i], topn=3, indexer=annoy_index)[1][0]\n",
        "    return ' '.join(words)"
      ],
      "execution_count": 0,
      "outputs": []
    },
    {
      "cell_type": "markdown",
      "metadata": {
        "id": "lU008Sn0L6fR",
        "colab_type": "text"
      },
      "source": [
        "Пример полностью переделанных твитов, но для быстроты будем менять по одному слову"
      ]
    },
    {
      "cell_type": "code",
      "metadata": {
        "id": "C8zbIYI_L6fX",
        "colab_type": "code",
        "outputId": "ff3581e9-6a87-4ebc-aef7-c4020f8ba8d5",
        "colab": {
          "base_uri": "https://localhost:8080/",
          "height": 73
        }
      },
      "source": [
        "i = random.randint(0, len(tweets))\n",
        "print('Original tweet:', tweets.tweet[i])\n",
        "print('All change words:', sen_aug_all_changes(tweets.tweet[i]) )\n",
        "print('All change words (with annoy):', sen_aug_all_changes_annoy(tweets.tweet[i]) )"
      ],
      "execution_count": 0,
      "outputs": [
        {
          "output_type": "stream",
          "text": [
            "Original tweet: и не говори что не так\n",
            "All change words: как так молчи не так же\n",
            "All change words (with annoy): …меж только скажи ли только тоже\n"
          ],
          "name": "stdout"
        }
      ]
    },
    {
      "cell_type": "markdown",
      "metadata": {
        "id": "LU1E0Y5oL6fo",
        "colab_type": "text"
      },
      "source": [
        "Сравниваю функции по скорости работы"
      ]
    },
    {
      "cell_type": "code",
      "metadata": {
        "id": "7C0rHHX0L6fu",
        "colab_type": "code",
        "outputId": "9a267de9-2d2d-425e-d6e7-9187bbf18a4c",
        "colab": {
          "base_uri": "https://localhost:8080/",
          "height": 110
        }
      },
      "source": [
        "%timeit sen_aug_all_changes(X_w2v[0])\n",
        "%timeit sen_aug_all_changes_annoy(X_w2v[0])\n",
        "%timeit sen_aug_one_change(X_w2v[0])\n",
        "%timeit sen_aug_one_change_annoy(X_w2v[0])"
      ],
      "execution_count": 0,
      "outputs": [
        {
          "output_type": "stream",
          "text": [
            "1 loop, best of 3: 1.32 s per loop\n",
            "1000 loops, best of 3: 1.41 ms per loop\n",
            "10 loops, best of 3: 76.5 ms per loop\n",
            "The slowest run took 4.13 times longer than the fastest. This could mean that an intermediate result is being cached.\n",
            "10000 loops, best of 3: 146 µs per loop\n"
          ],
          "name": "stdout"
        }
      ]
    },
    {
      "cell_type": "markdown",
      "metadata": {
        "id": "BQNVTeBsL6gB",
        "colab_type": "text"
      },
      "source": [
        "С учётом количества данных в `X_w2v` = 163080, предпочитаю скорость качеству"
      ]
    },
    {
      "cell_type": "code",
      "metadata": {
        "scrolled": true,
        "id": "ptZi_2XuL6gJ",
        "colab_type": "code",
        "outputId": "ffe98f51-9eb4-4967-c7e5-0852b4e3b637",
        "colab": {
          "base_uri": "https://localhost:8080/",
          "height": 54
        }
      },
      "source": [
        "%time X_add = X_w2v.apply(lambda x: sen_aug_one_change_annoy(x))"
      ],
      "execution_count": 0,
      "outputs": [
        {
          "output_type": "stream",
          "text": [
            "CPU times: user 21 s, sys: 84.1 ms, total: 21 s\n",
            "Wall time: 21.1 s\n"
          ],
          "name": "stdout"
        }
      ]
    },
    {
      "cell_type": "markdown",
      "metadata": {
        "id": "M_35HZJiL6gd",
        "colab_type": "text"
      },
      "source": [
        "Примеры того, какие аугментации получились"
      ]
    },
    {
      "cell_type": "code",
      "metadata": {
        "id": "0ZrABGNNL6gh",
        "colab_type": "code",
        "outputId": "bcd66426-cec8-4dae-9926-01c6033d4bb7",
        "colab": {
          "base_uri": "https://localhost:8080/",
          "height": 853
        }
      },
      "source": [
        "n_tweets = 15\n",
        "ind = random.randint(n_tweets, len(X_w2v))\n",
        "for w2v,add in zip(X_w2v.values[ind-15:ind], X_add.values[ind-n_tweets:ind]):\n",
        "    print('Origin:', w2v)\n",
        "    print('Aug:', add )\n",
        "    print('__________')"
      ],
      "execution_count": 0,
      "outputs": [
        {
          "output_type": "stream",
          "text": [
            "Origin: у меня по географии одна а по обществу с историей обж физре ни одной\n",
            "Aug: у меня по географии одна а по обществу с рассказанной обж физре ни одной\n",
            "__________\n",
            "Origin: хахах а чего тебя протянуло то на такую тему ты же трезв или\n",
            "Aug: хахах а чего ты протянуло то на такую тему ты же трезв или\n",
            "__________\n",
            "Origin: и лифт не работает и зарядки мало на телефоне\n",
            "Aug: и лифт не работает и зарядки только на телефоне\n",
            "__________\n",
            "Origin: была дочкой стала сыном\n",
            "Aug: была дочкой прекратила сыном\n",
            "__________\n",
            "Origin: хорошо поиграли в мафию за одну ночь меня убили вылечили застрелили и маньяк оказался микрофилом\n",
            "Aug: хорошо поиграли в мафию за одну ночь меня убили вылечили застрелили прославившими маньяк оказался микрофилом\n",
            "__________\n",
            "Origin: хиатус древних вернется на экраны уже в году января\n",
            "Aug: хиатус древних вернется на экранов уже в году января\n",
            "__________\n",
            "Origin: как страшно вдруг это у нас психика сломана есть те кто ничего в этом плохого не видит\n",
            "Aug: как страшно вдруг это у нас психика сломана есть те кто ничего в этом винить не видит\n",
            "__________\n",
            "Origin: если в сексе новичок новичок новичок то поможет коньячок коньячок коньячок\n",
            "Aug: если и сексе новичок новичок новичок то поможет коньячок коньячок коньячок\n",
            "__________\n",
            "Origin: этот неловкий момент когда ты хочешь курить но ведь ты не куришь\n",
            "Aug: этот неловкий следующий когда ты хочешь курить но ведь ты не куришь\n",
            "__________\n",
            "Origin: мужик сказал и мужик сделал это два разных мужика\n",
            "Aug: парняга сказал и мужик сделал это два разных мужика\n",
            "__________\n",
            "Origin: никак не могу определиться что подарить ону мемебру от тайного санты три варианта не знаю что выбрать\n",
            "Aug: никак не могу определиться что подарить ону мемебру от тайной санты три варианта не знаю что выбрать\n",
            "__________\n",
            "Origin: трой сейчас на тамблере и проверяет тег тайлера ну не чудо ли\n",
            "Aug: клайд сейчас на тамблере и проверяет тег тайлера ну не чудо ли\n",
            "__________\n",
            "Origin: видео ну бля\n",
            "Aug: видео неа… бля\n",
            "__________\n",
            "Origin: очередной новый призрачный гонщик появится в комиксах на этот раз на спорт каре а не мотоцикле\n",
            "Aug: очередной новый призрачный гонщик появится в комикса на этот раз на спорт каре а не мотоцикле\n",
            "__________\n",
            "Origin: а тебе завтра нарисую а то у меня сегодня голова кружется\n",
            "Aug: а тебе завтра нарисуешь а то у меня сегодня голова кружется\n",
            "__________\n"
          ],
          "name": "stdout"
        }
      ]
    },
    {
      "cell_type": "code",
      "metadata": {
        "id": "aSRpc2e9L6g3",
        "colab_type": "code",
        "colab": {}
      },
      "source": [
        "X_train = X_w2v.append( X_add, ignore_index=True)"
      ],
      "execution_count": 0,
      "outputs": []
    },
    {
      "cell_type": "code",
      "metadata": {
        "id": "Wa2uW3vAL6hI",
        "colab_type": "code",
        "colab": {}
      },
      "source": [
        "y_train = y_train.append(y_train, ignore_index=True)"
      ],
      "execution_count": 0,
      "outputs": []
    },
    {
      "cell_type": "code",
      "metadata": {
        "id": "Be9bkfpQL6hY",
        "colab_type": "code",
        "outputId": "596e4230-8fc0-4efd-f4af-195c3c486939",
        "colab": {
          "base_uri": "https://localhost:8080/",
          "height": 36
        }
      },
      "source": [
        "print( X_train.shape[0], y_train.shape[0] )"
      ],
      "execution_count": 0,
      "outputs": [
        {
          "output_type": "stream",
          "text": [
            "326160 326160\n"
          ],
          "name": "stdout"
        }
      ]
    },
    {
      "cell_type": "markdown",
      "metadata": {
        "id": "96TppBz0L6hp",
        "colab_type": "text"
      },
      "source": [
        "Снова нужно вычистить дупликаты, сделаю это немного странно, т.к. нужно деражать правильные ответы"
      ]
    },
    {
      "cell_type": "code",
      "metadata": {
        "id": "jQyF16X0L6hu",
        "colab_type": "code",
        "colab": {}
      },
      "source": [
        "df_train = pd.DataFrame({'tweet': X_train.apply(lambda x: re.sub('(\\W+|\\d+|[A-Za-z]+|_+)', ' ', x) ), \n",
        "                         'positive': y_train})"
      ],
      "execution_count": 0,
      "outputs": []
    },
    {
      "cell_type": "code",
      "metadata": {
        "id": "-kQSaxdDL6h_",
        "colab_type": "code",
        "outputId": "46e55002-eedf-4d12-8601-21228cc06898",
        "colab": {
          "base_uri": "https://localhost:8080/",
          "height": 424
        }
      },
      "source": [
        "df_train"
      ],
      "execution_count": 0,
      "outputs": [
        {
          "output_type": "execute_result",
          "data": {
            "text/html": [
              "<div>\n",
              "<style scoped>\n",
              "    .dataframe tbody tr th:only-of-type {\n",
              "        vertical-align: middle;\n",
              "    }\n",
              "\n",
              "    .dataframe tbody tr th {\n",
              "        vertical-align: top;\n",
              "    }\n",
              "\n",
              "    .dataframe thead th {\n",
              "        text-align: right;\n",
              "    }\n",
              "</style>\n",
              "<table border=\"1\" class=\"dataframe\">\n",
              "  <thead>\n",
              "    <tr style=\"text-align: right;\">\n",
              "      <th></th>\n",
              "      <th>tweet</th>\n",
              "      <th>positive</th>\n",
              "    </tr>\n",
              "  </thead>\n",
              "  <tbody>\n",
              "    <tr>\n",
              "      <th>0</th>\n",
              "      <td>съехал с рельс и теперь заправляется кофе</td>\n",
              "      <td>0</td>\n",
              "    </tr>\n",
              "    <tr>\n",
              "      <th>1</th>\n",
              "      <td>так ведь никто не заставляет вляпываться то те...</td>\n",
              "      <td>0</td>\n",
              "    </tr>\n",
              "    <tr>\n",
              "      <th>2</th>\n",
              "      <td>к любви отношусь со смехом</td>\n",
              "      <td>1</td>\n",
              "    </tr>\n",
              "    <tr>\n",
              "      <th>3</th>\n",
              "      <td>интересно а мой брат в лет будет приезжать ко ...</td>\n",
              "      <td>1</td>\n",
              "    </tr>\n",
              "    <tr>\n",
              "      <th>4</th>\n",
              "      <td>бля мне этот сон не дает покоя он был таким ре...</td>\n",
              "      <td>0</td>\n",
              "    </tr>\n",
              "    <tr>\n",
              "      <th>...</th>\n",
              "      <td>...</td>\n",
              "      <td>...</td>\n",
              "    </tr>\n",
              "    <tr>\n",
              "      <th>326155</th>\n",
              "      <td>сибирь барнаул середина декабря близится а сне...</td>\n",
              "      <td>0</td>\n",
              "    </tr>\n",
              "    <tr>\n",
              "      <th>326156</th>\n",
              "      <td>кей я на электронную почту тебе лучше скину ка...</td>\n",
              "      <td>1</td>\n",
              "    </tr>\n",
              "    <tr>\n",
              "      <th>326157</th>\n",
              "      <td>гиляз ты же говорила что аа забила на это вот ...</td>\n",
              "      <td>0</td>\n",
              "    </tr>\n",
              "    <tr>\n",
              "      <th>326158</th>\n",
              "      <td>нге года интенс любимая в пролёте</td>\n",
              "      <td>0</td>\n",
              "    </tr>\n",
              "    <tr>\n",
              "      <th>326159</th>\n",
              "      <td>я не знаю что со мной но мне так охото побегат...</td>\n",
              "      <td>0</td>\n",
              "    </tr>\n",
              "  </tbody>\n",
              "</table>\n",
              "<p>326160 rows × 2 columns</p>\n",
              "</div>"
            ],
            "text/plain": [
              "                                                    tweet  positive\n",
              "0               съехал с рельс и теперь заправляется кофе         0\n",
              "1       так ведь никто не заставляет вляпываться то те...         0\n",
              "2                              к любви отношусь со смехом         1\n",
              "3       интересно а мой брат в лет будет приезжать ко ...         1\n",
              "4       бля мне этот сон не дает покоя он был таким ре...         0\n",
              "...                                                   ...       ...\n",
              "326155  сибирь барнаул середина декабря близится а сне...         0\n",
              "326156  кей я на электронную почту тебе лучше скину ка...         1\n",
              "326157  гиляз ты же говорила что аа забила на это вот ...         0\n",
              "326158                  нге года интенс любимая в пролёте         0\n",
              "326159  я не знаю что со мной но мне так охото побегат...         0\n",
              "\n",
              "[326160 rows x 2 columns]"
            ]
          },
          "metadata": {
            "tags": []
          },
          "execution_count": 34
        }
      ]
    },
    {
      "cell_type": "code",
      "metadata": {
        "id": "Ha4SVUidL6iP",
        "colab_type": "code",
        "colab": {}
      },
      "source": [
        "df_train = df_train.drop_duplicates()"
      ],
      "execution_count": 0,
      "outputs": []
    },
    {
      "cell_type": "code",
      "metadata": {
        "id": "KGBo92yfL6ig",
        "colab_type": "code",
        "outputId": "f21bdb75-40ef-4bcd-d11e-4c281462dd09",
        "colab": {
          "base_uri": "https://localhost:8080/",
          "height": 36
        }
      },
      "source": [
        "len(df_train)"
      ],
      "execution_count": 0,
      "outputs": [
        {
          "output_type": "execute_result",
          "data": {
            "text/plain": [
              "317690"
            ]
          },
          "metadata": {
            "tags": []
          },
          "execution_count": 36
        }
      ]
    },
    {
      "cell_type": "code",
      "metadata": {
        "id": "j6nXvWSNL6iv",
        "colab_type": "code",
        "colab": {}
      },
      "source": [
        "X_train, y_train = df_train.tweet, df_train.positive"
      ],
      "execution_count": 0,
      "outputs": []
    },
    {
      "cell_type": "markdown",
      "metadata": {
        "id": "sRu5XUlEL6i_",
        "colab_type": "text"
      },
      "source": [
        "На всякий случай можно ещё раз почистить, ещё раз убрать все знаки препинания и цифры\n",
        "\n",
        "Но для начала нужно слить train и test, чтоб vectorize все строки, поэтому запоминаю `split_index`"
      ]
    },
    {
      "cell_type": "code",
      "metadata": {
        "id": "V1ibopuzL6jE",
        "colab_type": "code",
        "colab": {}
      },
      "source": [
        "split_index = X_train.shape[0]\n",
        "X = X_train.append(X_test).apply(lambda x: re.sub('(\\W+|\\d+|[A-Za-z]+|_+)', ' ', x) )"
      ],
      "execution_count": 0,
      "outputs": []
    },
    {
      "cell_type": "code",
      "metadata": {
        "id": "BRiEl4csL6jT",
        "colab_type": "code",
        "outputId": "05ab55c2-8c7f-4ed8-e400-cc5903550a9a",
        "colab": {
          "base_uri": "https://localhost:8080/",
          "height": 221
        }
      },
      "source": [
        "X[split_index-10:split_index]"
      ],
      "execution_count": 0,
      "outputs": [
        {
          "output_type": "execute_result",
          "data": {
            "text/plain": [
              "326150             бедняга латифа издвается над ним наверно\n",
              "326151    нет тортиков есть мамины рафаэлки и армяне леп...\n",
              "326152    ты про случай в туалете ну мы просто случайно ...\n",
              "326153                            анна не придёт бедапечаль\n",
              "326154    написать что ли пост о войне с хаскеля прежнем...\n",
              "326155    сибирь барнаул середина декабря близится а сне...\n",
              "326156    кей я на электронную почту тебе лучше скину ка...\n",
              "326157    гиляз ты же говорила что аа забила на это вот ...\n",
              "326158                    нге года интенс любимая в пролёте\n",
              "326159    я не знаю что со мной но мне так охото побегат...\n",
              "Name: tweet, dtype: object"
            ]
          },
          "metadata": {
            "tags": []
          },
          "execution_count": 39
        }
      ]
    },
    {
      "cell_type": "code",
      "metadata": {
        "id": "LyeL-VkNL6jo",
        "colab_type": "code",
        "colab": {}
      },
      "source": [
        "assert len(X_test) + len(X_train) == len(X)"
      ],
      "execution_count": 0,
      "outputs": []
    },
    {
      "cell_type": "code",
      "metadata": {
        "id": "0P4ow3qlL6j6",
        "colab_type": "code",
        "outputId": "66d8cfc4-2dbe-4c83-d16d-3abecec51ecc",
        "colab": {
          "base_uri": "https://localhost:8080/",
          "height": 36
        }
      },
      "source": [
        "len(X)"
      ],
      "execution_count": 0,
      "outputs": [
        {
          "output_type": "execute_result",
          "data": {
            "text/plain": [
              "372050"
            ]
          },
          "metadata": {
            "tags": []
          },
          "execution_count": 41
        }
      ]
    },
    {
      "cell_type": "markdown",
      "metadata": {
        "id": "psIoL1-JL6kL",
        "colab_type": "text"
      },
      "source": [
        "Почищено, теперь векторизую"
      ]
    },
    {
      "cell_type": "code",
      "metadata": {
        "id": "UAL7dsaWL6kR",
        "colab_type": "code",
        "colab": {}
      },
      "source": [
        "from sklearn.feature_extraction.text import TfidfVectorizer\n",
        "vectorizer = TfidfVectorizer()\n",
        "X_vect = vectorizer.fit_transform(X)"
      ],
      "execution_count": 0,
      "outputs": []
    },
    {
      "cell_type": "markdown",
      "metadata": {
        "id": "ypCbRexLL6km",
        "colab_type": "text"
      },
      "source": [
        "Снова разделяю по split индексу"
      ]
    },
    {
      "cell_type": "code",
      "metadata": {
        "id": "0FXRdOqNL6ks",
        "colab_type": "code",
        "colab": {}
      },
      "source": [
        "X_vect_train, X_vect_test = X_vect[:split_index,], X_vect[split_index:,]"
      ],
      "execution_count": 0,
      "outputs": []
    },
    {
      "cell_type": "code",
      "metadata": {
        "id": "x91MUVzIL6k6",
        "colab_type": "code",
        "outputId": "4f39add0-575f-414f-bb0e-aef045bbecfb",
        "colab": {
          "base_uri": "https://localhost:8080/",
          "height": 54
        }
      },
      "source": [
        "print('Размеры верны:', X_vect_train.shape[0] == y_train.shape[0] )\n",
        "print('Размеры верны:', X_vect_test.shape[0] == y_test.shape[0] )"
      ],
      "execution_count": 0,
      "outputs": [
        {
          "output_type": "stream",
          "text": [
            "Размеры верны: True\n",
            "Размеры верны: True\n"
          ],
          "name": "stdout"
        }
      ]
    },
    {
      "cell_type": "code",
      "metadata": {
        "id": "eRGfsOpsL6lJ",
        "colab_type": "code",
        "outputId": "c3932483-33db-4f17-b2f7-9bef9275ed36",
        "colab": {
          "base_uri": "https://localhost:8080/",
          "height": 388
        }
      },
      "source": [
        "vectorizer.get_feature_names()[800:820]"
      ],
      "execution_count": 0,
      "outputs": [
        {
          "output_type": "execute_result",
          "data": {
            "text/plain": [
              "['автомобилем',\n",
              " 'автомобили',\n",
              " 'автомобилист',\n",
              " 'автомобилистам',\n",
              " 'автомобилистов',\n",
              " 'автомобилисты',\n",
              " 'автомобиль',\n",
              " 'автомобильной',\n",
              " 'автомобильном',\n",
              " 'автомобильные',\n",
              " 'автомобильный',\n",
              " 'автомобильчик',\n",
              " 'автомобильчиках',\n",
              " 'автомобиля',\n",
              " 'автомобилях',\n",
              " 'автомойка',\n",
              " 'автоновости',\n",
              " 'автономия',\n",
              " 'автономная',\n",
              " 'автономном']"
            ]
          },
          "metadata": {
            "tags": []
          },
          "execution_count": 45
        }
      ]
    },
    {
      "cell_type": "markdown",
      "metadata": {
        "id": "IxKYFeUXL6lb",
        "colab_type": "text"
      },
      "source": [
        "### Go учиться"
      ]
    },
    {
      "cell_type": "code",
      "metadata": {
        "id": "HHavgkLJL6lh",
        "colab_type": "code",
        "colab": {}
      },
      "source": [
        "from sklearn.linear_model import LogisticRegression\n",
        "from sklearn.model_selection import train_test_split\n",
        "from sklearn.metrics import f1_score, accuracy_score"
      ],
      "execution_count": 0,
      "outputs": []
    },
    {
      "cell_type": "code",
      "metadata": {
        "id": "1hLb7Fg-L6lu",
        "colab_type": "code",
        "colab": {}
      },
      "source": [
        "clf = LogisticRegression(max_iter=400)"
      ],
      "execution_count": 0,
      "outputs": []
    },
    {
      "cell_type": "code",
      "metadata": {
        "id": "R0sQ_2bOL6l_",
        "colab_type": "code",
        "outputId": "253df934-c576-4bf4-91d3-c5df02b43395",
        "colab": {
          "base_uri": "https://localhost:8080/",
          "height": 110
        }
      },
      "source": [
        "clf.fit(X_vect_train, y_train)"
      ],
      "execution_count": 0,
      "outputs": [
        {
          "output_type": "execute_result",
          "data": {
            "text/plain": [
              "LogisticRegression(C=1.0, class_weight=None, dual=False, fit_intercept=True,\n",
              "                   intercept_scaling=1, l1_ratio=None, max_iter=400,\n",
              "                   multi_class='auto', n_jobs=None, penalty='l2',\n",
              "                   random_state=None, solver='lbfgs', tol=0.0001, verbose=0,\n",
              "                   warm_start=False)"
            ]
          },
          "metadata": {
            "tags": []
          },
          "execution_count": 48
        }
      ]
    },
    {
      "cell_type": "code",
      "metadata": {
        "id": "rSNvOiBjL6mP",
        "colab_type": "code",
        "colab": {}
      },
      "source": [
        "y_pred = clf.predict(X_vect_test)"
      ],
      "execution_count": 0,
      "outputs": []
    },
    {
      "cell_type": "code",
      "metadata": {
        "id": "P4yCyFfrL6me",
        "colab_type": "code",
        "outputId": "1e9d3c09-fbd9-44eb-f79a-6ee319be8544",
        "colab": {
          "base_uri": "https://localhost:8080/",
          "height": 36
        }
      },
      "source": [
        "y_pred.shape"
      ],
      "execution_count": 0,
      "outputs": [
        {
          "output_type": "execute_result",
          "data": {
            "text/plain": [
              "(54360,)"
            ]
          },
          "metadata": {
            "tags": []
          },
          "execution_count": 50
        }
      ]
    },
    {
      "cell_type": "code",
      "metadata": {
        "id": "9sa-TYnwL6mt",
        "colab_type": "code",
        "outputId": "fdeda129-3be6-4ace-95a7-b6f1f11ce62a",
        "colab": {
          "base_uri": "https://localhost:8080/",
          "height": 36
        }
      },
      "source": [
        "accuracy_score(y_pred, y_test)"
      ],
      "execution_count": 0,
      "outputs": [
        {
          "output_type": "execute_result",
          "data": {
            "text/plain": [
              "0.7332781456953642"
            ]
          },
          "metadata": {
            "tags": []
          },
          "execution_count": 51
        }
      ]
    },
    {
      "cell_type": "code",
      "metadata": {
        "id": "YaXcvce1L6m-",
        "colab_type": "code",
        "outputId": "b010e2db-8b99-42c3-a9f1-b7259c5e751a",
        "colab": {
          "base_uri": "https://localhost:8080/",
          "height": 36
        }
      },
      "source": [
        "f1_score(y_pred, y_test)"
      ],
      "execution_count": 0,
      "outputs": [
        {
          "output_type": "execute_result",
          "data": {
            "text/plain": [
              "0.7440735706846945"
            ]
          },
          "metadata": {
            "tags": []
          },
          "execution_count": 52
        }
      ]
    },
    {
      "cell_type": "markdown",
      "metadata": {
        "id": "mLPTsC2RL6nP",
        "colab_type": "text"
      },
      "source": [
        "ок, хорошо\n",
        "\n",
        "теперь можно менять параметры"
      ]
    },
    {
      "cell_type": "code",
      "metadata": {
        "id": "7hDwtp9hL6nW",
        "colab_type": "code",
        "colab": {}
      },
      "source": [
        "from sklearn.model_selection import RandomizedSearchCV"
      ],
      "execution_count": 0,
      "outputs": []
    },
    {
      "cell_type": "code",
      "metadata": {
        "id": "2FRV1Ee2L6nn",
        "colab_type": "code",
        "colab": {}
      },
      "source": [
        "gs = RandomizedSearchCV(clf, {'C': [0.8, 0.9, 1., 1.1, 1.2, 1.25, 1.35, 1.4]}, cv=2, verbose=1)"
      ],
      "execution_count": 0,
      "outputs": []
    },
    {
      "cell_type": "code",
      "metadata": {
        "id": "XVjAswACL6n9",
        "colab_type": "code",
        "outputId": "5bc3a30c-1f60-4d30-a420-728003c5c64d",
        "colab": {
          "base_uri": "https://localhost:8080/",
          "height": 390
        }
      },
      "source": [
        "gs.fit(X_vect_train, y_train)"
      ],
      "execution_count": 0,
      "outputs": [
        {
          "output_type": "stream",
          "text": [
            "/usr/local/lib/python3.6/dist-packages/sklearn/model_selection/_search.py:281: UserWarning: The total space of parameters 8 is smaller than n_iter=10. Running 8 iterations. For exhaustive searches, use GridSearchCV.\n",
            "  % (grid_size, self.n_iter, grid_size), UserWarning)\n",
            "[Parallel(n_jobs=1)]: Using backend SequentialBackend with 1 concurrent workers.\n"
          ],
          "name": "stderr"
        },
        {
          "output_type": "stream",
          "text": [
            "Fitting 2 folds for each of 8 candidates, totalling 16 fits\n"
          ],
          "name": "stdout"
        },
        {
          "output_type": "stream",
          "text": [
            "[Parallel(n_jobs=1)]: Done  16 out of  16 | elapsed:  2.8min finished\n"
          ],
          "name": "stderr"
        },
        {
          "output_type": "execute_result",
          "data": {
            "text/plain": [
              "RandomizedSearchCV(cv=2, error_score=nan,\n",
              "                   estimator=LogisticRegression(C=1.0, class_weight=None,\n",
              "                                                dual=False, fit_intercept=True,\n",
              "                                                intercept_scaling=1,\n",
              "                                                l1_ratio=None, max_iter=400,\n",
              "                                                multi_class='auto', n_jobs=None,\n",
              "                                                penalty='l2', random_state=None,\n",
              "                                                solver='lbfgs', tol=0.0001,\n",
              "                                                verbose=0, warm_start=False),\n",
              "                   iid='deprecated', n_iter=10, n_jobs=None,\n",
              "                   param_distributions={'C': [0.8, 0.9, 1.0, 1.1, 1.2, 1.25,\n",
              "                                              1.35, 1.4]},\n",
              "                   pre_dispatch='2*n_jobs', random_state=None, refit=True,\n",
              "                   return_train_score=False, scoring=None, verbose=1)"
            ]
          },
          "metadata": {
            "tags": []
          },
          "execution_count": 56
        }
      ]
    },
    {
      "cell_type": "code",
      "metadata": {
        "id": "w3rtP01AL6oL",
        "colab_type": "code",
        "outputId": "e636f27f-2231-480f-ace5-95f6a8512a98",
        "colab": {
          "base_uri": "https://localhost:8080/",
          "height": 36
        }
      },
      "source": [
        "gs.best_params_"
      ],
      "execution_count": 0,
      "outputs": [
        {
          "output_type": "execute_result",
          "data": {
            "text/plain": [
              "{'C': 1.4}"
            ]
          },
          "metadata": {
            "tags": []
          },
          "execution_count": 57
        }
      ]
    },
    {
      "cell_type": "code",
      "metadata": {
        "id": "sLCPSqRUL6oZ",
        "colab_type": "code",
        "colab": {}
      },
      "source": [
        "y_pred = gs.best_estimator_.predict(X_vect_test)"
      ],
      "execution_count": 0,
      "outputs": []
    },
    {
      "cell_type": "code",
      "metadata": {
        "id": "gsMvKL7XL6om",
        "colab_type": "code",
        "outputId": "04923d6f-3168-4708-ae71-3c4b32e5332a",
        "colab": {
          "base_uri": "https://localhost:8080/",
          "height": 36
        }
      },
      "source": [
        "accuracy_score(y_pred, y_test)"
      ],
      "execution_count": 0,
      "outputs": [
        {
          "output_type": "execute_result",
          "data": {
            "text/plain": [
              "0.7331861662987491"
            ]
          },
          "metadata": {
            "tags": []
          },
          "execution_count": 59
        }
      ]
    },
    {
      "cell_type": "code",
      "metadata": {
        "id": "l1XhYSUOL6o0",
        "colab_type": "code",
        "outputId": "db85a631-148e-40fa-a840-4256bab45309",
        "colab": {
          "base_uri": "https://localhost:8080/",
          "height": 36
        }
      },
      "source": [
        "f1_score(y_pred, y_test)"
      ],
      "execution_count": 0,
      "outputs": [
        {
          "output_type": "execute_result",
          "data": {
            "text/plain": [
              "0.7430373467507618"
            ]
          },
          "metadata": {
            "tags": []
          },
          "execution_count": 60
        }
      ]
    },
    {
      "cell_type": "markdown",
      "metadata": {
        "id": "X6tCPonZXUv1",
        "colab_type": "text"
      },
      "source": [
        "### Bootstrap"
      ]
    },
    {
      "cell_type": "code",
      "metadata": {
        "id": "FJvmy3dFpdeB",
        "colab_type": "code",
        "outputId": "855cfc61-dd97-4d6a-cc7c-9e1ff0bddff6",
        "colab": {
          "base_uri": "https://localhost:8080/",
          "height": 36
        }
      },
      "source": [
        "len(y_pred), len(y_test)"
      ],
      "execution_count": 0,
      "outputs": [
        {
          "output_type": "execute_result",
          "data": {
            "text/plain": [
              "(54360, 54360)"
            ]
          },
          "metadata": {
            "tags": []
          },
          "execution_count": 54
        }
      ]
    },
    {
      "cell_type": "code",
      "metadata": {
        "id": "CmRc9YCXoI9d",
        "colab_type": "code",
        "colab": {}
      },
      "source": [
        "answers = (y_pred == y_test.values)"
      ],
      "execution_count": 0,
      "outputs": []
    },
    {
      "cell_type": "code",
      "metadata": {
        "id": "Eu7rYr4jSQ11",
        "colab_type": "code",
        "colab": {}
      },
      "source": [
        "means = np.array([np.mean( answers[ np.random.randint(len(answers), size=len(answers)) ] ) for _ in range(1000)])"
      ],
      "execution_count": 0,
      "outputs": []
    },
    {
      "cell_type": "code",
      "metadata": {
        "id": "1COPrVKeTD9H",
        "colab_type": "code",
        "colab": {}
      },
      "source": [
        "import matplotlib.pyplot as plt\n",
        "%matplotlib inline"
      ],
      "execution_count": 0,
      "outputs": []
    },
    {
      "cell_type": "code",
      "metadata": {
        "id": "KiQ3vPMXSQsw",
        "colab_type": "code",
        "outputId": "7e592948-f299-403a-e99a-e0ae95bce878",
        "colab": {
          "base_uri": "https://localhost:8080/",
          "height": 265
        }
      },
      "source": [
        "plt.hist(means, histtype='step', lw=2);"
      ],
      "execution_count": 0,
      "outputs": [
        {
          "output_type": "display_data",
          "data": {
            "image/png": "[encoded data removed]",
            "text/plain": [
              "<Figure size 432x288 with 1 Axes>"
            ]
          },
          "metadata": {
            "tags": []
          }
        }
      ]
    },
    {
      "cell_type": "code",
      "metadata": {
        "id": "9c4Ck_Hra-TO",
        "colab_type": "code",
        "outputId": "bcda263f-f325-4990-a333-2deb8f6ac87b",
        "colab": {
          "base_uri": "https://localhost:8080/",
          "height": 36
        }
      },
      "source": [
        "print(f'Mean: {means.mean():.3f} +/- {means.std()*2:.3f} (95% conf.)')"
      ],
      "execution_count": 0,
      "outputs": [
        {
          "output_type": "stream",
          "text": [
            "Mean: 0.733 +/- 0.004 (95% conf.)\n"
          ],
          "name": "stdout"
        }
      ]
    },
    {
      "cell_type": "code",
      "metadata": {
        "id": "1OG-qXhoTZxZ",
        "colab_type": "code",
        "colab": {}
      },
      "source": [
        ""
      ],
      "execution_count": 0,
      "outputs": []
    }
  ]
}