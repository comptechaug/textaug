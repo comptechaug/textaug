{
  "nbformat": 4,
  "nbformat_minor": 0,
  "metadata": {
    "colab": {
      "name": "Word2Vec_class.ipynb",
      "provenance": [],
      "collapsed_sections": []
    },
    "kernelspec": {
      "name": "python3",
      "display_name": "Python 3"
    }
  },
  "cells": [
    {
      "cell_type": "code",
      "metadata": {
        "id": "ldFxIUfRjHBI",
        "colab_type": "code",
        "outputId": "4fffc5cc-1229-4667-b460-5f7c830ae5a2",
        "colab": {
          "base_uri": "https://localhost:8080/",
          "height": 130
        }
      },
      "source": [
        "from google.colab import drive\n",
        "drive.mount('/content/drive')"
      ],
      "execution_count": 1,
      "outputs": [
        {
          "output_type": "stream",
          "text": [
            "Go to this URL in a browser: https://accounts.google.com/o/oauth2/auth?client_id=947318989803-6bn6qk8qdgf4n4g3pfee6491hc0brc4i.apps.googleusercontent.com&redirect_uri=urn%3aietf%3awg%3aoauth%3a2.0%3aoob&response_type=code&scope=email%20https%3a%2f%2fwww.googleapis.com%2fauth%2fdocs.test%20https%3a%2f%2fwww.googleapis.com%2fauth%2fdrive%20https%3a%2f%2fwww.googleapis.com%2fauth%2fdrive.photos.readonly%20https%3a%2f%2fwww.googleapis.com%2fauth%2fpeopleapi.readonly\n",
            "\n",
            "Enter your authorization code:\n",
            "··········\n",
            "Mounted at /content/drive\n"
          ],
          "name": "stdout"
        }
      ]
    },
    {
      "cell_type": "code",
      "metadata": {
        "id": "idLDDtxblatO",
        "colab_type": "code",
        "outputId": "c2159777-e613-4872-9159-fdb98862d18a",
        "colab": {
          "base_uri": "https://localhost:8080/",
          "height": 36
        }
      },
      "source": [
        "%cd drive/My\\ Drive/textaug/notebooks/Word2Vec"
      ],
      "execution_count": 2,
      "outputs": [
        {
          "output_type": "stream",
          "text": [
            "/content/drive/My Drive/textaug/notebooks/Word2Vec\n"
          ],
          "name": "stdout"
        }
      ]
    },
    {
      "cell_type": "code",
      "metadata": {
        "id": "c1svk8JZlNDk",
        "colab_type": "code",
        "colab": {
          "base_uri": "https://localhost:8080/",
          "height": 73
        },
        "outputId": "36db9447-8603-4484-8aa8-d45087180a24"
      },
      "source": [
        "!pip install --upgrade gensim -q\n",
        "!pip install annoy -q"
      ],
      "execution_count": 3,
      "outputs": [
        {
          "output_type": "stream",
          "text": [
            "\u001b[K     |████████████████████████████████| 24.2MB 26.2MB/s \n",
            "\u001b[K     |████████████████████████████████| 645kB 2.8MB/s \n",
            "\u001b[?25h  Building wheel for annoy (setup.py) ... \u001b[?25l\u001b[?25hdone\n"
          ],
          "name": "stdout"
        }
      ]
    },
    {
      "cell_type": "code",
      "metadata": {
        "id": "1c264126jIKb",
        "colab_type": "code",
        "colab": {}
      },
      "source": [
        "import numpy as np\n",
        "import pandas as pd\n",
        "import re\n",
        "# from gensim.test.utils import datapath\n",
        "# from gensim import utils\n",
        "import gensim.models\n",
        "from gensim.similarities.index import AnnoyIndexer\n",
        "import random"
      ],
      "execution_count": 0,
      "outputs": []
    },
    {
      "cell_type": "code",
      "metadata": {
        "id": "5Y-OkpJrCneJ",
        "colab_type": "code",
        "colab": {}
      },
      "source": [
        "class Word2VecAugmentation:\n",
        "  def __init__(self, path_to_dictionary='mipt_vecs.w2v', indexer=None, cache_dict=False):\n",
        "    #если нет словаря, то скачать его\n",
        "    self.model = gensim.models.KeyedVectors.load_word2vec_format(path_to_dictionary, binary=True, unicode_errors='ignore')\n",
        "    self.annoy_index = AnnoyIndexer(self.model, num_trees=10) if (indexer=='annoy') else None\n",
        "    self.replace_dict = dict() if cache_dict else None\n",
        "\n",
        "  def clear_replace_dict(self):\n",
        "    if self.replace_dict is not None:\n",
        "      self.replace_dict.clear()\n",
        "    return\n",
        "\n",
        "  def get_similar_words_dict(self, words_set):\n",
        "    word_index = 0 if self.annoy_index is None else 1\n",
        "    replace_dict = dict() if self.replace_dict is None else self.replace_dict\n",
        "    for word in ( words_set - replace_dict.keys() ):\n",
        "      if word in self.model:\n",
        "        replace_dict[word] = self.model.most_similar(word, topn=word_index+1, indexer=self.annoy_index)[word_index][0]\n",
        "    return replace_dict\n",
        "\n",
        "  def augment_text(self, text, partition=0.5):\n",
        "    words_set = set( re.findall(r'[а-яА-Яa-zA-Z]+', text) )\n",
        "    replace_dict = self.get_similar_words_dict(words_set)\n",
        "    return re.sub(r'[а-яА-Яa-zA-Z]+', lambda x: replace_dict[x.group()] if (random.random()<partition) and (x.group() in replace_dict) else x.group(), text)"
      ],
      "execution_count": 0,
      "outputs": []
    },
    {
      "cell_type": "markdown",
      "metadata": {
        "id": "WN1l8grvRjsW",
        "colab_type": "text"
      },
      "source": [
        "чек"
      ]
    },
    {
      "cell_type": "code",
      "metadata": {
        "id": "cBpmOkvOlG3_",
        "colab_type": "code",
        "outputId": "a05f5b44-4474-4775-9e93-9cfbd0ad2abb",
        "colab": {
          "base_uri": "https://localhost:8080/",
          "height": 74
        }
      },
      "source": [
        "wv_aug = Word2VecAugmentation(cache_dict=False, indexer='annoy')"
      ],
      "execution_count": 6,
      "outputs": [
        {
          "output_type": "stream",
          "text": [
            "/usr/local/lib/python3.6/dist-packages/gensim/similarities/index.py:184: FutureWarning: The default argument for metric will be removed in future version of Annoy. Please pass metric='angular' explicitly.\n",
            "  index = AnnoyIndex(num_features)\n"
          ],
          "name": "stderr"
        }
      ]
    },
    {
      "cell_type": "code",
      "metadata": {
        "id": "NCpET_ZZzp5k",
        "colab_type": "code",
        "colab": {}
      },
      "source": [
        "df1 = pd.read_csv('../../data/twitts/positive.csv', sep=';', header=None)[[3]].rename({3:'tweet'}, axis=1)\n",
        "df2 = pd.read_csv('../../data/twitts/negative.csv', sep=';', header=None)[[3]].rename({3:'tweet'}, axis=1)\n",
        "\n",
        "df = df1.append(df2, ignore_index=True)"
      ],
      "execution_count": 0,
      "outputs": []
    },
    {
      "cell_type": "code",
      "metadata": {
        "id": "CkBnY-4Mf_RT",
        "colab_type": "code",
        "colab": {}
      },
      "source": [
        "import warnings  \n",
        "warnings.filterwarnings(action='ignore',category=UserWarning,module='gensim')  \n",
        "warnings.filterwarnings(action='ignore',category=FutureWarning,module='gensim')"
      ],
      "execution_count": 0,
      "outputs": []
    },
    {
      "cell_type": "code",
      "metadata": {
        "id": "5ZLeQezENVV8",
        "colab_type": "code",
        "outputId": "755d6f91-e26a-4b85-b3fd-986058716bbd",
        "colab": {
          "base_uri": "https://localhost:8080/",
          "height": 91
        }
      },
      "source": [
        "%timeit wv_aug.augment_text(df.tweet[0], 1)\n",
        "%timeit wv_aug.augment_text(df.tweet[0], 0.5)\n",
        "%timeit wv_aug.augment_text(df.tweet[0], 0.1)"
      ],
      "execution_count": 9,
      "outputs": [
        {
          "output_type": "stream",
          "text": [
            "The slowest run took 19.55 times longer than the fastest. This could mean that an intermediate result is being cached.\n",
            "1000 loops, best of 3: 1.21 ms per loop\n",
            "1000 loops, best of 3: 1.21 ms per loop\n",
            "1000 loops, best of 3: 1.21 ms per loop\n"
          ],
          "name": "stdout"
        }
      ]
    },
    {
      "cell_type": "code",
      "metadata": {
        "id": "yeYW66XsYUDq",
        "colab_type": "code",
        "outputId": "412e7277-d39f-4b70-e0f0-867022332621",
        "colab": {
          "base_uri": "https://localhost:8080/",
          "height": 54
        }
      },
      "source": [
        "%%time\n",
        "t = df.tweet[:100].apply( lambda x: wv_aug.augment_text(x) )"
      ],
      "execution_count": 10,
      "outputs": [
        {
          "output_type": "stream",
          "text": [
            "CPU times: user 103 ms, sys: 2 ms, total: 105 ms\n",
            "Wall time: 106 ms\n"
          ],
          "name": "stdout"
        }
      ]
    },
    {
      "cell_type": "code",
      "metadata": {
        "id": "ZUdJa6IOieCc",
        "colab_type": "code",
        "outputId": "0dfd2b67-1bcc-4b22-be20-6fe244944533",
        "colab": {
          "base_uri": "https://localhost:8080/",
          "height": 54
        }
      },
      "source": [
        "%%time\n",
        "t = df.tweet[:1000].apply( lambda x: wv_aug.augment_text(x) )"
      ],
      "execution_count": 11,
      "outputs": [
        {
          "output_type": "stream",
          "text": [
            "CPU times: user 818 ms, sys: 5 µs, total: 818 ms\n",
            "Wall time: 822 ms\n"
          ],
          "name": "stdout"
        }
      ]
    },
    {
      "cell_type": "code",
      "metadata": {
        "id": "74s3pPTDinjP",
        "colab_type": "code",
        "outputId": "983c8ac2-107a-4c87-cc68-c1d61f234426",
        "colab": {
          "base_uri": "https://localhost:8080/",
          "height": 54
        }
      },
      "source": [
        "%%time\n",
        "t = df.tweet[:10000].apply( lambda x: wv_aug.augment_text(x) )"
      ],
      "execution_count": 12,
      "outputs": [
        {
          "output_type": "stream",
          "text": [
            "CPU times: user 8.09 s, sys: 16.7 ms, total: 8.11 s\n",
            "Wall time: 8.13 s\n"
          ],
          "name": "stdout"
        }
      ]
    },
    {
      "cell_type": "code",
      "metadata": {
        "id": "L3BcUUmQi3vz",
        "colab_type": "code",
        "outputId": "6aa0c917-dff7-4b01-e1b3-c2100a447a8e",
        "colab": {
          "base_uri": "https://localhost:8080/",
          "height": 54
        }
      },
      "source": [
        "%%time\n",
        "t = df.tweet.apply( lambda x: wv_aug.augment_text(x) )"
      ],
      "execution_count": 13,
      "outputs": [
        {
          "output_type": "stream",
          "text": [
            "CPU times: user 2min 58s, sys: 285 ms, total: 2min 59s\n",
            "Wall time: 2min 59s\n"
          ],
          "name": "stdout"
        }
      ]
    },
    {
      "cell_type": "markdown",
      "metadata": {
        "id": "NsFXY_EHO9Xw",
        "colab_type": "text"
      },
      "source": [
        "O(n)"
      ]
    },
    {
      "cell_type": "code",
      "metadata": {
        "id": "t3QWqqoijJma",
        "colab_type": "code",
        "outputId": "ff7841b1-6cb5-4a50-ea7a-b16877c57b6e",
        "colab": {
          "base_uri": "https://localhost:8080/",
          "height": 240
        }
      },
      "source": [
        "n = random.randint(10, len(t))\n",
        "for v in t[n-10:n]:\n",
        "  print(v)"
      ],
      "execution_count": 16,
      "outputs": [
        {
          "output_type": "stream",
          "text": [
            "RT @Shlegel: Ахахаха :))) доброту утро RT @euromaidan: В Грузии парламентарии преподнесли в парламент белорусские флаги не­мало шарфы http://t.uk//MZZlpFu…\n",
            "@SeniBellem впечатление… — же замечательно) во сколько дом была? И уже на локтях?)\n",
            "@aiena_1996 хватает… боимся де­вушки дамочки вымарывать,тугодумные даже анонимные пишут что они хватает… нас женщины,оууу:D\n",
            "RT @weduhycepiwyq: оставались такие романтичные, что над нашей переписки вконтакте плачущее поговаривали ЗБУ;)…! http://t.co/kjYN1YghX3\n",
            "конечно понять найти человека, намекнувший полюбил приходило скажи несмотря на думаешь недостатки.  -Noize MC\n",
            "И мне такого наконец-то нашла :))\n",
            "RT @affects_1D: #HappyBirthdayIanFromRussia\n",
            "секси, поздравляю с днем мистериальное:* http://t.co/CVhwEJd2i/ii\n",
            "RT @ildrozdov: У \"СР\" субботу удалась,все)) “@107_0: В Мосгордуме сочли идиотизмом новацию сравнить ремонтную метро… году{ приветствовать Манделы //www://t.uk/…\n",
            "Задай вопрос, попытается не жмот. :*  / //www://t.uk//R7acxP6aXG http://t.co/9QddSBvGyP\n",
            "RT @finorudibymu: девушки,но никто мацухаси,разучились хранить секрет))  http://t.uk//r74VCvf5U7\n",
            "И некоторые люди поговаривали начали ко я добрее…, вроде бы. Может быть действительно, всем лучше стать обаятельней добрее акцизу отноше­нию к другим )\n"
          ],
          "name": "stdout"
        }
      ]
    },
    {
      "cell_type": "markdown",
      "metadata": {
        "id": "h8F0ivQtRbrT",
        "colab_type": "text"
      },
      "source": [
        "теперь чек для кэша"
      ]
    },
    {
      "cell_type": "code",
      "metadata": {
        "id": "dLdSoG29pzCC",
        "colab_type": "code",
        "colab": {}
      },
      "source": [
        "wv_aug_cache = Word2VecAugmentation(cache_dict=True, indexer='annoy')"
      ],
      "execution_count": 0,
      "outputs": []
    },
    {
      "cell_type": "code",
      "metadata": {
        "id": "TE0WO0IeQqaI",
        "colab_type": "code",
        "colab": {
          "base_uri": "https://localhost:8080/",
          "height": 54
        },
        "outputId": "cd4ad70a-57f7-4b85-b23a-4a3364d3170e"
      },
      "source": [
        "%%time\n",
        "t = df.tweet[:100].apply( lambda x: wv_aug_cache.augment_text(x) )"
      ],
      "execution_count": 50,
      "outputs": [
        {
          "output_type": "stream",
          "text": [
            "CPU times: user 75.5 ms, sys: 23 µs, total: 75.5 ms\n",
            "Wall time: 79.3 ms\n"
          ],
          "name": "stdout"
        }
      ]
    },
    {
      "cell_type": "code",
      "metadata": {
        "id": "k27tnFLpRJSA",
        "colab_type": "code",
        "colab": {
          "base_uri": "https://localhost:8080/",
          "height": 54
        },
        "outputId": "85d68d12-76a3-436f-e3bd-ed655aabcda7"
      },
      "source": [
        "%%time\n",
        "t = df.tweet[:1000].apply( lambda x: wv_aug_cache.augment_text(x) )"
      ],
      "execution_count": 52,
      "outputs": [
        {
          "output_type": "stream",
          "text": [
            "CPU times: user 439 ms, sys: 2.96 ms, total: 442 ms\n",
            "Wall time: 451 ms\n"
          ],
          "name": "stdout"
        }
      ]
    },
    {
      "cell_type": "code",
      "metadata": {
        "id": "6W_1iEEZR_J8",
        "colab_type": "code",
        "colab": {}
      },
      "source": [
        "wv_aug_cache.clear_replace_dict()"
      ],
      "execution_count": 0,
      "outputs": []
    },
    {
      "cell_type": "code",
      "metadata": {
        "id": "D_uo6zeLSDKz",
        "colab_type": "code",
        "colab": {
          "base_uri": "https://localhost:8080/",
          "height": 54
        },
        "outputId": "c06aee4f-1dbb-423d-dffd-0d16925697e7"
      },
      "source": [
        "%%time\n",
        "t = df.tweet[:10000].apply( lambda x: wv_aug_cache.augment_text(x) )"
      ],
      "execution_count": 54,
      "outputs": [
        {
          "output_type": "stream",
          "text": [
            "CPU times: user 5.25 s, sys: 3.96 ms, total: 5.26 s\n",
            "Wall time: 5.27 s\n"
          ],
          "name": "stdout"
        }
      ]
    },
    {
      "cell_type": "code",
      "metadata": {
        "id": "-shhRN6hSOz1",
        "colab_type": "code",
        "colab": {}
      },
      "source": [
        "wv_aug_cache.clear_replace_dict()"
      ],
      "execution_count": 0,
      "outputs": []
    },
    {
      "cell_type": "code",
      "metadata": {
        "id": "qCvsfMZES20B",
        "colab_type": "code",
        "colab": {
          "base_uri": "https://localhost:8080/",
          "height": 54
        },
        "outputId": "36e673f5-24d4-49e2-fc1c-5c744868283f"
      },
      "source": [
        "%%time\n",
        "t = df.tweet[:50000].apply( lambda x: wv_aug_cache.augment_text(x) )"
      ],
      "execution_count": 55,
      "outputs": [
        {
          "output_type": "stream",
          "text": [
            "CPU times: user 49.8 s, sys: 9.88 ms, total: 49.8 s\n",
            "Wall time: 49.9 s\n"
          ],
          "name": "stdout"
        }
      ]
    },
    {
      "cell_type": "code",
      "metadata": {
        "id": "gx-cg5vJU_sx",
        "colab_type": "code",
        "colab": {}
      },
      "source": [
        ""
      ],
      "execution_count": 0,
      "outputs": []
    }
  ]
}