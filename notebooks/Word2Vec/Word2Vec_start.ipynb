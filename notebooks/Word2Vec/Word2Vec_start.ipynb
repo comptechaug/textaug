{
 "cells": [
  {
   "cell_type": "markdown",
   "metadata": {},
   "source": [
    "# Word2Vec: just for fun\n",
    "\n",
    "[Trello home](https://trello.com/c/lDKOCrOr/11-w2v-cosine-similarity)\n",
    "\n",
    "Сурсы по word2vec:\n",
    "* [Слайды](http://www.machinelearning.ru/wiki/images/9/9d/BartunovLSM.pdf), которые я не смотрел\n",
    "* [Habr. Word2vec с картинками](https://habr.com/ru/post/446530/)\n",
    "* [Что такое w2v. Статья](https://neurohive.io/ru/osnovy-data-science/word2vec-vektornye-predstavlenija-slov-dlja-mashinnogo-obuchenija/)\n",
    "* [Презентация крутого лектора](https://docs.google.com/presentation/d/1JNuhCuWyInu6aUrAK4MmLd5TZATDptPUsUx1z2JcYT0/mobilepresent#slide=id.p)\n",
    "* [Jupyter tutorial **word2vec**](https://nbviewer.jupyter.org/github/danielfrg/word2vec/blob/master/examples/word2vec.ipynb) - у меня не заработала эта библиотека\n",
    "* [Мужик играет с **word2vec** на русском](https://alexeytrudov.com/web-marketing/seo/poigralsya-s-word2vec-mashinnoe-obuchenie.html) - у меня так не получилось\n",
    "* [Словарик с векторами русских слов](https://nlpub.mipt.ru/Russian_Distributional_Thesaurus)"
   ]
  },
  {
   "cell_type": "markdown",
   "metadata": {},
   "source": [
    "### Подготовка данных\n",
    "Для начала развлекусь и сделаю **word2vec** для этого странного набора твитов, а потом уже возьму сторонние вектора и буду использовать их"
   ]
  },
  {
   "cell_type": "code",
   "execution_count": 22,
   "metadata": {},
   "outputs": [],
   "source": [
    "import pandas as pd\n",
    "import numpy as np\n",
    "import re"
   ]
  },
  {
   "cell_type": "code",
   "execution_count": 24,
   "metadata": {},
   "outputs": [],
   "source": [
    "df_pos = pd.read_csv('../../data/twitts/positive.csv', sep=';', header=None)\n",
    "df_neg = pd.read_csv('../../data/twitts/negative.csv', sep=';', header=None)"
   ]
  },
  {
   "cell_type": "code",
   "execution_count": 25,
   "metadata": {},
   "outputs": [],
   "source": [
    "df = df_pos.append(df_neg, ignore_index=True)[[3]].rename({3:'tweet'}, axis=1)"
   ]
  },
  {
   "cell_type": "code",
   "execution_count": 26,
   "metadata": {},
   "outputs": [
    {
     "data": {
      "text/html": [
       "<div>\n",
       "<style scoped>\n",
       "    .dataframe tbody tr th:only-of-type {\n",
       "        vertical-align: middle;\n",
       "    }\n",
       "\n",
       "    .dataframe tbody tr th {\n",
       "        vertical-align: top;\n",
       "    }\n",
       "\n",
       "    .dataframe thead th {\n",
       "        text-align: right;\n",
       "    }\n",
       "</style>\n",
       "<table border=\"1\" class=\"dataframe\">\n",
       "  <thead>\n",
       "    <tr style=\"text-align: right;\">\n",
       "      <th></th>\n",
       "      <th>tweet</th>\n",
       "    </tr>\n",
       "  </thead>\n",
       "  <tbody>\n",
       "    <tr>\n",
       "      <th>0</th>\n",
       "      <td>@first_timee хоть я и школота, но поверь, у на...</td>\n",
       "    </tr>\n",
       "    <tr>\n",
       "      <th>1</th>\n",
       "      <td>Да, все-таки он немного похож на него. Но мой ...</td>\n",
       "    </tr>\n",
       "    <tr>\n",
       "      <th>2</th>\n",
       "      <td>RT @KatiaCheh: Ну ты идиотка) я испугалась за ...</td>\n",
       "    </tr>\n",
       "    <tr>\n",
       "      <th>3</th>\n",
       "      <td>RT @digger2912: \"Кто то в углу сидит и погибае...</td>\n",
       "    </tr>\n",
       "    <tr>\n",
       "      <th>4</th>\n",
       "      <td>@irina_dyshkant Вот что значит страшилка :D\\nН...</td>\n",
       "    </tr>\n",
       "  </tbody>\n",
       "</table>\n",
       "</div>"
      ],
      "text/plain": [
       "                                               tweet\n",
       "0  @first_timee хоть я и школота, но поверь, у на...\n",
       "1  Да, все-таки он немного похож на него. Но мой ...\n",
       "2  RT @KatiaCheh: Ну ты идиотка) я испугалась за ...\n",
       "3  RT @digger2912: \"Кто то в углу сидит и погибае...\n",
       "4  @irina_dyshkant Вот что значит страшилка :D\\nН..."
      ]
     },
     "execution_count": 26,
     "metadata": {},
     "output_type": "execute_result"
    }
   ],
   "source": [
    "df.head()"
   ]
  },
  {
   "cell_type": "code",
   "execution_count": 27,
   "metadata": {},
   "outputs": [
    {
     "name": "stdout",
     "output_type": "stream",
     "text": [
      "@first_timee хоть я и школота, но поверь, у нас то же самое :D общество профилирующий предмет типа)\n",
      "Да, все-таки он немного похож на него. Но мой мальчик все равно лучше:D\n",
      "RT @KatiaCheh: Ну ты идиотка) я испугалась за тебя!!!\n",
      "RT @digger2912: \"Кто то в углу сидит и погибает от голода, а мы ещё 2 порции взяли, хотя уже и так жрать не хотим\" :DD http://t.co/GqG6iuE2…\n",
      "@irina_dyshkant Вот что значит страшилка :D\n",
      "Но блин,посмотрев все части,у тебя создастся ощущение,что авторы курили что-то :D\n",
      "ну любишь или нет? — Я не знаю кто ты бля:D http://t.co/brf9eNg1U6\n",
      "RT @SpoonLamer: Ох,900 :D ну это конечно же @twinkleAYO . Чтобы у нее было много друзей, ведь она такая мимими &lt;3\n",
      "RT @veregijytaqo: У тебя есть ухажёр? Нет - мои уши не кто не жрёт :D\n",
      "Поприветствуем моего нового читателя @Alexey1789 ;)\n",
      "Теперь у меня есть частичка Сиднея :) #Sydney #SydneyOperaHouse http://t.co/agnto3CZEi\n"
     ]
    }
   ],
   "source": [
    "for v in df.tweet[:10].values:\n",
    "    print(v)"
   ]
  },
  {
   "cell_type": "markdown",
   "metadata": {},
   "source": [
    "Почистить"
   ]
  },
  {
   "cell_type": "code",
   "execution_count": 28,
   "metadata": {},
   "outputs": [],
   "source": [
    "df.tweet = df['tweet'].apply(lambda x: re.sub('[\\Wa-zA-Z_\\d]+', ' ', x) )"
   ]
  },
  {
   "cell_type": "code",
   "execution_count": 29,
   "metadata": {},
   "outputs": [],
   "source": [
    "df.tweet = df['tweet'].apply(lambda x: x.lower().strip() )"
   ]
  },
  {
   "cell_type": "code",
   "execution_count": 30,
   "metadata": {},
   "outputs": [
    {
     "name": "stdout",
     "output_type": "stream",
     "text": [
      "хоть я и школота но поверь у нас то же самое общество профилирующий предмет типа\n",
      "да все таки он немного похож на него но мой мальчик все равно лучше\n",
      "ну ты идиотка я испугалась за тебя\n",
      "кто то в углу сидит и погибает от голода а мы ещё порции взяли хотя уже и так жрать не хотим\n",
      "вот что значит страшилка но блин посмотрев все части у тебя создастся ощущение что авторы курили что то\n",
      "ну любишь или нет я не знаю кто ты бля\n",
      "ох ну это конечно же чтобы у нее было много друзей ведь она такая мимими\n",
      "у тебя есть ухажёр нет мои уши не кто не жрёт\n",
      "поприветствуем моего нового читателя\n",
      "теперь у меня есть частичка сиднея\n"
     ]
    }
   ],
   "source": [
    "for v in df.tweet[:10].values:\n",
    "    print(v)"
   ]
  },
  {
   "cell_type": "code",
   "execution_count": 102,
   "metadata": {},
   "outputs": [],
   "source": [
    "df = df.drop_duplicates()"
   ]
  },
  {
   "cell_type": "code",
   "execution_count": 103,
   "metadata": {},
   "outputs": [
    {
     "data": {
      "text/plain": [
       "(210983, 1)"
      ]
     },
     "execution_count": 103,
     "metadata": {},
     "output_type": "execute_result"
    }
   ],
   "source": [
    "df.shape"
   ]
  },
  {
   "cell_type": "code",
   "execution_count": 115,
   "metadata": {},
   "outputs": [],
   "source": [
    "df.to_csv(\"clean_strings\", index=False, header=None)"
   ]
  },
  {
   "cell_type": "markdown",
   "metadata": {},
   "source": [
    "### Word2Vec part"
   ]
  },
  {
   "cell_type": "markdown",
   "metadata": {},
   "source": [
    "Нашёл библиотеку [GenSim](https://radimrehurek.com/gensim/auto_examples/index.html)"
   ]
  },
  {
   "cell_type": "code",
   "execution_count": 31,
   "metadata": {},
   "outputs": [],
   "source": [
    "from gensim.test.utils import datapath\n",
    "from gensim import utils\n",
    "import gensim.models"
   ]
  },
  {
   "cell_type": "code",
   "execution_count": 14,
   "metadata": {},
   "outputs": [],
   "source": [
    "class MyCorpus(object):\n",
    "    \"\"\"An interator that yields sentences (lists of str).\"\"\"\n",
    "\n",
    "    def __iter__(self):\n",
    "        corpus_path = datapath('/home/nikitap/projects/python/augmentations_comptech/Word2Vec/clean_strings')#full path\n",
    "        for line in open(corpus_path):\n",
    "            # assume there's one document per line, tokens separated by whitespace\n",
    "            yield utils.simple_preprocess(line)"
   ]
  },
  {
   "cell_type": "code",
   "execution_count": 17,
   "metadata": {},
   "outputs": [],
   "source": [
    "sentences = MyCorpus()\n",
    "model = gensim.models.Word2Vec(sentences=sentences)"
   ]
  },
  {
   "cell_type": "markdown",
   "metadata": {},
   "source": [
    "в тот момент, когда я хотел всё закрыть, модель дообучилась. Кажется, это знак"
   ]
  },
  {
   "cell_type": "code",
   "execution_count": 23,
   "metadata": {},
   "outputs": [
    {
     "data": {
      "text/plain": [
       "<gensim.models.word2vec.Word2Vec at 0x7fd9f7386910>"
      ]
     },
     "execution_count": 23,
     "metadata": {},
     "output_type": "execute_result"
    }
   ],
   "source": [
    "model"
   ]
  },
  {
   "cell_type": "code",
   "execution_count": 24,
   "metadata": {},
   "outputs": [],
   "source": [
    "model.save('/home/nikitap/projects/python/augmentations_comptech/Word2Vec/model')"
   ]
  },
  {
   "cell_type": "markdown",
   "metadata": {},
   "source": [
    "Сохранил модель на будущее, чтоб не тратить ещё кучу времени на обучение"
   ]
  },
  {
   "cell_type": "code",
   "execution_count": 32,
   "metadata": {},
   "outputs": [],
   "source": [
    "new_model = gensim.models.Word2Vec.load('/home/nikitap/projects/python/augmentations_comptech/Word2Vec/model')"
   ]
  },
  {
   "cell_type": "code",
   "execution_count": 4,
   "metadata": {},
   "outputs": [
    {
     "data": {
      "text/plain": [
       "<gensim.models.word2vec.Word2Vec at 0x7fbf7b219150>"
      ]
     },
     "execution_count": 4,
     "metadata": {},
     "output_type": "execute_result"
    }
   ],
   "source": [
    "new_model"
   ]
  },
  {
   "cell_type": "code",
   "execution_count": 5,
   "metadata": {},
   "outputs": [
    {
     "name": "stdout",
     "output_type": "stream",
     "text": [
      "хоть\n",
      "школота\n",
      "но\n",
      "поверь\n",
      "нас\n",
      "то\n",
      "же\n",
      "самое\n",
      "общество\n",
      "предмет\n"
     ]
    }
   ],
   "source": [
    "for i, word in enumerate(new_model.wv.vocab):\n",
    "    if i == 10:\n",
    "        break\n",
    "    print(word)"
   ]
  },
  {
   "cell_type": "code",
   "execution_count": 6,
   "metadata": {},
   "outputs": [
    {
     "name": "stdout",
     "output_type": "stream",
     "text": [
      "[('медведев', 0.9664825797080994), ('миронов', 0.9582897424697876), ('президент', 0.9568126201629639), ('кличко', 0.9522696733474731), ('ленину', 0.9514321088790894)]\n"
     ]
    }
   ],
   "source": [
    "print(new_model.wv.most_similar(positive=['путин',\"навальный\"], topn=5))"
   ]
  },
  {
   "cell_type": "code",
   "execution_count": 7,
   "metadata": {},
   "outputs": [
    {
     "data": {
      "text/plain": [
       "[('президент', 0.9185464382171631),\n",
       " ('медведев', 0.8956725597381592),\n",
       " ('гуф', 0.8938204050064087),\n",
       " ('бенедикт', 0.8936036825180054),\n",
       " ('мамонтов', 0.8918490409851074),\n",
       " ('калашников', 0.8917428255081177),\n",
       " ('вспоминай', 0.8897215723991394),\n",
       " ('жуйку', 0.8889330625534058),\n",
       " ('существовании', 0.886281430721283),\n",
       " ('врет', 0.8853999972343445)]"
      ]
     },
     "execution_count": 7,
     "metadata": {},
     "output_type": "execute_result"
    }
   ],
   "source": [
    "new_model.wv.similar_by_word('путин')"
   ]
  },
  {
   "cell_type": "code",
   "execution_count": 15,
   "metadata": {},
   "outputs": [
    {
     "name": "stderr",
     "output_type": "stream",
     "text": [
      "/home/nikitap/programs/anaconda3/lib/python3.7/site-packages/ipykernel_launcher.py:1: DeprecationWarning: Call to deprecated `__getitem__` (Method will be removed in 4.0.0, use self.wv.__getitem__() instead).\n",
      "  \"\"\"Entry point for launching an IPython kernel.\n",
      "/home/nikitap/programs/anaconda3/lib/python3.7/site-packages/ipykernel_launcher.py:1: DeprecationWarning: Call to deprecated `similar_by_vector` (Method will be removed in 4.0.0, use self.wv.similar_by_vector() instead).\n",
      "  \"\"\"Entry point for launching an IPython kernel.\n"
     ]
    },
    {
     "data": {
      "text/plain": [
       "[('знакомая', 0.7293884754180908),\n",
       " ('страна', 0.7132641077041626),\n",
       " ('ваша', 0.7066949605941772),\n",
       " ('беда', 0.7000047564506531),\n",
       " ('большая', 0.6980278491973877),\n",
       " ('фамилия', 0.6976913213729858),\n",
       " ('умная', 0.6929706335067749),\n",
       " ('главная', 0.6923493146896362),\n",
       " ('огромная', 0.6899139881134033),\n",
       " ('верная', 0.68845534324646)]"
      ]
     },
     "execution_count": 15,
     "metadata": {},
     "output_type": "execute_result"
    }
   ],
   "source": [
    "new_model.similar_by_vector(new_model['путин'] - new_model[\"мужчина\"] + new_model[\"женщина\"] )"
   ]
  },
  {
   "cell_type": "markdown",
   "metadata": {},
   "source": [
    "гуф? O_O\n",
    "___________"
   ]
  },
  {
   "cell_type": "markdown",
   "metadata": {},
   "source": [
    "### Теперь беру уже обученную модель с [сайта](https://nlpub.mipt.ru/Russian_Distributional_Thesaurus)"
   ]
  },
  {
   "cell_type": "code",
   "execution_count": 3,
   "metadata": {},
   "outputs": [],
   "source": [
    "mipt_model = gensim.models.KeyedVectors.load_word2vec_format(\n",
    "    '/home/nikitap/projects/python/augmentations_comptech/Word2Vec/mipt_vecs.w2v', binary=True, unicode_errors='ignore')"
   ]
  },
  {
   "cell_type": "markdown",
   "metadata": {},
   "source": [
    "Подгружается довольно долго"
   ]
  },
  {
   "cell_type": "code",
   "execution_count": 4,
   "metadata": {},
   "outputs": [
    {
     "data": {
      "text/plain": [
       "[('путина', 0.9378689527511597),\n",
       " ('ельцин', 0.9320881366729736),\n",
       " ('ельцина', 0.906755805015564),\n",
       " ('чубайс', 0.9058520793914795),\n",
       " ('черномырдин', 0.9044474363327026),\n",
       " ('путиным', 0.8942527770996094),\n",
       " ('путину', 0.8915537595748901),\n",
       " ('лужков', 0.8785982131958008),\n",
       " ('горбачев', 0.8739296197891235),\n",
       " ('степашин', 0.8706163763999939)]"
      ]
     },
     "execution_count": 4,
     "metadata": {},
     "output_type": "execute_result"
    }
   ],
   "source": [
    "mipt_model.similar_by_word('путин')"
   ]
  },
  {
   "cell_type": "code",
   "execution_count": 34,
   "metadata": {},
   "outputs": [
    {
     "data": {
      "text/plain": [
       "[('сочувствий', 0.4839920699596405),\n",
       " ('коялович', 0.4141654968261719),\n",
       " ('нападков', 0.4141131639480591),\n",
       " ('кохановская', 0.4140699505805969),\n",
       " ('карамзинских', 0.4127064347267151),\n",
       " ('сознала', 0.4126369059085846),\n",
       " ('верною', 0.40655913949012756),\n",
       " ('православною', 0.403412401676178),\n",
       " ('карамзинской', 0.3995151221752167),\n",
       " ('трубецкой', 0.39942246675491333)]"
      ]
     },
     "execution_count": 34,
     "metadata": {},
     "output_type": "execute_result"
    }
   ],
   "source": [
    "mipt_model.similar_by_vector( mipt_model[\"россия\"] - mipt_model[\"нефть\"] )"
   ]
  },
  {
   "cell_type": "markdown",
   "metadata": {},
   "source": [
    "можно попробовать дообучить эту модель на твитах, но это как-нибудь в другой раз"
   ]
  },
  {
   "cell_type": "code",
   "execution_count": null,
   "metadata": {},
   "outputs": [],
   "source": []
  }
 ],
 "metadata": {
  "kernelspec": {
   "display_name": "Python 3",
   "language": "python",
   "name": "python3"
  },
  "language_info": {
   "codemirror_mode": {
    "name": "ipython",
    "version": 3
   },
   "file_extension": ".py",
   "mimetype": "text/x-python",
   "name": "python",
   "nbconvert_exporter": "python",
   "pygments_lexer": "ipython3",
   "version": "3.7.5"
  }
 },
 "nbformat": 4,
 "nbformat_minor": 2
}
