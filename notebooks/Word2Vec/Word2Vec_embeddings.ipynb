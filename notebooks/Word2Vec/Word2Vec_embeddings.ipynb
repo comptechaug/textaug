{
  "nbformat": 4,
  "nbformat_minor": 0,
  "metadata": {
    "colab": {
      "name": "Word2Vec_embeddings.ipynb",
      "provenance": [],
      "collapsed_sections": []
    },
    "kernelspec": {
      "name": "python3",
      "display_name": "Python 3"
    }
  },
  "cells": [
    {
      "cell_type": "markdown",
      "metadata": {
        "id": "xdZ6dvYxWaJi",
        "colab_type": "text"
      },
      "source": [
        "# Embeddings with word2vec"
      ]
    },
    {
      "cell_type": "code",
      "metadata": {
        "id": "9p-eC69jWMd_",
        "colab_type": "code",
        "outputId": "5af12d76-8a9c-4a07-f0e4-faf48fd4247f",
        "colab": {
          "base_uri": "https://localhost:8080/",
          "height": 36
        }
      },
      "source": [
        "from google.colab import drive\n",
        "drive.mount('/content/drive')"
      ],
      "execution_count": 3,
      "outputs": [
        {
          "output_type": "stream",
          "text": [
            "Drive already mounted at /content/drive; to attempt to forcibly remount, call drive.mount(\"/content/drive\", force_remount=True).\n"
          ],
          "name": "stdout"
        }
      ]
    },
    {
      "cell_type": "code",
      "metadata": {
        "id": "p3ep0xUXWsWj",
        "colab_type": "code",
        "outputId": "e0d41f2a-0215-4fd3-f35f-bba259eb1a11",
        "colab": {
          "base_uri": "https://localhost:8080/",
          "height": 36
        }
      },
      "source": [
        "%cd drive/My\\ Drive/textaug/notebooks/Word2Vec"
      ],
      "execution_count": 4,
      "outputs": [
        {
          "output_type": "stream",
          "text": [
            "/content/drive/My Drive/textaug/notebooks/Word2Vec\n"
          ],
          "name": "stdout"
        }
      ]
    },
    {
      "cell_type": "code",
      "metadata": {
        "id": "KuZpyFVUWNtR",
        "colab_type": "code",
        "colab": {}
      },
      "source": [
        "import numpy as np\n",
        "import pandas as pd\n",
        "import re"
      ],
      "execution_count": 0,
      "outputs": []
    },
    {
      "cell_type": "code",
      "metadata": {
        "id": "mmRNDX6tWjf-",
        "colab_type": "code",
        "colab": {}
      },
      "source": [
        "df_pos = pd.read_csv('../../data/twitts/positive.csv', sep=';', header=None).assign(positive=1)\n",
        "df_neg = pd.read_csv('../../data/twitts/negative.csv', sep=';', header=None).assign(positive=0)\n",
        "tweets = df_pos[[3,'positive']].append( df_neg[[3,'positive']], ignore_index=True ).rename({3:'tweet'}, axis=1)"
      ],
      "execution_count": 0,
      "outputs": []
    },
    {
      "cell_type": "code",
      "metadata": {
        "id": "W-DExDISWpED",
        "colab_type": "code",
        "colab": {}
      },
      "source": [
        "tweets.tweet = tweets.tweet.apply(lambda x: re.sub('[\\Wa-zA-Z_\\d]+', ' ', x) )\\\n",
        "                           .apply(lambda x: re.sub('\\s+', ' ', x) )\\\n",
        "                           .apply(lambda x: x.lower().strip() )"
      ],
      "execution_count": 0,
      "outputs": []
    },
    {
      "cell_type": "code",
      "metadata": {
        "id": "AnZvERphW_DP",
        "colab_type": "code",
        "outputId": "4ac25ae2-596f-479e-e0e1-c4ff8f70a1a5",
        "colab": {
          "base_uri": "https://localhost:8080/",
          "height": 206
        }
      },
      "source": [
        "tweets.head(5)"
      ],
      "execution_count": 8,
      "outputs": [
        {
          "output_type": "execute_result",
          "data": {
            "text/html": [
              "<div>\n",
              "<style scoped>\n",
              "    .dataframe tbody tr th:only-of-type {\n",
              "        vertical-align: middle;\n",
              "    }\n",
              "\n",
              "    .dataframe tbody tr th {\n",
              "        vertical-align: top;\n",
              "    }\n",
              "\n",
              "    .dataframe thead th {\n",
              "        text-align: right;\n",
              "    }\n",
              "</style>\n",
              "<table border=\"1\" class=\"dataframe\">\n",
              "  <thead>\n",
              "    <tr style=\"text-align: right;\">\n",
              "      <th></th>\n",
              "      <th>tweet</th>\n",
              "      <th>positive</th>\n",
              "    </tr>\n",
              "  </thead>\n",
              "  <tbody>\n",
              "    <tr>\n",
              "      <th>0</th>\n",
              "      <td>хоть я и школота но поверь у нас то же самое о...</td>\n",
              "      <td>1</td>\n",
              "    </tr>\n",
              "    <tr>\n",
              "      <th>1</th>\n",
              "      <td>да все таки он немного похож на него но мой ма...</td>\n",
              "      <td>1</td>\n",
              "    </tr>\n",
              "    <tr>\n",
              "      <th>2</th>\n",
              "      <td>ну ты идиотка я испугалась за тебя</td>\n",
              "      <td>1</td>\n",
              "    </tr>\n",
              "    <tr>\n",
              "      <th>3</th>\n",
              "      <td>кто то в углу сидит и погибает от голода а мы ...</td>\n",
              "      <td>1</td>\n",
              "    </tr>\n",
              "    <tr>\n",
              "      <th>4</th>\n",
              "      <td>вот что значит страшилка но блин посмотрев все...</td>\n",
              "      <td>1</td>\n",
              "    </tr>\n",
              "  </tbody>\n",
              "</table>\n",
              "</div>"
            ],
            "text/plain": [
              "                                               tweet  positive\n",
              "0  хоть я и школота но поверь у нас то же самое о...         1\n",
              "1  да все таки он немного похож на него но мой ма...         1\n",
              "2                 ну ты идиотка я испугалась за тебя         1\n",
              "3  кто то в углу сидит и погибает от голода а мы ...         1\n",
              "4  вот что значит страшилка но блин посмотрев все...         1"
            ]
          },
          "metadata": {
            "tags": []
          },
          "execution_count": 8
        }
      ]
    },
    {
      "cell_type": "code",
      "metadata": {
        "id": "THLJnfuCXff4",
        "colab_type": "code",
        "colab": {}
      },
      "source": [
        "X = tweets.tweet\n",
        "y = tweets.positive"
      ],
      "execution_count": 0,
      "outputs": []
    },
    {
      "cell_type": "code",
      "metadata": {
        "id": "MQp1zRkA6pCG",
        "colab_type": "code",
        "colab": {}
      },
      "source": [
        "from sklearn.model_selection import train_test_split\n",
        "X_train, X_test, y_train, y_test = train_test_split(X, y, test_size=0.25, random_state=42)"
      ],
      "execution_count": 0,
      "outputs": []
    },
    {
      "cell_type": "markdown",
      "metadata": {
        "id": "VTLjTmBc0noH",
        "colab_type": "text"
      },
      "source": [
        "## Augmentation part"
      ]
    },
    {
      "cell_type": "code",
      "metadata": {
        "id": "gzjNEXNM3um0",
        "colab_type": "code",
        "colab": {}
      },
      "source": [
        "!pip install --upgrade gensim -q\n",
        "!pip install annoy -q"
      ],
      "execution_count": 0,
      "outputs": []
    },
    {
      "cell_type": "code",
      "metadata": {
        "id": "A1SnneASYIMi",
        "colab_type": "code",
        "colab": {}
      },
      "source": [
        "from gensim.test.utils import datapath\n",
        "from gensim import utils\n",
        "import gensim.models"
      ],
      "execution_count": 0,
      "outputs": []
    },
    {
      "cell_type": "code",
      "metadata": {
        "id": "YM6DI0cyXrea",
        "colab_type": "code",
        "colab": {}
      },
      "source": [
        "#если файл с моделью не скачан, то\n",
        "# !wget -O mipt_vecs.w2v http://panchenko.me/data/dsl-backup/w2v-ru/all.norm-sz100-w10-cb0-it1-min100.w2v"
      ],
      "execution_count": 0,
      "outputs": []
    },
    {
      "cell_type": "code",
      "metadata": {
        "id": "mXY5fsElXrZd",
        "colab_type": "code",
        "colab": {}
      },
      "source": [
        "mipt_model = gensim.models.KeyedVectors.load_word2vec_format('mipt_vecs.w2v', binary=True, unicode_errors='ignore')"
      ],
      "execution_count": 0,
      "outputs": []
    },
    {
      "cell_type": "code",
      "metadata": {
        "id": "Qb0UeFkr3ojH",
        "colab_type": "code",
        "colab": {
          "base_uri": "https://localhost:8080/",
          "height": 74
        },
        "outputId": "de7b05c6-1410-44e4-e259-3d5b2a0f4b2a"
      },
      "source": [
        "from gensim.similarities.index import AnnoyIndexer #вопрос, может ли работать\n",
        "annoy_index = AnnoyIndexer(mipt_model, num_trees=10)"
      ],
      "execution_count": 14,
      "outputs": [
        {
          "output_type": "stream",
          "text": [
            "/usr/local/lib/python3.6/dist-packages/gensim/similarities/index.py:184: FutureWarning: The default argument for metric will be removed in future version of Annoy. Please pass metric='angular' explicitly.\n",
            "  index = AnnoyIndex(num_features)\n"
          ],
          "name": "stderr"
        }
      ]
    },
    {
      "cell_type": "code",
      "metadata": {
        "id": "gv-ytpV34KDA",
        "colab_type": "code",
        "colab": {}
      },
      "source": [
        "model = mipt_model\n",
        "import random\n",
        "def sen_aug_all_changes_annoy(sen):\n",
        "    words = sen.split(' ')\n",
        "    for i in range(len(words)):\n",
        "        if words[i] in model:\n",
        "            words[i] = model.most_similar(words[i], topn=2, indexer=annoy_index)[1][0]\n",
        "    return ' '.join(words)\n",
        "\n",
        "def sen_aug_one_change_annoy(sen):\n",
        "    words = sen.split(' ')\n",
        "    indexes = list( range(len(words)) )\n",
        "    random.shuffle(indexes)\n",
        "    for i in indexes:\n",
        "        if words[i] in model:\n",
        "            words[i] = model.most_similar(words[i], topn=2, indexer=annoy_index)[1][0]\n",
        "            return ' '.join(words)\n",
        "    return sen  # no replacement was possible"
      ],
      "execution_count": 0,
      "outputs": []
    },
    {
      "cell_type": "code",
      "metadata": {
        "id": "uuCmSVaq0m1v",
        "colab_type": "code",
        "colab": {}
      },
      "source": [
        "def augment_w2v(X_train, y_train):\n",
        "  X_train_aug = X_train.apply(lambda x: sen_aug_all_changes_annoy(x) )\n",
        "  X_train_aug = X_train_aug.append(X_train, ignore_index=True)\n",
        "  y_train_aug = y_train.append(y_train, ignore_index=True)\n",
        "  return (X_train_aug, y_train_aug)"
      ],
      "execution_count": 0,
      "outputs": []
    },
    {
      "cell_type": "code",
      "metadata": {
        "id": "Jz16Bt4t3dCi",
        "colab_type": "code",
        "colab": {}
      },
      "source": [
        "X_train_aug, y_train_aug = augment_w2v(X_train, y_train)"
      ],
      "execution_count": 0,
      "outputs": []
    },
    {
      "cell_type": "code",
      "metadata": {
        "id": "4Jv2w0W77zsl",
        "colab_type": "code",
        "colab": {}
      },
      "source": [
        "X_train_aug = X_train_aug.str.replace(r'[\\Wa-zA-Z_\\d]+', ' ')"
      ],
      "execution_count": 0,
      "outputs": []
    },
    {
      "cell_type": "code",
      "metadata": {
        "id": "xQT_n4nu-IZ8",
        "colab_type": "code",
        "colab": {
          "base_uri": "https://localhost:8080/",
          "height": 36
        },
        "outputId": "7120cadd-6203-4c00-9668-b7b283f4641c"
      },
      "source": [
        "X_train.shape"
      ],
      "execution_count": 47,
      "outputs": [
        {
          "output_type": "execute_result",
          "data": {
            "text/plain": [
              "(170125,)"
            ]
          },
          "metadata": {
            "tags": []
          },
          "execution_count": 47
        }
      ]
    },
    {
      "cell_type": "markdown",
      "metadata": {
        "id": "Cgx68eQAXsIS",
        "colab_type": "text"
      },
      "source": [
        "## Sentence vectorization\n",
        "\n"
      ]
    },
    {
      "cell_type": "code",
      "metadata": {
        "id": "LnkrYGtdXrTc",
        "colab_type": "code",
        "colab": {}
      },
      "source": [
        "n = mipt_model.vector_size\n",
        "def sen_to_vec(sentence):\n",
        "  vec = np.zeros(n)\n",
        "  words = sentence.split(' ')\n",
        "  for w in words:\n",
        "    vec += (mipt_model[w] if w in mipt_model else np.zeros(n))\n",
        "  return vec/len(words) if len(words)>0 else np.zeros(n)"
      ],
      "execution_count": 0,
      "outputs": []
    },
    {
      "cell_type": "code",
      "metadata": {
        "id": "tsh5IAGJXrK6",
        "colab_type": "code",
        "outputId": "41c0c031-5119-41fb-e179-8dbf993e5c06",
        "colab": {
          "base_uri": "https://localhost:8080/",
          "height": 54
        }
      },
      "source": [
        "%timeit sen_to_vec('я пришёл в дом')"
      ],
      "execution_count": 34,
      "outputs": [
        {
          "output_type": "stream",
          "text": [
            "The slowest run took 87.16 times longer than the fastest. This could mean that an intermediate result is being cached.\n",
            "100000 loops, best of 3: 16.1 µs per loop\n"
          ],
          "name": "stdout"
        }
      ]
    },
    {
      "cell_type": "code",
      "metadata": {
        "id": "JWY5O5bj8vIN",
        "colab_type": "code",
        "colab": {}
      },
      "source": [
        "def X_embed(X_train):\n",
        "  X_train = X_train.apply(lambda x: sen_to_vec(x))\n",
        "  return pd.DataFrame(X_train.tolist())"
      ],
      "execution_count": 0,
      "outputs": []
    },
    {
      "cell_type": "markdown",
      "metadata": {
        "id": "SDaFYXGV9Y6T",
        "colab_type": "text"
      },
      "source": [
        "Сравним результаты аугментированного набора (`X_train_aug`) и неаугментированного (`X_train`)"
      ]
    },
    {
      "cell_type": "code",
      "metadata": {
        "id": "Q4V8eFA09YXI",
        "colab_type": "code",
        "colab": {}
      },
      "source": [
        "X_train_aug_w2v = X_embed(X_train_aug)\n",
        "X_train_w2v = X_embed(X_train)\n",
        "X_test_w2v = X_embed(X_test)"
      ],
      "execution_count": 0,
      "outputs": []
    },
    {
      "cell_type": "code",
      "metadata": {
        "id": "8V1SbJSd96Qw",
        "colab_type": "code",
        "colab": {
          "base_uri": "https://localhost:8080/",
          "height": 91
        },
        "outputId": "9cb8efaa-f862-4b93-bf44-556efed7a9f3"
      },
      "source": [
        "print('Augmeted set size', len(X_train_aug_w2v) )\n",
        "print('Original set size', len(X_train_w2v) )\n",
        "print('Test set size', len(X_test_w2v) )\n",
        "\n",
        "print('Check 1:', 2*len(X_train_w2v)==len(X_train_aug_w2v) )"
      ],
      "execution_count": 46,
      "outputs": [
        {
          "output_type": "stream",
          "text": [
            "Augmeted set size 340250\n",
            "Original set size 170125\n",
            "Test set size 56709\n",
            "Check 1: True\n"
          ],
          "name": "stdout"
        }
      ]
    },
    {
      "cell_type": "code",
      "metadata": {
        "id": "3jzk7j04cgPD",
        "colab_type": "code",
        "outputId": "b2d45cb4-c47d-43a7-fe21-1c1bcc06ae16",
        "colab": {
          "base_uri": "https://localhost:8080/",
          "height": 255
        }
      },
      "source": [
        "X_train_aug_w2v.head()"
      ],
      "execution_count": 48,
      "outputs": [
        {
          "output_type": "execute_result",
          "data": {
            "text/html": [
              "<div>\n",
              "<style scoped>\n",
              "    .dataframe tbody tr th:only-of-type {\n",
              "        vertical-align: middle;\n",
              "    }\n",
              "\n",
              "    .dataframe tbody tr th {\n",
              "        vertical-align: top;\n",
              "    }\n",
              "\n",
              "    .dataframe thead th {\n",
              "        text-align: right;\n",
              "    }\n",
              "</style>\n",
              "<table border=\"1\" class=\"dataframe\">\n",
              "  <thead>\n",
              "    <tr style=\"text-align: right;\">\n",
              "      <th></th>\n",
              "      <th>0</th>\n",
              "      <th>1</th>\n",
              "      <th>2</th>\n",
              "      <th>3</th>\n",
              "      <th>4</th>\n",
              "      <th>5</th>\n",
              "      <th>6</th>\n",
              "      <th>7</th>\n",
              "      <th>8</th>\n",
              "      <th>9</th>\n",
              "      <th>10</th>\n",
              "      <th>11</th>\n",
              "      <th>12</th>\n",
              "      <th>13</th>\n",
              "      <th>14</th>\n",
              "      <th>15</th>\n",
              "      <th>16</th>\n",
              "      <th>17</th>\n",
              "      <th>18</th>\n",
              "      <th>19</th>\n",
              "      <th>20</th>\n",
              "      <th>21</th>\n",
              "      <th>22</th>\n",
              "      <th>23</th>\n",
              "      <th>24</th>\n",
              "      <th>25</th>\n",
              "      <th>26</th>\n",
              "      <th>27</th>\n",
              "      <th>28</th>\n",
              "      <th>29</th>\n",
              "      <th>30</th>\n",
              "      <th>31</th>\n",
              "      <th>32</th>\n",
              "      <th>33</th>\n",
              "      <th>34</th>\n",
              "      <th>35</th>\n",
              "      <th>36</th>\n",
              "      <th>37</th>\n",
              "      <th>38</th>\n",
              "      <th>39</th>\n",
              "      <th>...</th>\n",
              "      <th>60</th>\n",
              "      <th>61</th>\n",
              "      <th>62</th>\n",
              "      <th>63</th>\n",
              "      <th>64</th>\n",
              "      <th>65</th>\n",
              "      <th>66</th>\n",
              "      <th>67</th>\n",
              "      <th>68</th>\n",
              "      <th>69</th>\n",
              "      <th>70</th>\n",
              "      <th>71</th>\n",
              "      <th>72</th>\n",
              "      <th>73</th>\n",
              "      <th>74</th>\n",
              "      <th>75</th>\n",
              "      <th>76</th>\n",
              "      <th>77</th>\n",
              "      <th>78</th>\n",
              "      <th>79</th>\n",
              "      <th>80</th>\n",
              "      <th>81</th>\n",
              "      <th>82</th>\n",
              "      <th>83</th>\n",
              "      <th>84</th>\n",
              "      <th>85</th>\n",
              "      <th>86</th>\n",
              "      <th>87</th>\n",
              "      <th>88</th>\n",
              "      <th>89</th>\n",
              "      <th>90</th>\n",
              "      <th>91</th>\n",
              "      <th>92</th>\n",
              "      <th>93</th>\n",
              "      <th>94</th>\n",
              "      <th>95</th>\n",
              "      <th>96</th>\n",
              "      <th>97</th>\n",
              "      <th>98</th>\n",
              "      <th>99</th>\n",
              "    </tr>\n",
              "  </thead>\n",
              "  <tbody>\n",
              "    <tr>\n",
              "      <th>0</th>\n",
              "      <td>-0.054382</td>\n",
              "      <td>0.137205</td>\n",
              "      <td>-0.095994</td>\n",
              "      <td>-0.013288</td>\n",
              "      <td>-0.041406</td>\n",
              "      <td>0.316050</td>\n",
              "      <td>0.050567</td>\n",
              "      <td>0.054920</td>\n",
              "      <td>-0.208947</td>\n",
              "      <td>0.225267</td>\n",
              "      <td>0.326322</td>\n",
              "      <td>0.012957</td>\n",
              "      <td>-0.079552</td>\n",
              "      <td>-0.169117</td>\n",
              "      <td>-0.012694</td>\n",
              "      <td>-0.097051</td>\n",
              "      <td>0.152679</td>\n",
              "      <td>-0.127781</td>\n",
              "      <td>0.266471</td>\n",
              "      <td>-0.126551</td>\n",
              "      <td>0.105117</td>\n",
              "      <td>-0.110404</td>\n",
              "      <td>0.350891</td>\n",
              "      <td>-0.155198</td>\n",
              "      <td>-0.175440</td>\n",
              "      <td>-0.002162</td>\n",
              "      <td>0.062627</td>\n",
              "      <td>0.210187</td>\n",
              "      <td>-0.041145</td>\n",
              "      <td>0.200870</td>\n",
              "      <td>-0.018458</td>\n",
              "      <td>-0.023818</td>\n",
              "      <td>-0.029906</td>\n",
              "      <td>0.051719</td>\n",
              "      <td>-0.050898</td>\n",
              "      <td>-0.184290</td>\n",
              "      <td>0.090957</td>\n",
              "      <td>-0.273502</td>\n",
              "      <td>-0.127483</td>\n",
              "      <td>0.102612</td>\n",
              "      <td>...</td>\n",
              "      <td>-0.176105</td>\n",
              "      <td>0.111134</td>\n",
              "      <td>-0.051869</td>\n",
              "      <td>-0.294914</td>\n",
              "      <td>0.159276</td>\n",
              "      <td>0.119495</td>\n",
              "      <td>-0.168799</td>\n",
              "      <td>0.015283</td>\n",
              "      <td>-0.023362</td>\n",
              "      <td>0.125394</td>\n",
              "      <td>-0.456479</td>\n",
              "      <td>0.146428</td>\n",
              "      <td>-0.113375</td>\n",
              "      <td>-0.008224</td>\n",
              "      <td>-0.269178</td>\n",
              "      <td>0.130128</td>\n",
              "      <td>0.366519</td>\n",
              "      <td>-0.475991</td>\n",
              "      <td>0.026033</td>\n",
              "      <td>-0.081269</td>\n",
              "      <td>-0.102639</td>\n",
              "      <td>0.020546</td>\n",
              "      <td>-0.005222</td>\n",
              "      <td>-0.267833</td>\n",
              "      <td>-0.043674</td>\n",
              "      <td>-0.012851</td>\n",
              "      <td>-0.184007</td>\n",
              "      <td>0.203215</td>\n",
              "      <td>-0.354229</td>\n",
              "      <td>-0.030137</td>\n",
              "      <td>-0.051663</td>\n",
              "      <td>-0.144443</td>\n",
              "      <td>-0.123709</td>\n",
              "      <td>0.066022</td>\n",
              "      <td>0.006383</td>\n",
              "      <td>-0.045658</td>\n",
              "      <td>-0.130894</td>\n",
              "      <td>0.094428</td>\n",
              "      <td>0.065843</td>\n",
              "      <td>-0.043937</td>\n",
              "    </tr>\n",
              "    <tr>\n",
              "      <th>1</th>\n",
              "      <td>0.015855</td>\n",
              "      <td>0.063667</td>\n",
              "      <td>-0.127643</td>\n",
              "      <td>0.003043</td>\n",
              "      <td>0.001961</td>\n",
              "      <td>0.133128</td>\n",
              "      <td>0.032458</td>\n",
              "      <td>0.123032</td>\n",
              "      <td>-0.122892</td>\n",
              "      <td>0.325165</td>\n",
              "      <td>0.232079</td>\n",
              "      <td>0.133627</td>\n",
              "      <td>-0.152434</td>\n",
              "      <td>-0.336229</td>\n",
              "      <td>0.136132</td>\n",
              "      <td>-0.182791</td>\n",
              "      <td>0.098464</td>\n",
              "      <td>-0.092460</td>\n",
              "      <td>-0.023784</td>\n",
              "      <td>0.092582</td>\n",
              "      <td>0.176943</td>\n",
              "      <td>0.062776</td>\n",
              "      <td>0.130953</td>\n",
              "      <td>-0.239896</td>\n",
              "      <td>-0.136592</td>\n",
              "      <td>0.000762</td>\n",
              "      <td>0.018950</td>\n",
              "      <td>0.085557</td>\n",
              "      <td>-0.016827</td>\n",
              "      <td>0.283330</td>\n",
              "      <td>0.015452</td>\n",
              "      <td>0.027671</td>\n",
              "      <td>-0.014082</td>\n",
              "      <td>-0.006724</td>\n",
              "      <td>0.154101</td>\n",
              "      <td>-0.089213</td>\n",
              "      <td>0.275020</td>\n",
              "      <td>-0.091069</td>\n",
              "      <td>-0.061771</td>\n",
              "      <td>0.005584</td>\n",
              "      <td>...</td>\n",
              "      <td>-0.060967</td>\n",
              "      <td>0.207508</td>\n",
              "      <td>-0.100097</td>\n",
              "      <td>-0.132338</td>\n",
              "      <td>0.194298</td>\n",
              "      <td>0.189070</td>\n",
              "      <td>-0.186489</td>\n",
              "      <td>0.141448</td>\n",
              "      <td>0.033049</td>\n",
              "      <td>0.167900</td>\n",
              "      <td>-0.383343</td>\n",
              "      <td>0.145207</td>\n",
              "      <td>-0.292000</td>\n",
              "      <td>-0.053738</td>\n",
              "      <td>-0.139198</td>\n",
              "      <td>-0.046173</td>\n",
              "      <td>0.231929</td>\n",
              "      <td>-0.428968</td>\n",
              "      <td>0.112941</td>\n",
              "      <td>-0.164064</td>\n",
              "      <td>0.177837</td>\n",
              "      <td>0.038983</td>\n",
              "      <td>-0.034802</td>\n",
              "      <td>-0.261586</td>\n",
              "      <td>-0.176205</td>\n",
              "      <td>0.251477</td>\n",
              "      <td>-0.189818</td>\n",
              "      <td>0.212188</td>\n",
              "      <td>-0.334171</td>\n",
              "      <td>-0.142482</td>\n",
              "      <td>-0.169157</td>\n",
              "      <td>-0.021112</td>\n",
              "      <td>-0.256351</td>\n",
              "      <td>-0.109043</td>\n",
              "      <td>-0.272024</td>\n",
              "      <td>0.036886</td>\n",
              "      <td>-0.051598</td>\n",
              "      <td>0.312954</td>\n",
              "      <td>0.121376</td>\n",
              "      <td>-0.094094</td>\n",
              "    </tr>\n",
              "    <tr>\n",
              "      <th>2</th>\n",
              "      <td>-0.139771</td>\n",
              "      <td>-0.034629</td>\n",
              "      <td>-0.242599</td>\n",
              "      <td>0.085468</td>\n",
              "      <td>0.028503</td>\n",
              "      <td>0.133812</td>\n",
              "      <td>-0.009247</td>\n",
              "      <td>-0.040932</td>\n",
              "      <td>-0.403582</td>\n",
              "      <td>-0.227077</td>\n",
              "      <td>0.138229</td>\n",
              "      <td>0.076506</td>\n",
              "      <td>-0.044473</td>\n",
              "      <td>-0.276694</td>\n",
              "      <td>0.202749</td>\n",
              "      <td>0.025476</td>\n",
              "      <td>0.071257</td>\n",
              "      <td>0.165876</td>\n",
              "      <td>0.405992</td>\n",
              "      <td>-0.159416</td>\n",
              "      <td>0.246751</td>\n",
              "      <td>0.014865</td>\n",
              "      <td>0.451200</td>\n",
              "      <td>0.061227</td>\n",
              "      <td>0.284285</td>\n",
              "      <td>-0.026132</td>\n",
              "      <td>0.127577</td>\n",
              "      <td>-0.009157</td>\n",
              "      <td>-0.067277</td>\n",
              "      <td>0.436827</td>\n",
              "      <td>-0.112517</td>\n",
              "      <td>-0.037410</td>\n",
              "      <td>0.012913</td>\n",
              "      <td>0.139174</td>\n",
              "      <td>-0.025233</td>\n",
              "      <td>0.132042</td>\n",
              "      <td>0.141451</td>\n",
              "      <td>-0.179879</td>\n",
              "      <td>-0.050161</td>\n",
              "      <td>0.006221</td>\n",
              "      <td>...</td>\n",
              "      <td>-0.133779</td>\n",
              "      <td>0.290632</td>\n",
              "      <td>0.089101</td>\n",
              "      <td>0.102000</td>\n",
              "      <td>0.174014</td>\n",
              "      <td>0.225190</td>\n",
              "      <td>-0.023794</td>\n",
              "      <td>-0.279030</td>\n",
              "      <td>-0.069197</td>\n",
              "      <td>-0.013639</td>\n",
              "      <td>-0.131231</td>\n",
              "      <td>0.356143</td>\n",
              "      <td>-0.351375</td>\n",
              "      <td>0.178171</td>\n",
              "      <td>-0.190211</td>\n",
              "      <td>-0.118030</td>\n",
              "      <td>0.452199</td>\n",
              "      <td>-0.259530</td>\n",
              "      <td>0.120790</td>\n",
              "      <td>-0.126241</td>\n",
              "      <td>0.097388</td>\n",
              "      <td>0.401848</td>\n",
              "      <td>0.066724</td>\n",
              "      <td>-0.279208</td>\n",
              "      <td>-0.215351</td>\n",
              "      <td>0.085668</td>\n",
              "      <td>-0.162523</td>\n",
              "      <td>0.121388</td>\n",
              "      <td>-0.348972</td>\n",
              "      <td>0.013811</td>\n",
              "      <td>0.133845</td>\n",
              "      <td>-0.207767</td>\n",
              "      <td>-0.216514</td>\n",
              "      <td>0.207942</td>\n",
              "      <td>-0.216660</td>\n",
              "      <td>-0.081285</td>\n",
              "      <td>-0.231968</td>\n",
              "      <td>0.188551</td>\n",
              "      <td>-0.186161</td>\n",
              "      <td>0.019781</td>\n",
              "    </tr>\n",
              "    <tr>\n",
              "      <th>3</th>\n",
              "      <td>-0.214696</td>\n",
              "      <td>-0.126272</td>\n",
              "      <td>-0.046008</td>\n",
              "      <td>-0.037966</td>\n",
              "      <td>-0.025587</td>\n",
              "      <td>0.171238</td>\n",
              "      <td>-0.078571</td>\n",
              "      <td>0.035044</td>\n",
              "      <td>-0.051151</td>\n",
              "      <td>0.006033</td>\n",
              "      <td>0.230141</td>\n",
              "      <td>0.146917</td>\n",
              "      <td>0.023249</td>\n",
              "      <td>-0.185369</td>\n",
              "      <td>0.135464</td>\n",
              "      <td>0.019819</td>\n",
              "      <td>0.208784</td>\n",
              "      <td>0.134188</td>\n",
              "      <td>0.163393</td>\n",
              "      <td>-0.110884</td>\n",
              "      <td>0.268554</td>\n",
              "      <td>-0.124817</td>\n",
              "      <td>0.328390</td>\n",
              "      <td>-0.080765</td>\n",
              "      <td>-0.043472</td>\n",
              "      <td>0.034561</td>\n",
              "      <td>-0.055825</td>\n",
              "      <td>0.119039</td>\n",
              "      <td>0.116862</td>\n",
              "      <td>0.263969</td>\n",
              "      <td>-0.080987</td>\n",
              "      <td>-0.003776</td>\n",
              "      <td>0.061436</td>\n",
              "      <td>0.110685</td>\n",
              "      <td>-0.149986</td>\n",
              "      <td>0.063042</td>\n",
              "      <td>-0.017059</td>\n",
              "      <td>-0.457316</td>\n",
              "      <td>0.035171</td>\n",
              "      <td>0.024352</td>\n",
              "      <td>...</td>\n",
              "      <td>-0.068439</td>\n",
              "      <td>0.155700</td>\n",
              "      <td>0.180127</td>\n",
              "      <td>-0.074007</td>\n",
              "      <td>0.106125</td>\n",
              "      <td>0.083232</td>\n",
              "      <td>-0.261495</td>\n",
              "      <td>-0.053703</td>\n",
              "      <td>0.054144</td>\n",
              "      <td>0.057652</td>\n",
              "      <td>-0.372415</td>\n",
              "      <td>0.279088</td>\n",
              "      <td>-0.136056</td>\n",
              "      <td>-0.069525</td>\n",
              "      <td>-0.059865</td>\n",
              "      <td>-0.016758</td>\n",
              "      <td>0.376248</td>\n",
              "      <td>-0.343518</td>\n",
              "      <td>0.187140</td>\n",
              "      <td>0.219307</td>\n",
              "      <td>0.104605</td>\n",
              "      <td>0.157770</td>\n",
              "      <td>-0.104408</td>\n",
              "      <td>-0.135363</td>\n",
              "      <td>-0.253176</td>\n",
              "      <td>0.257309</td>\n",
              "      <td>-0.171109</td>\n",
              "      <td>0.366355</td>\n",
              "      <td>-0.190735</td>\n",
              "      <td>0.112855</td>\n",
              "      <td>-0.104014</td>\n",
              "      <td>-0.160146</td>\n",
              "      <td>-0.104787</td>\n",
              "      <td>0.235695</td>\n",
              "      <td>-0.133469</td>\n",
              "      <td>-0.100217</td>\n",
              "      <td>-0.151043</td>\n",
              "      <td>0.067397</td>\n",
              "      <td>0.117738</td>\n",
              "      <td>-0.154609</td>\n",
              "    </tr>\n",
              "    <tr>\n",
              "      <th>4</th>\n",
              "      <td>-0.018042</td>\n",
              "      <td>-0.077487</td>\n",
              "      <td>-0.109702</td>\n",
              "      <td>0.007798</td>\n",
              "      <td>0.128635</td>\n",
              "      <td>0.225823</td>\n",
              "      <td>0.024960</td>\n",
              "      <td>-0.008666</td>\n",
              "      <td>0.016691</td>\n",
              "      <td>0.130218</td>\n",
              "      <td>0.239337</td>\n",
              "      <td>0.171117</td>\n",
              "      <td>-0.040480</td>\n",
              "      <td>-0.227639</td>\n",
              "      <td>0.084034</td>\n",
              "      <td>-0.206949</td>\n",
              "      <td>0.174016</td>\n",
              "      <td>0.006328</td>\n",
              "      <td>0.209202</td>\n",
              "      <td>-0.145578</td>\n",
              "      <td>0.142494</td>\n",
              "      <td>0.026721</td>\n",
              "      <td>0.203722</td>\n",
              "      <td>-0.115860</td>\n",
              "      <td>-0.188641</td>\n",
              "      <td>0.059174</td>\n",
              "      <td>-0.005062</td>\n",
              "      <td>0.156399</td>\n",
              "      <td>-0.056875</td>\n",
              "      <td>0.324173</td>\n",
              "      <td>-0.231026</td>\n",
              "      <td>-0.005655</td>\n",
              "      <td>0.005738</td>\n",
              "      <td>0.009941</td>\n",
              "      <td>-0.039480</td>\n",
              "      <td>-0.018487</td>\n",
              "      <td>0.009659</td>\n",
              "      <td>-0.263334</td>\n",
              "      <td>0.005425</td>\n",
              "      <td>0.146189</td>\n",
              "      <td>...</td>\n",
              "      <td>-0.084726</td>\n",
              "      <td>0.133946</td>\n",
              "      <td>0.012461</td>\n",
              "      <td>0.013319</td>\n",
              "      <td>0.045870</td>\n",
              "      <td>0.096941</td>\n",
              "      <td>-0.135310</td>\n",
              "      <td>0.023395</td>\n",
              "      <td>0.029517</td>\n",
              "      <td>0.155049</td>\n",
              "      <td>-0.253747</td>\n",
              "      <td>0.269839</td>\n",
              "      <td>-0.123210</td>\n",
              "      <td>0.066026</td>\n",
              "      <td>0.021313</td>\n",
              "      <td>-0.111989</td>\n",
              "      <td>0.138128</td>\n",
              "      <td>-0.253760</td>\n",
              "      <td>0.157458</td>\n",
              "      <td>-0.086530</td>\n",
              "      <td>0.037991</td>\n",
              "      <td>0.027645</td>\n",
              "      <td>0.005980</td>\n",
              "      <td>-0.295395</td>\n",
              "      <td>-0.203334</td>\n",
              "      <td>0.218928</td>\n",
              "      <td>-0.151598</td>\n",
              "      <td>0.259333</td>\n",
              "      <td>-0.264160</td>\n",
              "      <td>0.027030</td>\n",
              "      <td>-0.014929</td>\n",
              "      <td>-0.052527</td>\n",
              "      <td>0.023353</td>\n",
              "      <td>0.030499</td>\n",
              "      <td>-0.163133</td>\n",
              "      <td>-0.011232</td>\n",
              "      <td>-0.161799</td>\n",
              "      <td>0.215018</td>\n",
              "      <td>-0.063733</td>\n",
              "      <td>-0.197140</td>\n",
              "    </tr>\n",
              "  </tbody>\n",
              "</table>\n",
              "<p>5 rows × 100 columns</p>\n",
              "</div>"
            ],
            "text/plain": [
              "         0         1         2   ...        97        98        99\n",
              "0 -0.054382  0.137205 -0.095994  ...  0.094428  0.065843 -0.043937\n",
              "1  0.015855  0.063667 -0.127643  ...  0.312954  0.121376 -0.094094\n",
              "2 -0.139771 -0.034629 -0.242599  ...  0.188551 -0.186161  0.019781\n",
              "3 -0.214696 -0.126272 -0.046008  ...  0.067397  0.117738 -0.154609\n",
              "4 -0.018042 -0.077487 -0.109702  ...  0.215018 -0.063733 -0.197140\n",
              "\n",
              "[5 rows x 100 columns]"
            ]
          },
          "metadata": {
            "tags": []
          },
          "execution_count": 48
        }
      ]
    },
    {
      "cell_type": "markdown",
      "metadata": {
        "id": "cfGhjUpz-0UL",
        "colab_type": "text"
      },
      "source": [
        "## Го учиться"
      ]
    },
    {
      "cell_type": "code",
      "metadata": {
        "id": "3nj67n0AXlGs",
        "colab_type": "code",
        "colab": {}
      },
      "source": [
        "from sklearn.linear_model import LogisticRegression\n",
        "from sklearn.model_selection import train_test_split\n",
        "from sklearn.metrics import f1_score, accuracy_score"
      ],
      "execution_count": 0,
      "outputs": []
    },
    {
      "cell_type": "markdown",
      "metadata": {
        "id": "g1KWuMcq-9ZM",
        "colab_type": "text"
      },
      "source": [
        "Original set"
      ]
    },
    {
      "cell_type": "code",
      "metadata": {
        "id": "8Ln7riLf-8p-",
        "colab_type": "code",
        "colab": {
          "base_uri": "https://localhost:8080/",
          "height": 110
        },
        "outputId": "28490ca2-bcce-4adc-f8e7-76b3e36d00d5"
      },
      "source": [
        "clf_origin = LogisticRegression(max_iter=400)\n",
        "clf_origin.fit(X_train_w2v, y_train)"
      ],
      "execution_count": 55,
      "outputs": [
        {
          "output_type": "execute_result",
          "data": {
            "text/plain": [
              "LogisticRegression(C=1.0, class_weight=None, dual=False, fit_intercept=True,\n",
              "                   intercept_scaling=1, l1_ratio=None, max_iter=400,\n",
              "                   multi_class='auto', n_jobs=None, penalty='l2',\n",
              "                   random_state=None, solver='lbfgs', tol=0.0001, verbose=0,\n",
              "                   warm_start=False)"
            ]
          },
          "metadata": {
            "tags": []
          },
          "execution_count": 55
        }
      ]
    },
    {
      "cell_type": "code",
      "metadata": {
        "id": "iyRVf9yt_HpT",
        "colab_type": "code",
        "colab": {}
      },
      "source": [
        "y_pred = clf_origin.predict(X_test_w2v)"
      ],
      "execution_count": 0,
      "outputs": []
    },
    {
      "cell_type": "code",
      "metadata": {
        "id": "0wU4P9_1_K08",
        "colab_type": "code",
        "colab": {
          "base_uri": "https://localhost:8080/",
          "height": 36
        },
        "outputId": "488f89c3-4184-4a4e-fb1a-3450d6439ff5"
      },
      "source": [
        "accuracy_score(y_pred, y_test)"
      ],
      "execution_count": 59,
      "outputs": [
        {
          "output_type": "execute_result",
          "data": {
            "text/plain": [
              "0.6718862967077536"
            ]
          },
          "metadata": {
            "tags": []
          },
          "execution_count": 59
        }
      ]
    },
    {
      "cell_type": "code",
      "metadata": {
        "id": "ng3qF0i8_ipn",
        "colab_type": "code",
        "colab": {}
      },
      "source": [
        "def bootstrap_toy(y_pred, y_test, num=1000 ):\n",
        "  answers = (y_pred == y_test.values)\n",
        "  samples_num = len(answers)\n",
        "  means = np.array([np.mean( answers[ np.random.randint(len(answers), size=samples_num) ] ) for _ in range(num)])\n",
        "  print(f'Mean: {means.mean():.3f} +/- {means.std()*2:.3f} (95% conf.)')"
      ],
      "execution_count": 0,
      "outputs": []
    },
    {
      "cell_type": "code",
      "metadata": {
        "id": "yzqAp5Uf-74O",
        "colab_type": "code",
        "colab": {
          "base_uri": "https://localhost:8080/",
          "height": 36
        },
        "outputId": "bb113540-7c3a-4bc9-969b-3afd551ead3f"
      },
      "source": [
        "bootstrap_toy(y_pred, y_test)"
      ],
      "execution_count": 62,
      "outputs": [
        {
          "output_type": "stream",
          "text": [
            "Mean: 0.672 +/- 0.004 (95% conf.)\n"
          ],
          "name": "stdout"
        }
      ]
    },
    {
      "cell_type": "markdown",
      "metadata": {
        "id": "32sKrZ1U_6s-",
        "colab_type": "text"
      },
      "source": [
        "Augmented set"
      ]
    },
    {
      "cell_type": "code",
      "metadata": {
        "id": "RjGALj5i_5dn",
        "colab_type": "code",
        "colab": {
          "base_uri": "https://localhost:8080/",
          "height": 110
        },
        "outputId": "ba7955a9-17a8-4d8e-e884-4ea68a3d0dca"
      },
      "source": [
        "clf_aug = LogisticRegression(max_iter=400)\n",
        "clf_aug.fit(X_train_aug_w2v, y_train_aug)"
      ],
      "execution_count": 64,
      "outputs": [
        {
          "output_type": "execute_result",
          "data": {
            "text/plain": [
              "LogisticRegression(C=1.0, class_weight=None, dual=False, fit_intercept=True,\n",
              "                   intercept_scaling=1, l1_ratio=None, max_iter=400,\n",
              "                   multi_class='auto', n_jobs=None, penalty='l2',\n",
              "                   random_state=None, solver='lbfgs', tol=0.0001, verbose=0,\n",
              "                   warm_start=False)"
            ]
          },
          "metadata": {
            "tags": []
          },
          "execution_count": 64
        }
      ]
    },
    {
      "cell_type": "code",
      "metadata": {
        "id": "O_kYKThU_5wT",
        "colab_type": "code",
        "colab": {}
      },
      "source": [
        "y_pred = clf_aug.predict(X_test_w2v)"
      ],
      "execution_count": 0,
      "outputs": []
    },
    {
      "cell_type": "code",
      "metadata": {
        "id": "lTIuBBFiAQng",
        "colab_type": "code",
        "colab": {
          "base_uri": "https://localhost:8080/",
          "height": 36
        },
        "outputId": "b86a84ba-5e02-4505-9181-197791ad8017"
      },
      "source": [
        "accuracy_score(y_pred, y_test)"
      ],
      "execution_count": 70,
      "outputs": [
        {
          "output_type": "execute_result",
          "data": {
            "text/plain": [
              "0.6678481369800208"
            ]
          },
          "metadata": {
            "tags": []
          },
          "execution_count": 70
        }
      ]
    },
    {
      "cell_type": "code",
      "metadata": {
        "id": "ipDbU4x_AD5u",
        "colab_type": "code",
        "colab": {
          "base_uri": "https://localhost:8080/",
          "height": 36
        },
        "outputId": "952e8a39-3ce4-4a30-8b5f-d368f03c46a4"
      },
      "source": [
        "bootstrap_toy(y_pred, y_test)"
      ],
      "execution_count": 71,
      "outputs": [
        {
          "output_type": "stream",
          "text": [
            "Mean: 0.668 +/- 0.004 (95% conf.)\n"
          ],
          "name": "stdout"
        }
      ]
    },
    {
      "cell_type": "markdown",
      "metadata": {
        "id": "jVKOjHs8D0lq",
        "colab_type": "text"
      },
      "source": [
        "???"
      ]
    },
    {
      "cell_type": "code",
      "metadata": {
        "id": "72gyq9KODzvu",
        "colab_type": "code",
        "colab": {
          "base_uri": "https://localhost:8080/",
          "height": 36
        },
        "outputId": "45c356f5-c73f-4b43-9b7d-3533edf6f427"
      },
      "source": [
        "X_train_aug_w2v.shape"
      ],
      "execution_count": 105,
      "outputs": [
        {
          "output_type": "execute_result",
          "data": {
            "text/plain": [
              "(340250, 100)"
            ]
          },
          "metadata": {
            "tags": []
          },
          "execution_count": 105
        }
      ]
    },
    {
      "cell_type": "code",
      "metadata": {
        "id": "m7O-LW4vCQcn",
        "colab_type": "code",
        "colab": {
          "base_uri": "https://localhost:8080/",
          "height": 36
        },
        "outputId": "ee9df872-35bb-4c1b-a911-6cc39452b02c"
      },
      "source": [
        "X_train_w2v.shape"
      ],
      "execution_count": 106,
      "outputs": [
        {
          "output_type": "execute_result",
          "data": {
            "text/plain": [
              "(170125, 100)"
            ]
          },
          "metadata": {
            "tags": []
          },
          "execution_count": 106
        }
      ]
    },
    {
      "cell_type": "code",
      "metadata": {
        "id": "0i_a_XckEZrq",
        "colab_type": "code",
        "colab": {}
      },
      "source": [
        ""
      ],
      "execution_count": 0,
      "outputs": []
    }
  ]
}