{
 "cells": [
  {
   "cell_type": "code",
   "execution_count": 25,
   "metadata": {},
   "outputs": [],
   "source": [
    "import pandas as pd\n",
    "import random\n",
    "\n",
    "\n",
    "class RandomWordDeletion:\n",
    "    #randomly deletes one word from sentence\n",
    "    def delete_random_word(self, sentence):\n",
    "        words = sentence.split()\n",
    "        sentence_length = len(words)\n",
    "    \n",
    "        if sentence_length == 1:\n",
    "            return sentence\n",
    "\n",
    "        random_ind = random.randint(0, sentence_length - 1)\n",
    "        del words[random_ind]\n",
    "        return ' '.join(words)        \n",
    "    "
   ]
  },
  {
   "cell_type": "code",
   "execution_count": 26,
   "metadata": {},
   "outputs": [
    {
     "data": {
      "text/plain": [
       "'Однажды в студеную зимнюю пору я из лесу'"
      ]
     },
     "execution_count": 26,
     "metadata": {},
     "output_type": "execute_result"
    }
   ],
   "source": [
    "delete = RandomWordDeletion()\n",
    "delete.delete_random_word('Однажды в студеную зимнюю пору я из лесу вышел.')"
   ]
  },
  {
   "cell_type": "code",
   "execution_count": null,
   "metadata": {},
   "outputs": [],
   "source": []
  }
 ],
 "metadata": {
  "kernelspec": {
   "display_name": "Python 3",
   "language": "python",
   "name": "python3"
  },
  "language_info": {
   "codemirror_mode": {
    "name": "ipython",
    "version": 3
   },
   "file_extension": ".py",
   "mimetype": "text/x-python",
   "name": "python",
   "nbconvert_exporter": "python",
   "pygments_lexer": "ipython3",
   "version": "3.7.3"
  }
 },
 "nbformat": 4,
 "nbformat_minor": 4
}
