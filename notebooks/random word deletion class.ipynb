{
 "cells": [
  {
   "cell_type": "code",
   "execution_count": 2,
   "metadata": {},
   "outputs": [],
   "source": [
    "#not all of these are necessary\n",
    "import nltk\n",
    "from string import punctuation\n",
    "from sklearn.feature_extraction.text import TfidfVectorizer\n",
    "import pandas as pd\n",
    "from sklearn.linear_model import LogisticRegression\n",
    "from sklearn.model_selection import train_test_split\n",
    "from sklearn.metrics import f1_score\n",
    "from sklearn.metrics import accuracy_score\n",
    "import random\n",
    "import re\n",
    "\n",
    "class RandomWordDeletion:\n",
    "    #randomly deletes one word from sentence\n",
    "    def delete_random_word(self, sentence):\n",
    "        sentence_length = len(sentence.split())\n",
    "    \n",
    "        if sentence_length == 1:\n",
    "            return ''.join(sentence)\n",
    "\n",
    "        new_sentence = []\n",
    "        new_sentence_string = ''\n",
    "        r = random.randint(0, sentence_length)\n",
    "    \n",
    "        for word in sentence.split():\n",
    "            if sentence.split().index(word) != r:\n",
    "                new_sentence.append(word)\n",
    "            \n",
    "        new_sentence_string = ' '.join(new_sentence)        \n",
    "        return new_sentence_string\n",
    "    \n",
    "    #cleans punctuation and http links from sentence\n",
    "    def standardize_text(self, text):\n",
    "        text = re.sub(r\"http\\S+\", r\"\", text)\n",
    "        text = re.sub(r'[\\W\\d]', r' ', text)\n",
    "        text = re.sub(r'_', r'', text)\n",
    "        text = text.lower()\n",
    "        return text\n",
    "    "
   ]
  },
  {
   "cell_type": "code",
   "execution_count": null,
   "metadata": {},
   "outputs": [],
   "source": []
  }
 ],
 "metadata": {
  "kernelspec": {
   "display_name": "Python 3",
   "language": "python",
   "name": "python3"
  },
  "language_info": {
   "codemirror_mode": {
    "name": "ipython",
    "version": 3
   },
   "file_extension": ".py",
   "mimetype": "text/x-python",
   "name": "python",
   "nbconvert_exporter": "python",
   "pygments_lexer": "ipython3",
   "version": "3.8.1"
  }
 },
 "nbformat": 4,
 "nbformat_minor": 4
}
