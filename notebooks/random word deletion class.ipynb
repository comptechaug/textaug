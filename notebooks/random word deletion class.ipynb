{
 "cells": [
  {
   "cell_type": "code",
   "execution_count": 17,
   "metadata": {},
   "outputs": [],
   "source": [
    "import pandas as pd\n",
    "import random\n",
    "\n",
    "class RandomWordDeletion:\n",
    "    #randomly deletes n words from sentence where n <= half of sentence length\n",
    "    def delete_random_word(self, sentence):\n",
    "        words = sentence.split()\n",
    "        sentence_length = len(words)\n",
    "        print(\"Sentence of length\", sentence_length)\n",
    "    \n",
    "        if sentence_length == 1:\n",
    "            return sentence\n",
    "\n",
    "        #how many words to delete\n",
    "        how_many = random.randint(0, round(0.5 * sentence_length))\n",
    "        print(\"Deleting\", how_many, \"words\")\n",
    "        \n",
    "        #choose a random word in the sentence and delete it, how_many times\n",
    "        for i in range(how_many):\n",
    "            to_delete = random.randint(0, sentence_length - 1)\n",
    "            del words[to_delete]\n",
    "            sentence_length -= 1\n",
    "            \n",
    "        return ' '.join(words)        \n",
    "    "
   ]
  },
  {
   "cell_type": "code",
   "execution_count": 21,
   "metadata": {},
   "outputs": [
    {
     "name": "stdout",
     "output_type": "stream",
     "text": [
      "Sentence of length 9\n",
      "Deleting 4 words\n"
     ]
    },
    {
     "data": {
      "text/plain": [
       "'в студеную зимнюю пору из'"
      ]
     },
     "execution_count": 21,
     "metadata": {},
     "output_type": "execute_result"
    }
   ],
   "source": [
    "delete = RandomWordDeletion()\n",
    "delete.delete_random_word('Однажды в студеную зимнюю пору я из лесу вышел.')"
   ]
  }
 ],
 "metadata": {
  "kernelspec": {
   "display_name": "Python 3",
   "language": "python",
   "name": "python3"
  },
  "language_info": {
   "codemirror_mode": {
    "name": "ipython",
    "version": 3
   },
   "file_extension": ".py",
   "mimetype": "text/x-python",
   "name": "python",
   "nbconvert_exporter": "python",
   "pygments_lexer": "ipython3",
   "version": "3.8.1"
  }
 },
 "nbformat": 4,
 "nbformat_minor": 4
}
