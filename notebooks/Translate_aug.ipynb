{
  "nbformat": 4,
  "nbformat_minor": 0,
  "metadata": {
    "colab": {
      "name": "Translate.ipynb",
      "provenance": [],
      "collapsed_sections": []
    },
    "kernelspec": {
      "name": "python3",
      "display_name": "Python 3"
    }
  },
  "cells": [
    {
      "cell_type": "code",
      "metadata": {
        "id": "Upx-MzolYaJ6",
        "colab_type": "code",
        "outputId": "a3ef02e1-1473-4fe0-ee52-63a1eaba1466",
        "colab": {
          "base_uri": "https://localhost:8080/",
          "height": 36
        }
      },
      "source": [
        "from google.colab import drive\n",
        "drive.mount('/content/drive')"
      ],
      "execution_count": 0,
      "outputs": [
        {
          "output_type": "stream",
          "text": [
            "Drive already mounted at /content/drive; to attempt to forcibly remount, call drive.mount(\"/content/drive\", force_remount=True).\n"
          ],
          "name": "stdout"
        }
      ]
    },
    {
      "cell_type": "code",
      "metadata": {
        "id": "FtEn5ie8pFof",
        "colab_type": "code",
        "outputId": "750601db-83d4-434a-a43b-5ed56091914a",
        "colab": {
          "base_uri": "https://localhost:8080/",
          "height": 36
        }
      },
      "source": [
        "%cd drive/My\\ Drive/textaug/notebooks/Word2Vec"
      ],
      "execution_count": 0,
      "outputs": [
        {
          "output_type": "stream",
          "text": [
            "/content/drive/My Drive/textaug/notebooks/Word2Vec\n"
          ],
          "name": "stdout"
        }
      ]
    },
    {
      "cell_type": "code",
      "metadata": {
        "id": "C-KVmSBxYa2y",
        "colab_type": "code",
        "outputId": "93a32f1e-bc7c-472a-e539-e5306557cdf5",
        "colab": {
          "base_uri": "https://localhost:8080/",
          "height": 128
        }
      },
      "source": [
        "!pip install yandex.translate"
      ],
      "execution_count": 0,
      "outputs": [
        {
          "output_type": "stream",
          "text": [
            "Requirement already satisfied: yandex.translate in /usr/local/lib/python3.6/dist-packages (0.3.5)\n",
            "Requirement already satisfied: requests>=1.2.3 in /usr/local/lib/python3.6/dist-packages (from yandex.translate) (2.21.0)\n",
            "Requirement already satisfied: certifi>=2017.4.17 in /usr/local/lib/python3.6/dist-packages (from requests>=1.2.3->yandex.translate) (2019.11.28)\n",
            "Requirement already satisfied: idna<2.9,>=2.5 in /usr/local/lib/python3.6/dist-packages (from requests>=1.2.3->yandex.translate) (2.8)\n",
            "Requirement already satisfied: chardet<3.1.0,>=3.0.2 in /usr/local/lib/python3.6/dist-packages (from requests>=1.2.3->yandex.translate) (3.0.4)\n",
            "Requirement already satisfied: urllib3<1.25,>=1.21.1 in /usr/local/lib/python3.6/dist-packages (from requests>=1.2.3->yandex.translate) (1.24.3)\n"
          ],
          "name": "stdout"
        }
      ]
    },
    {
      "cell_type": "code",
      "metadata": {
        "id": "qMImg47Eb8cF",
        "colab_type": "code",
        "colab": {}
      },
      "source": [
        "import numpy as np\n",
        "import pandas as pd"
      ],
      "execution_count": 0,
      "outputs": []
    },
    {
      "cell_type": "code",
      "metadata": {
        "id": "wZj17hDkY8Fz",
        "colab_type": "code",
        "colab": {}
      },
      "source": [
        "class Translate:\n",
        "  def __init__(self, yandex_translate_api_key=''):\n",
        "    self.trans = YandexTranslate(yandex_translate_api_key)\n",
        "  \n",
        "  def augment_text(self, text, batch_size=20):\n",
        "    if isinstance(x, str):\n",
        "      return t.translate( t.translate(text, 'ru-en')['text'], 'en-ru' )['text']\n",
        "    else:\n",
        "      return [ t.translate( t.translate(text[i:i+batch_size], 'ru-en')['text'], 'en-ru' )['text'] for i in range(0, len(text), batch_size)]"
      ],
      "execution_count": 0,
      "outputs": []
    },
    {
      "cell_type": "code",
      "metadata": {
        "id": "UXKGUXOmoTNj",
        "colab_type": "code",
        "colab": {}
      },
      "source": [
        "tw = pd.read_csv('../../data/twitts/positive.csv', sep=';', header=None)[3]"
      ],
      "execution_count": 0,
      "outputs": []
    },
    {
      "cell_type": "code",
      "metadata": {
        "id": "yC-U459mmrRA",
        "colab_type": "code",
        "colab": {}
      },
      "source": [
        "key ='' #you can get key there https://translate.yandex.com/developers/keys (1e6 symbols per day limit)\n",
        "a = Translate(key)"
      ],
      "execution_count": 0,
      "outputs": []
    },
    {
      "cell_type": "code",
      "metadata": {
        "id": "T1laUbxem1lQ",
        "colab_type": "code",
        "outputId": "254e4f80-dae8-4833-bf9a-5414282dfe61",
        "colab": {
          "base_uri": "https://localhost:8080/",
          "height": 54
        }
      },
      "source": [
        "%%time\n",
        "tw_aug = a.augment_text(tw[:50]);"
      ],
      "execution_count": 0,
      "outputs": [
        {
          "output_type": "stream",
          "text": [
            "CPU times: user 27.2 ms, sys: 3.49 ms, total: 30.6 ms\n",
            "Wall time: 8.53 s\n"
          ],
          "name": "stdout"
        }
      ]
    },
    {
      "cell_type": "code",
      "metadata": {
        "id": "s2cxrT89us1o",
        "colab_type": "code",
        "outputId": "81d1871f-4b08-432a-b66d-ad2bf63126af",
        "colab": {
          "base_uri": "https://localhost:8080/",
          "height": 54
        }
      },
      "source": [
        "%%time\n",
        "twaug = a.augment_text(tw[:100], batch_size=20);"
      ],
      "execution_count": 0,
      "outputs": [
        {
          "output_type": "stream",
          "text": [
            "CPU times: user 133 ms, sys: 6.33 ms, total: 139 ms\n",
            "Wall time: 17.1 s\n"
          ],
          "name": "stdout"
        }
      ]
    },
    {
      "cell_type": "code",
      "metadata": {
        "id": "s_F7OBEgvP1y",
        "colab_type": "code",
        "outputId": "9344aa58-75e8-4a6b-d9fc-e7179673db7a",
        "colab": {
          "base_uri": "https://localhost:8080/",
          "height": 54
        }
      },
      "source": [
        "%%time\n",
        "twaug = a.augment_text(tw[:100], batch_size=50);"
      ],
      "execution_count": 0,
      "outputs": [
        {
          "output_type": "stream",
          "text": [
            "CPU times: user 51.8 ms, sys: 7.01 ms, total: 58.9 ms\n",
            "Wall time: 14.2 s\n"
          ],
          "name": "stdout"
        }
      ]
    },
    {
      "cell_type": "code",
      "metadata": {
        "id": "OobyrZ17xqdN",
        "colab_type": "code",
        "outputId": "e7ca115d-a781-4fb3-8333-a037accb7f0d",
        "colab": {
          "base_uri": "https://localhost:8080/",
          "height": 54
        }
      },
      "source": [
        "%%time\n",
        "twaug = a.augment_text(tw[:100], batch_size=100);"
      ],
      "execution_count": 0,
      "outputs": [
        {
          "output_type": "stream",
          "text": [
            "CPU times: user 31.7 ms, sys: 2.05 ms, total: 33.8 ms\n",
            "Wall time: 13.4 s\n"
          ],
          "name": "stdout"
        }
      ]
    },
    {
      "cell_type": "code",
      "metadata": {
        "id": "2yvee442uDRs",
        "colab_type": "code",
        "colab": {}
      },
      "source": [
        ""
      ],
      "execution_count": 0,
      "outputs": []
    }
  ]
}